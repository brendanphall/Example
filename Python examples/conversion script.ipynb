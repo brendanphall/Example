{
 "cells": [
  {
   "cell_type": "code",
   "execution_count": 1,
   "metadata": {
    "collapsed": true,
    "ExecuteTime": {
     "end_time": "2023-09-22T19:53:58.348163Z",
     "start_time": "2023-09-22T19:53:30.396108Z"
    }
   },
   "outputs": [],
   "source": [
    "import csv\n",
    "\n",
    "# Read the text file\n",
    "with open('1x1_1x1.txt', 'r') as file:\n",
    "    lines = file.readlines()\n",
    "\n",
    "# Prepare CSV output\n",
    "csv_data = [['name', 'count', 'pos1', 'pos2', 'AH', 'AW', 'BH', 'BW']]\n",
    "for line in lines[1:]:\n",
    "    row = line.strip().replace(\"'\", \"\").replace(\"[\", \"\").replace(\"]\", \"\").split()\n",
    "\n",
    "    # If the row contains fewer than 8 values, append empty values\n",
    "    if len(row) < 8:\n",
    "        row += [''] * (8 - len(row))\n",
    "    elif len(row) > 8:\n",
    "        row = row[:8]\n",
    "\n",
    "    name = row[0]\n",
    "    count, pos1, pos2, AH, AW, BH, BW = row[1:]\n",
    "\n",
    "    csv_data.append([name, count, pos1, pos2, AH, AW, BH, BW])\n",
    "\n",
    "# Write CSV output\n",
    "with open('1up_dict.csv', 'w', newline='', encoding='utf-8') as file:\n",
    "    writer = csv.writer(file)\n",
    "    writer.writerows(csv_data)\n"
   ]
  },
  {
   "cell_type": "code",
   "execution_count": 7,
   "outputs": [],
   "source": [],
   "metadata": {
    "collapsed": false,
    "ExecuteTime": {
     "end_time": "2023-08-21T17:23:50.675462Z",
     "start_time": "2023-08-21T17:23:50.672225Z"
    }
   }
  },
  {
   "cell_type": "code",
   "execution_count": null,
   "outputs": [],
   "source": [],
   "metadata": {
    "collapsed": false
   }
  }
 ],
 "metadata": {
  "kernelspec": {
   "display_name": "Python 3",
   "language": "python",
   "name": "python3"
  },
  "language_info": {
   "codemirror_mode": {
    "name": "ipython",
    "version": 2
   },
   "file_extension": ".py",
   "mimetype": "text/x-python",
   "name": "python",
   "nbconvert_exporter": "python",
   "pygments_lexer": "ipython2",
   "version": "2.7.6"
  }
 },
 "nbformat": 4,
 "nbformat_minor": 0
}
