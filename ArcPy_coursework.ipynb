{
 "cells": [
  {
   "cell_type": "code",
   "execution_count": 1,
   "metadata": {},
   "outputs": [],
   "source": [
    "import arcpy\n",
    "import pandas as pd\n",
    "import numpy as np\n",
    "from arcgis import GIS\n",
    "gis=GIS()"
   ]
  },
  {
   "cell_type": "code",
   "execution_count": 2,
   "metadata": {},
   "outputs": [],
   "source": [
    "import arcgis\n",
    "from arcgis.gis import GIS"
   ]
  },
  {
   "cell_type": "code",
   "execution_count": 3,
   "metadata": {},
   "outputs": [],
   "source": [
    "from arcgis.features import FeatureLayer"
   ]
  },
  {
   "cell_type": "code",
   "execution_count": 4,
   "metadata": {},
   "outputs": [
    {
     "name": "stdout",
     "output_type": "stream",
     "text": [
      "········\n"
     ]
    }
   ],
   "source": [
    "from getpass import getpass\n",
    "password=getpass()"
   ]
  },
  {
   "cell_type": "code",
   "execution_count": 5,
   "metadata": {},
   "outputs": [],
   "source": [
    "gis=GIS(\"http://umainegis.maps.arcgis.com\", \"brendan.hall_UMaineGIS\", password)\n",
    "#gis = GIS()"
   ]
  },
  {
   "cell_type": "code",
   "execution_count": 6,
   "metadata": {},
   "outputs": [],
   "source": [
    "LakeSet=gis.content.get('c2fd2b338e454156b320b379d5358755')"
   ]
  },
  {
   "cell_type": "code",
   "execution_count": 7,
   "metadata": {},
   "outputs": [
    {
     "data": {
      "text/html": [
       "<div class=\"item_container\" style=\"height: auto; overflow: hidden; border: 1px solid #cfcfcf; border-radius: 2px; background: #f6fafa; line-height: 1.21429em; padding: 10px;\">\n",
       "                    <div class=\"item_left\" style=\"width: 210px; float: left;\">\n",
       "                       <a href='http://UMaineGIS.maps.arcgis.com/home/item.html?id=c2fd2b338e454156b320b379d5358755' target='_blank'>\n",
       "                        <img src='data:image/png;base64,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' width='200' height='133' class=\"itemThumbnail\">\n",
       "                       </a>\n",
       "                    </div>\n",
       "\n",
       "                    <div class=\"item_right\"     style=\"float: none; width: auto; overflow: hidden;\">\n",
       "                        <a href='http://UMaineGIS.maps.arcgis.com/home/item.html?id=c2fd2b338e454156b320b379d5358755' target='_blank'><b>LakeSet</b>\n",
       "                        </a>\n",
       "                        <br/>Subset of Maine Lakes, extracted from NHD<img src='http://UMaineGIS.maps.arcgis.com/home/js/jsapi/esri/css/images/item_type_icons/featureshosted16.png' style=\"vertical-align:middle;\">Feature Layer Collection by KateBeard\n",
       "                        <br/>Last Modified: February 22, 2021\n",
       "                        <br/>0 comments, 122 views\n",
       "                    </div>\n",
       "                </div>\n",
       "                "
      ],
      "text/plain": [
       "<Item title:\"LakeSet\" type:Feature Layer Collection owner:KateBeard>"
      ]
     },
     "execution_count": 7,
     "metadata": {},
     "output_type": "execute_result"
    }
   ],
   "source": [
    "LakeSet"
   ]
  },
  {
   "cell_type": "code",
   "execution_count": 8,
   "metadata": {},
   "outputs": [
    {
     "data": {
      "text/plain": [
       "arcgis.gis.Item"
      ]
     },
     "execution_count": 8,
     "metadata": {},
     "output_type": "execute_result"
    }
   ],
   "source": [
    "type(LakeSet)"
   ]
  },
  {
   "cell_type": "code",
   "execution_count": 9,
   "metadata": {},
   "outputs": [],
   "source": [
    "LakeSet_Layers = LakeSet.layers"
   ]
  },
  {
   "cell_type": "code",
   "execution_count": 10,
   "metadata": {},
   "outputs": [
    {
     "data": {
      "text/plain": [
       "list"
      ]
     },
     "execution_count": 10,
     "metadata": {},
     "output_type": "execute_result"
    }
   ],
   "source": [
    "type(LakeSet_Layers)"
   ]
  },
  {
   "cell_type": "code",
   "execution_count": 11,
   "metadata": {},
   "outputs": [
    {
     "data": {
      "text/plain": [
       "[<FeatureLayer url:\"https://services1.arcgis.com/PbxdWcUY1TFauNzT/arcgis/rest/services/LakeSet/FeatureServer/0\">,\n",
       " <FeatureLayer url:\"https://services1.arcgis.com/PbxdWcUY1TFauNzT/arcgis/rest/services/LakeSet/FeatureServer/1\">]"
      ]
     },
     "execution_count": 11,
     "metadata": {},
     "output_type": "execute_result"
    }
   ],
   "source": [
    "LakeSet_Layers"
   ]
  },
  {
   "cell_type": "code",
   "execution_count": 12,
   "metadata": {},
   "outputs": [],
   "source": [
    "LL1=LakeSet_Layers[0]"
   ]
  },
  {
   "cell_type": "code",
   "execution_count": 13,
   "metadata": {},
   "outputs": [
    {
     "data": {
      "text/plain": [
       "arcgis.features.layer.FeatureLayer"
      ]
     },
     "execution_count": 13,
     "metadata": {},
     "output_type": "execute_result"
    }
   ],
   "source": [
    "type(LL1)"
   ]
  },
  {
   "cell_type": "code",
   "execution_count": 14,
   "metadata": {},
   "outputs": [],
   "source": [
    "LL2=LakeSet_Layers[1]"
   ]
  },
  {
   "cell_type": "code",
   "execution_count": 15,
   "metadata": {},
   "outputs": [
    {
     "name": "stdout",
     "output_type": "stream",
     "text": [
      "<FeatureLayer url:\"https://services1.arcgis.com/PbxdWcUY1TFauNzT/arcgis/rest/services/LakeSet/FeatureServer/0\">\n"
     ]
    }
   ],
   "source": [
    "print(LL1)"
   ]
  },
  {
   "cell_type": "code",
   "execution_count": 16,
   "metadata": {},
   "outputs": [
    {
     "name": "stdout",
     "output_type": "stream",
     "text": [
      "<FeatureLayer url:\"https://services1.arcgis.com/PbxdWcUY1TFauNzT/arcgis/rest/services/LakeSet/FeatureServer/1\">\n"
     ]
    }
   ],
   "source": [
    "print(LL2)"
   ]
  },
  {
   "cell_type": "code",
   "execution_count": 17,
   "metadata": {},
   "outputs": [
    {
     "name": "stdout",
     "output_type": "stream",
     "text": [
      "OBJECTID\n",
      "TYPERAMP\n",
      "LNGTRAMP\n",
      "WIDRAMP\n",
      "GRADE\n",
      "LaunchID\n",
      "ImageLink\n"
     ]
    }
   ],
   "source": [
    "for i in LL1.properties.fields:\n",
    "    print(i['name'])"
   ]
  },
  {
   "cell_type": "code",
   "execution_count": 18,
   "metadata": {},
   "outputs": [
    {
     "name": "stdout",
     "output_type": "stream",
     "text": [
      "OBJECTID_1\n",
      "OBJECTID\n",
      "ComID\n",
      "Permanent_\n",
      "FDate\n",
      "Resolution\n",
      "GNIS_ID\n",
      "GNIS_Name\n",
      "AreaSqKm\n",
      "Elevation\n",
      "ReachCode\n",
      "FType\n",
      "FCode\n",
      "Shape_Leng\n",
      "Shape__Area\n",
      "Shape__Length\n"
     ]
    }
   ],
   "source": [
    "for i in LL2.properties.fields:\n",
    "    print(i['name'])"
   ]
  },
  {
   "cell_type": "code",
   "execution_count": 19,
   "metadata": {},
   "outputs": [
    {
     "data": {
      "text/plain": [
       "arcgis.features.layer.FeatureLayer"
      ]
     },
     "execution_count": 19,
     "metadata": {},
     "output_type": "execute_result"
    }
   ],
   "source": [
    "type(LL2)"
   ]
  },
  {
   "cell_type": "code",
   "execution_count": null,
   "metadata": {},
   "outputs": [],
   "source": [
    "arcpy.MakeFeatureLayer_management(\"LL1\", \"parcels_lyr\")"
   ]
  },
  {
   "cell_type": "code",
   "execution_count": 21,
   "metadata": {},
   "outputs": [
    {
     "data": {
      "text/plain": [
       "arcgis.features.feature.FeatureSet"
      ]
     },
     "execution_count": 21,
     "metadata": {},
     "output_type": "execute_result"
    }
   ],
   "source": [
    "result = LL2.query(where='AreaSqKm>9')\n",
    "#print(result)\n",
    "type(result)"
   ]
  },
  {
   "cell_type": "code",
   "execution_count": 22,
   "metadata": {
    "scrolled": true
   },
   "outputs": [
    {
     "data": {
      "text/html": [
       "<div>\n",
       "<style scoped>\n",
       "    .dataframe tbody tr th:only-of-type {\n",
       "        vertical-align: middle;\n",
       "    }\n",
       "\n",
       "    .dataframe tbody tr th {\n",
       "        vertical-align: top;\n",
       "    }\n",
       "\n",
       "    .dataframe thead th {\n",
       "        text-align: right;\n",
       "    }\n",
       "</style>\n",
       "<table border=\"1\" class=\"dataframe\">\n",
       "  <thead>\n",
       "    <tr style=\"text-align: right;\">\n",
       "      <th></th>\n",
       "      <th>OBJECTID_1</th>\n",
       "      <th>OBJECTID</th>\n",
       "      <th>ComID</th>\n",
       "      <th>Permanent_</th>\n",
       "      <th>FDate</th>\n",
       "      <th>Resolution</th>\n",
       "      <th>GNIS_ID</th>\n",
       "      <th>GNIS_Name</th>\n",
       "      <th>AreaSqKm</th>\n",
       "      <th>Elevation</th>\n",
       "      <th>ReachCode</th>\n",
       "      <th>FType</th>\n",
       "      <th>FCode</th>\n",
       "      <th>Shape_Leng</th>\n",
       "      <th>Shape__Area</th>\n",
       "      <th>Shape__Length</th>\n",
       "      <th>SHAPE</th>\n",
       "    </tr>\n",
       "  </thead>\n",
       "  <tbody>\n",
       "    <tr>\n",
       "      <th>0</th>\n",
       "      <td>12</td>\n",
       "      <td>450</td>\n",
       "      <td>2678978</td>\n",
       "      <td>2678978</td>\n",
       "      <td>1999-07-04</td>\n",
       "      <td>3</td>\n",
       "      <td>00567021</td>\n",
       "      <td>Graham Lake</td>\n",
       "      <td>39.775</td>\n",
       "      <td>0</td>\n",
       "      <td>01050002003903</td>\n",
       "      <td>390</td>\n",
       "      <td>39004</td>\n",
       "      <td>1.534238</td>\n",
       "      <td>3.974493e+07</td>\n",
       "      <td>146822.922018</td>\n",
       "      <td>{\"rings\": [[[550413.1548, 4955632.2241], [5504...</td>\n",
       "    </tr>\n",
       "    <tr>\n",
       "      <th>1</th>\n",
       "      <td>23</td>\n",
       "      <td>478</td>\n",
       "      <td>2680654</td>\n",
       "      <td>2680654</td>\n",
       "      <td>1999-07-04</td>\n",
       "      <td>3</td>\n",
       "      <td>00581429</td>\n",
       "      <td>Green Lake</td>\n",
       "      <td>12.721</td>\n",
       "      <td>0</td>\n",
       "      <td>01050002003875</td>\n",
       "      <td>390</td>\n",
       "      <td>39004</td>\n",
       "      <td>0.418624</td>\n",
       "      <td>1.271159e+07</td>\n",
       "      <td>38116.829023</td>\n",
       "      <td>{\"rings\": [[[535531.7203, 4946543.3917], [5356...</td>\n",
       "    </tr>\n",
       "    <tr>\n",
       "      <th>2</th>\n",
       "      <td>37</td>\n",
       "      <td>1163</td>\n",
       "      <td>2679104</td>\n",
       "      <td>2679104</td>\n",
       "      <td>1999-07-04</td>\n",
       "      <td>3</td>\n",
       "      <td></td>\n",
       "      <td>Branch Lake</td>\n",
       "      <td>11.934</td>\n",
       "      <td>0</td>\n",
       "      <td>01050002003913</td>\n",
       "      <td>390</td>\n",
       "      <td>39004</td>\n",
       "      <td>0.395041</td>\n",
       "      <td>1.192472e+07</td>\n",
       "      <td>36788.427087</td>\n",
       "      <td>{\"rings\": [[[535196.31, 4942162.8667], [535204...</td>\n",
       "    </tr>\n",
       "  </tbody>\n",
       "</table>\n",
       "</div>"
      ],
      "text/plain": [
       "   OBJECTID_1  OBJECTID    ComID Permanent_      FDate  Resolution   GNIS_ID  \\\n",
       "0          12       450  2678978    2678978 1999-07-04           3  00567021   \n",
       "1          23       478  2680654    2680654 1999-07-04           3  00581429   \n",
       "2          37      1163  2679104    2679104 1999-07-04           3             \n",
       "\n",
       "     GNIS_Name  AreaSqKm  Elevation       ReachCode  FType  FCode  Shape_Leng  \\\n",
       "0  Graham Lake    39.775          0  01050002003903    390  39004    1.534238   \n",
       "1   Green Lake    12.721          0  01050002003875    390  39004    0.418624   \n",
       "2  Branch Lake    11.934          0  01050002003913    390  39004    0.395041   \n",
       "\n",
       "    Shape__Area  Shape__Length  \\\n",
       "0  3.974493e+07  146822.922018   \n",
       "1  1.271159e+07   38116.829023   \n",
       "2  1.192472e+07   36788.427087   \n",
       "\n",
       "                                               SHAPE  \n",
       "0  {\"rings\": [[[550413.1548, 4955632.2241], [5504...  \n",
       "1  {\"rings\": [[[535531.7203, 4946543.3917], [5356...  \n",
       "2  {\"rings\": [[[535196.31, 4942162.8667], [535204...  "
      ]
     },
     "execution_count": 22,
     "metadata": {},
     "output_type": "execute_result"
    }
   ],
   "source": [
    "result.sdf"
   ]
  },
  {
   "cell_type": "code",
   "execution_count": 23,
   "metadata": {},
   "outputs": [
    {
     "name": "stdout",
     "output_type": "stream",
     "text": [
      "{\"features\": [{\"geometry\": {\"rings\": [[[550413.1548, 4955632.2241], [550415.3528, 4955597.4925], [550390.4899, 4955526.1786], [550397.1292, 4955385.1545], [550399.7813, 4955369.9486], [550427.9825, 4955337.1388], [550438.4049, 4955304.1972], [550413.3727, 4955255.7441], [550375.5238, 4955222.4323], [550363.0689, 4955189.3191], [550366.3413, 4954762.614], [550354.2083, 4954688.8596], [550354.6199, 4954635.5178], [550374.9392, 4954635.684], [550405.1799, 4954666.396], [550422.4993, 4954727.4972], [550482.4723, 4954854.9492], [550512.8163, 4954872.9614], [550568.7005, 4954873.3923], [550594.0217, 4954883.7447], [550616.988, 4954868.6836], [550642.7936, 4954818.0742], [550670.9078, 4954795.433], [550693.7854, 4954793.0579], [550721.5305, 4954818.6713], [550746.8517, 4954829.0317], [550790.2628, 4954798.8834], [550813.1457, 4954796.5088], [550840.8702, 4954824.6776], [550832.4984, 4954921.1333], [550826.3859, 4955055.7032], [550847.5415, 4955279.3968], [550837.0727, 4955319.9507], [550800.9899, 4955388.2601], [550792.7489, 4955407.3617], [550792.0492, 4955498.7828], [550859.0371, 4955705.049], [550847.7225, 4955854.8195], [550857.4601, 4955910.7818], [550882.6417, 4955938.9086], [550966.1362, 4955982.7381], [551006.3897, 4956031.3141], [551044.3768, 4956046.8343], [551066.8683, 4956095.27], [551087.198, 4956092.8909], [551089.8218, 4956082.7582], [551082.7858, 4956006.4949], [551027.8306, 4955886.6898], [551023.0605, 4955846.008], [551043.5319, 4955825.8482], [551153.1088, 4955780.9857], [551183.8397, 4955748.1917], [551191.7824, 4955707.6183], [551156.3118, 4955694.6353], [551156.453, 4955676.862], [551161.5899, 4955669.2821], [551242.9513, 4955659.7456], [551367.6607, 4955627.6787], [551459.6162, 4955559.8037], [551485.2326, 4955532.0582], [551498.1728, 4955501.6787], [551541.7051, 4955456.2875], [551638.335, 4955441.7977], [551663.5813, 4955462.3221], [551665.7228, 4955513.1295], [551675.7083, 4955536.0718], [551721.0774, 4955582.1383], [551781.9814, 4955590.2335], [551802.3486, 4955582.7691], [551815.1731, 4955567.6159], [551828.1603, 4955529.6166], [551826.2904, 4955443.2404], [551804.2627, 4955395.939], [551781.5903, 4955370.3764], [551784.3124, 4955347.5361], [551820.2222, 4955302.0781], [551818.0562, 4955253.8033], [551777.4665, 4955245.8784], [551713.8124, 4955265.7039], [551578.4383, 4955363.7328], [551484.2292, 4955393.4844], [551453.1915, 4955404.812], [551353.2899, 4955513.2603], [551312.5456, 4955528.1919], [551266.7646, 4955535.4555], [551152.8313, 4955486.3147], [551094.4394, 4955483.3406], [551036.127, 4955467.6517], [550962.3191, 4955487.4042], [550919.2224, 4955476.9098], [550917.075, 4955426.0953], [550933.0613, 4955389.2733], [550943.4905, 4955353.7923], [550949.2026, 4954939.7998], [550974.7991, 4954914.5925], [550975.0402, 4954884.1114], [550947.2508, 4954863.5845], [550939.8361, 4954838.1234], [550940.2916, 4954777.1686], [550948.0078, 4954764.521], [550945.7598, 4954726.4144], [550935.6859, 4954716.1664], [550907.7604, 4954713.4276], [550854.274, 4954733.3346], [550829.0023, 4954715.3461], [550811.4915, 4954679.6594], [550730.2943, 4954668.8809], [550674.239, 4954691.3093], [550643.8, 4954686.0043], [550560.3871, 4954632.019], [550416.6792, 4954491.2095], [550363.6386, 4954452.7133], [550320.4996, 4954447.2958], [550285.1497, 4954419.0921], [550282.7986, 4954393.6713], [550301.0758, 4954330.3006], [550278.3991, 4954304.7287], [550258.0984, 4954302.0375], [550239.7834, 4954373.0139], [550196.2678, 4954415.8662], [550135.2193, 4954428.0996], [550081.5554, 4954470.8663], [550043.3307, 4954485.8107], [550018.0911, 4954465.3077], [549995.523, 4954427.0142], [549985.9237, 4954353.2877], [550029.4868, 4954302.8284], [550039.8297, 4954280.054], [550022.6145, 4954206.2462], [549906.6474, 4954091.0587], [549844.0686, 4953971.1982], [549804.3821, 4953846.4274], [549786.6632, 4953838.6846], [549761.1066, 4953858.8017], [549619.124, 4953824.684], [549528.0619, 4953775.734], [549439.7661, 4953696.309], [549373.9688, 4953662.7891], [549341.229, 4953626.9677], [549326.5339, 4953555.7437], [549306.5856, 4953507.3267], [549251.1131, 4953453.5578], [549188.2884, 4953364.185], [549189.157, 4953252.4216], [549148.5976, 4953241.9514], [549123.3311, 4953223.9698], [549029.3507, 4953223.2543], [548943.1911, 4953197.2047], [548912.9087, 4953171.5578], [548890.45, 4953118.0576], [548891.1156, 4953031.6876], [548924.681, 4952960.8382], [548955.4906, 4952917.8809], [548955.7028, 4952889.94], [548859.7085, 4952820.6258], [548799.2298, 4952756.6622], [548721.7494, 4952593.4946], [548672.2895, 4952417.8607], [548660.1863, 4952339.03], [548665.4345, 4952318.7478], [548602.6308, 4952226.8188], [548605.4818, 4952186.2116], [548639.2122, 4952095.0329], [548685.3904, 4952034.4236], [548710.8932, 4952021.9077], [548728.8188, 4952001.7287], [548731.4788, 4951986.5149], [548764.5624, 4951979.1444], [548784.759, 4951994.5384], [548825.3599, 4951999.9336], [548894.023, 4951990.2929], [548919.1829, 4952020.9738], [548967.3779, 4952028.9602], [549087.1481, 4951979.0738], [549120.1935, 4951976.7778], [549181.0094, 4951995.0303], [549254.4224, 4952028.6283], [549353.2982, 4952052.2462], [549437.141, 4952050.3408], [549541.4268, 4952030.8119], [549633.2354, 4951983.2537], [549671.2713, 4951991.1746], [549663.0709, 4952067.3108], [549678.3086, 4952067.4281], [549708.9316, 4952049.8751], [549731.7686, 4952052.584], [549746.698, 4952093.3502], [549797.319, 4952116.5881], [549809.7868, 4952147.1671], [549761.3085, 4952174.7427], [549766.2165, 4952197.6426], [549778.8216, 4952210.4262], [549877.8409, 4952216.2718], [549897.9464, 4952244.3773], [549895.1317, 4952279.9113], [549884.8217, 4952300.1533], [549886.9485, 4952353.5145], [549922.3692, 4952371.5628], [549914.4702, 4952407.0575], [549881.1963, 4952439.8155], [549850.0458, 4952528.49], [549862.3018, 4952586.9952], [549882.4401, 4952610.0278], [549892.3135, 4952648.2076], [549973.2603, 4952692.0036], [550214.2557, 4953062.1577], [550242.2427, 4953057.2879], [550222.5462, 4952975.847], [550141.9944, 4952881.2537], [550099.3632, 4952809.8032], [550089.9399, 4952713.216], [550057.479, 4952639.2973], [550040.1961, 4952575.6648], [550007.0746, 4952588.109], [549986.8131, 4952580.3386], [549987.1372, 4952537.1646], [549994.8646, 4952524.5234], [549997.9397, 4952453.4209], [550018.4525, 4952428.1703], [550064.4207, 4952398.0443], [550067.1325, 4952375.2033], [550036.7715, 4952359.7262], [550001.5965, 4952308.6636], [549991.9202, 4952245.0903], [549969.5118, 4952186.484], [549926.6969, 4952137.8955], [549916.7547, 4952109.8909], [549876.5624, 4952051.1621], [549861.796, 4951990.0825], [549813.8658, 4951946.5282], [549814.1298, 4951910.9819], [549834.7417, 4951873.0304], [549847.8078, 4951824.8819], [549851.0792, 4951730.9189], [549874.3494, 4951677.7616], [549920.4872, 4951622.2336], [549961.7286, 4951543.7986], [549967.6347, 4951437.1549], [549990.7388, 4951404.3185], [550021.1582, 4951412.175], [550033.6658, 4951437.6668], [550035.9009, 4951478.3351], [550005.0093, 4951531.4255], [550003.8829, 4951678.7572], [550081.6901, 4951801.2695], [550179.6932, 4951939.1813], [550287.5785, 4952112.7276], [550333.1484, 4952133.4049], [550348.4362, 4952128.4438], [550345.2316, 4952113.5107], [550343.5197, 4952105.5434], [550265.7502, 4951977.9401], [550253.3884, 4951934.6673], [550122.9718, 4951717.7628], [550060.2954, 4951610.6087], [550057.9619, 4951582.6407], [550088.583, 4951565.0895], [550129.1358, 4951575.558], [550157.079, 4951575.7753], [550177.4857, 4951563.2255], [550182.9408, 4951515.0111], [550208.4182, 4951505.0484], [550246.397, 4951520.5855], [550261.7258, 4951510.5367], [550269.8244, 4951447.1016], [550282.5977, 4951437.0254], [550297.7775, 4951444.7644], [550315.0624, 4951510.9451], [550340.4013, 4951518.7635], [550386.7374, 4951437.8381], [550419.9291, 4951415.2281], [550468.6292, 4951359.7165], [550488.9934, 4951354.8029], [550501.6081, 4951365.0551], [550536.6492, 4951431.3607], [550549.2742, 4951441.6205], [550572.133, 4951441.7997], [550584.9864, 4951421.5713], [550585.2957, 4951383.4851], [550542.5994, 4951319.6521], [550542.8926, 4951281.551], [550558.2119, 4951271.5028], [550616.6197, 4951271.9534], [550712.5992, 4951343.8115], [550755.4484, 4951387.3176], [550793.1066, 4951443.4917], [550825.87, 4951476.7579], [550846.1941, 4951476.9181], [550853.9739, 4951456.6502], [550846.7148, 4951410.8689], [550834.1596, 4951390.4629], [550700.363, 4951282.7498], [550660.2722, 4951211.3159], [550660.6858, 4951157.9744], [550650.8144, 4951119.8083], [550627.9744, 4951117.0961], [550609.7015, 4951180.4584], [550584.1332, 4951203.1199], [550495.0211, 4951230.3864], [550446.876, 4951214.7683], [550424.2692, 4951181.5834], [550398.9146, 4951176.2974], [550378.03, 4951249.8082], [550347.5111, 4951254.6504], [550319.6854, 4951239.1993], [550304.6835, 4951208.5996], [550307.5747, 4951162.8981], [550320.3829, 4951147.7566], [550371.2169, 4951143.0655], [550386.5758, 4951127.9442], [550389.5417, 4951072.0898], [550372.0248, 4951038.93], [550349.3126, 4951018.4458], [550224.8761, 4951014.9503], [550209.5173, 4951030.0721], [550216.4018, 4951126.6541], [550178.2625, 4951131.4452], [550158.1256, 4951108.4266], [550055.3246, 4950932.3749], [550055.6886, 4950884.1061], [550025.3757, 4950863.564], [550015.4017, 4950838.0845], [550013.3487, 4950774.5556], [550021.1016, 4950756.8416], [550092.5408, 4950716.7523], [550093.206, 4950630.3974], [550141.7893, 4950587.5836], [550149.5086, 4950574.9425], [550152.5121, 4950514.0006], [550127.8688, 4950414.7553], [550128.3623, 4950351.2462], [550167.0038, 4950280.4203], [550172.9823, 4950163.6241], [550180.7615, 4950143.3629], [550206.3469, 4950118.1671], [550217.0566, 4950047.1317], [550209.7516, 4950006.4313], [550203.0234, 4949889.5437], [550241.8411, 4949795.8577], [550282.6516, 4949773.2988], [550310.3597, 4949803.99], [550310.0482, 4949844.6311], [550289.1607, 4949918.142], [550288.5827, 4949994.3367], [550306.0939, 4950030.0289], [550323.7923, 4950040.3204], [550402.4896, 4950046.015], [550430.2952, 4950064.0064], [550465.8504, 4950064.2696], [550499.0984, 4950034.0396], [550537.2989, 4950021.6376], [550596.0461, 4949978.8994], [550616.3895, 4949976.5261], [550636.5484, 4949996.9913], [550656.4983, 4950045.4121], [550648.6085, 4950080.9132], [550628.236, 4950088.374], [550620.4807, 4950106.0947], [550635.0014, 4950200.1895], [550659.9715, 4950256.263], [550715.0402, 4950360.8299], [550737.1304, 4950462.5978], [550757.3072, 4950480.5306], [550777.2852, 4950526.4119], [550800.0767, 4950534.1972], [550812.9473, 4950511.4365], [550853.826, 4950481.2685], [550851.6061, 4950440.6148], [550813.6517, 4950419.994], [550771.1413, 4950333.3139], [550771.4158, 4950297.7529], [550784.352, 4950267.372], [550817.6658, 4950229.531], [550888.9947, 4950202.1359], [550899.3512, 4950176.8079], [550889.4396, 4950143.7142], [550841.4673, 4950105.2475], [550839.1323, 4950079.8195], [550862.2804, 4950041.8985], [550867.6509, 4950003.8523], [550850.5525, 4949914.8246], [550825.627, 4949851.1152], [550823.6359, 4949779.9955], [550859.5636, 4949734.5398], [550867.3895, 4949706.6664], [550850.62, 4949574.4501], [550830.67, 4949526.0362], [550828.3989, 4949490.4478], [550838.7215, 4949470.2073], [550871.9288, 4949445.0742], [550907.5276, 4949440.2596], [550978.515, 4949458.5793], [551001.4304, 4949451.1397], [551024.4411, 4949430.9924], [551055.2896, 4949382.9721], [551086.946, 4949228.2765], [551098.3894, 4949063.2675], [551118.9966, 4949025.3126], [551157.3897, 4948987.506], [551160.0959, 4948964.6655], [551154.628, 4948964.0297], [551066.2019, 4948953.7907], [550986.9014, 4949026.845], [550956.0518, 4949074.8582], [550859.4436, 4949086.8195], [550826.2985, 4949101.8072], [550816.0312, 4949116.9677], [550785.4473, 4949129.428], [550729.5712, 4949129.0109], [550653.6533, 4949092.8738], [550625.9384, 4949062.1737], [550623.905, 4948996.1195], [550644.8482, 4948914.9894], [550655.9819, 4948788.0659], [550621.3293, 4948668.4336], [550580.1018, 4948414.1185], [550530.0016, 4948322.2858], [550527.813, 4948276.5448], [550558.7228, 4948220.9021], [550640.827, 4948112.3089], [550636.1377, 4948061.4753], [550636.0849, 4948061.4749], [550585.3204, 4948063.6172], [550503.7861, 4948096.0165], [550463.1192, 4948100.7863], [550425.1759, 4948080.183], [550407.5714, 4948057.1836], [550350.1498, 4947927.1996], [550304.8981, 4947865.8892], [550206.1718, 4947821.9521], [550165.8624, 4947778.47], [550163.671, 4947732.7292], [550171.4134, 4947717.5481], [550204.7691, 4947672.0836], [550205.0259, 4947639.0629], [550149.9602, 4947531.9684], [550112.5304, 4947445.3182], [550042.1892, 4947343.1718], [550027.7327, 4947241.4441], [550002.9233, 4947165.0606], [549991.1145, 4947048.1345], [550002.0659, 4946944.0783], [550020.3334, 4946880.6998], [550016.101, 4946771.453], [549988.9482, 4946667.1018], [549946.3935, 4946585.4861], [549916.536, 4946503.9836], [549899.7492, 4946374.3184], [549844.3501, 4946310.3783], [549842.2303, 4946257.0177], [549863.0396, 4946193.6954], [549869.6512, 4945993.078], [549877.5857, 4945952.4886], [549918.7991, 4945876.6157], [549952.4086, 4945800.6546], [549979.389, 4945595.1218], [550002.3848, 4945577.5257], [550043.0816, 4945570.2054], [550086.1827, 4945580.7075], [550098.9619, 4945570.631], [550104.272, 4945540.1898], [550071.9086, 4945453.5869], [550072.4399, 4945385.0204], [550095.6284, 4945342.0094], [550103.7316, 4945278.5746], [550088.6906, 4945253.0634], [550055.7799, 4945237.5672], [550007.5488, 4945234.6462], [549987.1528, 4945244.664], [549969.1709, 4945269.9195], [549963.8219, 4945305.441], [549971.3846, 4945313.12], [549973.7697, 4945333.4527], [549932.9486, 4945355.9989], [549892.3253, 4945355.6851], [549882.4949, 4945312.4333], [549923.3591, 4945282.2665], [549928.6294, 4945256.8978], [549908.724, 4945203.4221], [549906.4812, 4945165.3018], [549916.8021, 4945145.0673], [549957.6677, 4945114.8859], [549970.9724, 4945036.2501], [549938.2618, 4944995.3615], [549938.6294, 4944947.1006], [550007.7025, 4944884.1371], [550065.0916, 4944686.446], [550049.8327, 4944688.8607], [550024.2033, 4944719.152], [549985.592, 4944784.8984], [549980.3212, 4944810.2522], [549872.8162, 4944918.6502], [549852.4285, 4944926.1283], [549822.049, 4944913.1931], [549786.951, 4944851.9579], [549686.1148, 4944752.1143], [549673.7447, 4944708.8508], [549633.5891, 4944645.0448], [549633.7505, 4944624.7171], [549679.8591, 4944574.2749], [549687.6821, 4944548.9257], [549642.2701, 4944507.9411], [549632.6175, 4944441.8145], [549604.9524, 4944413.7341], [549599.8485, 4944408.5479], [549582.0517, 4944410.9589], [549543.6963, 4944443.6799], [549505.2103, 4944494.1963], [549458.6609, 4944603.0461], [549448.1797, 4944643.6164], [549414.8142, 4944689.0847], [549401.7045, 4944742.3285], [549373.1815, 4944818.3015], [549256.1895, 4944837.7304], [549182.2037, 4944880.3428], [549131.0497, 4944925.6698], [549105.3431, 4944966.1175], [549067.0758, 4944988.6886], [549023.9551, 4944980.7408], [548995.947, 4944988.1268], [548957.8917, 4944982.7654], [548925.04, 4944959.6549], [548920.4763, 4944893.568], [548928.4005, 4944852.9998], [548962.0031, 4944777.0633], [548965.4028, 4944665.3207], [548973.0915, 4944655.2182], [548976.1887, 4944584.1238], [548966.323, 4944545.9462], [548966.9003, 4944469.7449], [549010.7422, 4944383.7181], [549001.116, 4944312.5272], [548928.5068, 4944174.8071], [548913.6805, 4944121.351], [548909.6207, 4943989.2379], [548899.8358, 4943940.893], [548900.2584, 4943885.0195], [548923.474, 4943839.4717], [548942.0217, 4943738.0269], [548967.9103, 4943674.7257], [548956.203, 4943545.0875], [548936.4207, 4943476.3528], [548936.882, 4943415.3918], [548968.0012, 4943331.8087], [549016.6898, 4943276.301], [549005.5985, 4943065.389], [549059.6892, 4942969.287], [549078.0295, 4942895.7534], [549075.5375, 4942895.9567], [549050.0665, 4942898.0815], [548993.7804, 4942950.9912], [548880.331, 4943171.1139], [548826.4363, 4943241.8244], [548798.4088, 4943254.3138], [548765.4538, 4943246.4446], [548752.8639, 4943231.1086], [548745.9207, 4943142.1424], [548731.0276, 4943096.3143], [548727.0501, 4942954.0268], [548745.5555, 4942860.1869], [548715.8687, 4942755.8232], [548711.4485, 4942669.4164], [548699.3321, 4942593.1345], [548714.6527, 4942583.0966], [548801.0813, 4942573.5948], [548834.1846, 4942563.6766], [548857.3307, 4942525.7635], [548878.8153, 4942376.07], [548912.1395, 4942335.6864], [548920.0335, 4942300.1836], [548900.0004, 4942261.922], [548898.197, 4942165.3963], [548924.451, 4942053.8196], [548957.6531, 4942031.2165], [549092.3624, 4942019.5514], [549097.4968, 4942011.9698], [549079.974, 4941978.8145], [549029.4162, 4941945.4014], [549006.8321, 4941912.2079], [548996.9376, 4941876.5705], [548994.9379, 4941805.4377], [548967.5735, 4941731.558], [548950.3952, 4941652.6898], [548948.4717, 4941571.397], [548966.4576, 4941543.5912], [549053.002, 4941521.4], [549091.2684, 4941498.8286], [549088.807, 4941488.6566], [549078.158, 4941477.8449], [549068.6373, 4941468.1822], [549015.5002, 4941442.3777], [548975.1077, 4941409.0421], [548805.016, 4941400.1141], [548743.8804, 4941419.9598], [548721.1103, 4941409.635], [548721.1868, 4941399.4749], [548777.5935, 4941331.3226], [548785.3675, 4941311.0672], [548765.7101, 4941224.5382], [548735.5181, 4941186.2081], [548684.7249, 4941185.8258], [548628.4516, 4941236.1987], [548587.6415, 4941258.7463], [548542.4511, 4941189.8224], [548542.8132, 4941141.5544], [548563.5384, 4941088.3663], [548582.0026, 4940999.6137], [548633.2902, 4940936.5168], [548641.3423, 4940880.6861], [548629.0113, 4940832.3376], [548627.132, 4940745.965], [548637.7611, 4940685.0808], [548730.339, 4940535.9219], [548746.162, 4940459.8359], [548753.8657, 4940449.7406], [548830.3133, 4940417.3021], [548830.4719, 4940396.9745], [548780.0936, 4940340.7183], [548777.8003, 4940310.2189], [548788.2102, 4940277.2826], [548811.3396, 4940241.8872], [548887.6799, 4940224.7117], [548897.9319, 4940212.0809], [548906.2119, 4940125.7776], [548967.7949, 4940044.9726], [548988.7661, 4939958.7728], [548986.5452, 4939918.1059], [548971.5411, 4939887.5251], [548938.5222, 4939887.2606], [548902.6709, 4939925.0922], [548891.712, 4940029.1564], [548881.4216, 4940046.8525], [548840.6415, 4940064.3185], [548779.8034, 4940048.6187], [548759.4231, 4940056.0856], [548659.6602, 4940146.744], [548629.1157, 4940156.6825], [548560.7024, 4940133.2926], [548520.3828, 4940092.3475], [548508.0959, 4940036.3643], [548495.5634, 4940015.9564], [548449.9395, 4940002.9065], [548409.6079, 4939961.9547], [548387.1844, 4939905.9034], [548354.4881, 4939862.4688], [548365.5112, 4939750.7986], [548350.2331, 4939755.75], [548319.1489, 4939834.2631], [548298.6601, 4939856.9643], [548275.7596, 4939861.8664], [548248.1133, 4939823.5504], [548179.7677, 4939792.5445], [548149.5004, 4939764.3849], [548139.5002, 4939743.9818], [548142.6597, 4939662.72], [548179.1096, 4939546.1658], [548204.7018, 4939520.9473], [548251.0458, 4939440.0221], [548272.1493, 4939338.5802], [548283.6126, 4939168.497], [548297.3211, 4939036.5181], [548333.596, 4938942.8102], [548341.8746, 4938779.3092], [548342.5894, 4938765.0733], [548319.6903, 4938769.9753], [548275.4721, 4938904.2593], [548238.528, 4939084.3355], [548199.5164, 4939203.403], [548196.6692, 4939244.017], [548206.5051, 4939287.2805], [548203.3099, 4939371.0821], [548174.8703, 4939436.8998], [548093.5301, 4939443.9082], [548068.0001, 4939461.4775], [548074.5299, 4939603.7826], [548074.0048, 4939672.3631], [548032.899, 4939732.9997], [547997.1601, 4939755.5887], [547869.8217, 4939800.3465], [547757.8753, 4939824.8695], [547701.9879, 4939824.4574], [547636.3392, 4939773.1411], [547566.0241, 4939668.4552], [547541.197, 4939592.068], [547534.3011, 4939498.0314], [547514.019, 4939492.8022], [547454.8797, 4939586.3248], [547414.1113, 4939603.7998], [547383.6726, 4939598.4892], [547358.4186, 4939577.9683], [547333.3711, 4939532.0623], [547331.9062, 4939392.3354], [547352.791, 4939318.8383], [547356.3625, 4939184.2434], [547387.1111, 4939148.921], [547463.6784, 4939101.2484], [547527.6161, 4939045.8636], [547535.4022, 4939023.0593], [547541.3493, 4938911.336], [547587.2252, 4938891.3665], [547584.9097, 4938860.8676], [547569.8937, 4938832.823], [547565.2305, 4938776.8978], [547609.36, 4938652.7766], [547588.564, 4938658.0744], [547561.0145, 4938665.1073], [547535.4058, 4938690.3135], [547488.9458, 4938789.0239], [547452.2919, 4938930.9818], [547444.0595, 4939009.659], [547290.397, 4939173.5859], [547249.6133, 4939193.5946], [547181.1084, 4939182.9047], [547099.2517, 4939258.4839], [547063.5503, 4939275.9979], [546959.4953, 4939265.0299], [546916.0423, 4939300.2623], [546880.4128, 4939310.15], [546862.7373, 4939294.7663], [546777.4936, 4939149.3388], [546775.1849, 4939118.8403], [546785.4396, 4939106.221], [546785.7491, 4939065.5882], [546723.2198, 4938940.6395], [546724.4799, 4938775.546], [546694.4792, 4938711.811], [546666.8162, 4938676.0421], [546664.5959, 4938635.3762], [546674.8824, 4938617.6767], [546759.0693, 4938570.0656], [546766.8585, 4938547.2604], [546767.7657, 4938430.4274], [546785.8819, 4938387.3757], [546786.0889, 4938359.4429], [546751.1516, 4938277.8984], [546757.3398, 4938133.1545], [546745.1308, 4938069.57], [546758.3383, 4938003.6362], [546735.6973, 4937975.5089], [546578.843, 4937893.0203], [546563.7786, 4937870.0432], [546564.238, 4937809.0904], [546592.8405, 4937722.9532], [546628.7683, 4937674.9637], [546649.1718, 4937664.9575], [546888.0629, 4937649.0123], [546954.268, 4937626.6527], [547053.9681, 4937543.5956], [547054.6008, 4937462.308], [547121.0828, 4937404.4122], [547131.4992, 4937371.4735], [547126.7491, 4937328.249], [547078.6032, 4937312.6358], [547065.5361, 4937360.7963], [547014.4157, 4937403.5854], [546965.3227, 4937509.8933], [546919.2498, 4937555.26], [546868.1816, 4937590.4375], [546842.7265, 4937597.8591], [546718.5862, 4937556.2758], [546626.9706, 4937578.4326], [546604.1472, 4937573.1658], [546576.4527, 4937542.4849], [546572.0305, 4937456.0881], [546562.0505, 4937433.1551], [546539.19, 4937432.9686], [546531.4733, 4937445.6065], [546538.569, 4937514.2562], [546538.0105, 4937585.3689], [546517.6069, 4937595.3755], [546484.741, 4937577.3438], [546461.8627, 4937579.7124], [546431.1015, 4937615.0242], [546427.6529, 4937734.3864], [546407.0992, 4937764.6987], [546373.9422, 4937782.2348], [546341.0247, 4937769.2763], [546308.2757, 4937733.4727], [546303.5385, 4937687.7088], [546280.9179, 4937657.0505], [546177.0227, 4937625.7829], [546154.3417, 4937602.7377], [546149.4117, 4937582.3889], [546096.6615, 4937505.7867], [546051.2097, 4937469.8718], [545894.1007, 4937420.4127], [545706.306, 4937398.6528], [545558.8285, 4937417.8463], [545402.9794, 4937536.035], [545209.832, 4937549.7917], [545161.402, 4937572.2782], [545099.8056, 4937655.6292], [545020.5425, 4937723.5949], [544995.0971, 4937728.4984], [544908.8961, 4937707.5124], [544774.3827, 4937693.7843], [544688.8695, 4937581.3685], [544625.4276, 4937573.2515], [544579.6833, 4937577.9798], [544505.4888, 4937646.0015], [544439.4202, 4937650.5689], [544436.7773, 4937663.2441], [544396.0108, 4937680.7159], [544395.9305, 4937690.8832], [544219.8786, 4937793.6765], [544184.0682, 4937826.4242], [544180.8772, 4937910.2269], [544188.3529, 4937930.5916], [544190.2989, 4938006.8089], [544242.8791, 4938106.2776], [544254.8565, 4938200.3519], [544249.1408, 4938284.1374], [544210.9025, 4938301.6276], [544162.7853, 4938283.4665], [544099.7551, 4938222.0219], [544049.1384, 4938196.239], [544031.3429, 4938198.6359], [543987.8196, 4938244.033], [543940.876, 4938403.6985], [543863.5626, 4938547.8806], [543812.329, 4938603.365], [543715.876, 4938595.0187], [543690.2599, 4938622.7577], [543690.0278, 4938653.2377], [543710.1913, 4938673.7171], [543709.8457, 4938719.4372], [543666.3914, 4938754.6541], [543668.5579, 4938802.9387], [543711.4907, 4938836.2946], [543744.0051, 4938902.5799], [543769.1951, 4938930.7065], [543802.0548, 4938951.2794], [543821.9168, 4939009.8592], [543879.5835, 4939109.3595], [543901.5572, 4939223.8369], [543926.626, 4939267.2041], [543989.0594, 4939407.395], [544024.3914, 4939438.139], [544069.9958, 4939451.1944], [544110.1888, 4939509.921], [544209.901, 4939757.0764], [544237.4927, 4939802.9949], [544310.6539, 4939869.6057], [544366.2786, 4939900.5128], [544417.0011, 4939911.0583], [544470.4058, 4939903.8342], [544524.3125, 4939830.5923], [544557.412, 4939820.6743], [544556.9114, 4939884.1819], [544538.6882, 4939942.465], [544489.7503, 4940030.9966], [544489.5425, 4940058.9293], [544514.569, 4940107.3938], [544605.3462, 4940194.4429], [544798.3008, 4940206.0842], [544864.1026, 4940237.0662], [544901.8715, 4940280.5255], [544973.9087, 4940491.9099], [544998.2642, 4940629.2621], [545085.0348, 4940906.787], [545150.5286, 4940978.4197], [545152.7395, 4941021.6103], [545145.0651, 4941029.1772], [545096.8858, 4941018.6585], [545078.9827, 4941033.7524], [545091.1681, 4941099.8887], [545088.4012, 4941130.3513], [545070.4914, 4941147.9853], [544979.0491, 4941147.2824], [544943.3235, 4941169.8733], [544884.411, 4941232.9164], [544868.9083, 4941265.8234], [544807.4114, 4941336.4697], [544764.0683, 4941356.4687], [544693.0109, 4941348.2978], [544655.0156, 4941335.3051], [544604.1259, 4941347.6178], [544580.8133, 4941405.8584], [544677.1902, 4941424.3857], [544758.2197, 4941458.0269], [544813.9588, 4941476.2309], [544930.64, 4941497.4428], [544963.9524, 4941459.5941], [544992.2587, 4941411.5502], [545017.8292, 4941388.8741], [545112.0987, 4941351.495], [545135.1418, 4941328.8165], [545186.5591, 4941247.9423], [545304.258, 4941137.08], [545347.5884, 4941117.0845], [545380.6061, 4941117.3382], [545425.9623, 4941165.949], [545463.1924, 4941278.0069], [545472.9507, 4941331.404], [545493.1695, 4941344.2691], [545549.1613, 4941329.4517], [545665.5171, 4941393.8499], [545718.7623, 4941406.9563], [545777.1615, 4941409.9464], [545843.0216, 4941433.3037], [545870.7829, 4941456.3842], [545873.2494, 4941466.5549], [545883.3132, 4941479.3344], [545872.5302, 4941560.5283], [545841.6614, 4941611.0978], [545798.5358, 4941603.1497], [545785.7559, 4941613.2125], [545780.4941, 4941638.5694], [545851.0729, 4941707.6906], [545850.6398, 4941763.571], [545784.8227, 4942067.8797], [545799.2101, 4942177.2159], [545853.7085, 4942357.9831], [545891.384, 4942414.1487], [545916.2803, 4942480.3845], [545946.681, 4942490.7684], [545957.071, 4942460.3677], [545972.3333, 4942457.9582], [546002.6746, 4942475.955], [546035.4399, 4942509.2251], [546060.4354, 4942562.7613], [546100.6458, 4942618.9537], [546146.2608, 4942632.002], [546199.7806, 4942609.5522], [546220.3343, 4942579.2319], [546233.4195, 4942528.5221], [546256.5298, 4942495.6874], [546384.4012, 4942382.3475], [546417.4596, 4942377.534], [546480.8219, 4942395.7924], [546493.5595, 4942390.811], [546521.7899, 4942352.9189], [546527.1378, 4942317.4024], [546517.0765, 4942304.6292], [546468.9035, 4942294.1001], [546443.6703, 4942271.0426], [546446.5579, 4942225.3403], [546472.1903, 4942195.0647], [546487.4535, 4942192.6564], [546525.1428, 4942246.2782], [546585.8894, 4942274.6795], [546631.8384, 4942244.5508], [546649.6397, 4942242.1538], [546682.5603, 4942255.0995], [546718.1997, 4942245.2184], [546760.9133, 4942306.4985], [546811.6529, 4942314.5082], [546893.5527, 4942233.8531], [547062.2528, 4942095.4431], [547164.1736, 4942055.5945], [547240.7847, 4942002.8322], [547281.8425, 4941947.2558], [547318.2966, 4941830.7042], [547372.5685, 4941709.1881], [547411.1759, 4941643.4414], [547416.5, 4941610.4656], [547478.4999, 4941476.3284], [547489.0665, 4941423.0624], [547492.5422, 4941301.1599], [547502.7762, 4941291.0817], [547485.7038, 4941199.5104], [547496.7289, 4941085.2912], [547514.9414, 4941029.5412], [547538.045, 4940999.2363], [547617.0155, 4940969.3572], [547622.2957, 4940944.0018], [547595.16, 4940837.1077], [547564.9379, 4940803.856], [547499.2689, 4940755.0957], [547423.7148, 4940670.7087], [547416.8746, 4940569.0446], [547434.8858, 4940538.6946], [547498.4632, 4940529.0225], [547508.7731, 4940508.7768], [547517.1405, 4940412.3268], [547547.8523, 4940382.0926], [547570.7318, 4940379.7206], [547611.2476, 4940395.2669], [547636.7459, 4940382.7685], [547672.6404, 4940339.8648], [547737.1511, 4940208.2739], [547762.7818, 4940177.981], [547805.9792, 4940175.7746], [547779.8825, 4940267.0204], [547725.9175, 4940347.8928], [547651.0634, 4940502.2617], [547640.5743, 4940545.3598], [547640.171, 4940598.7004], [547652.4566, 4940652.1269], [547677.4704, 4940703.1218], [547715.2631, 4940744.0578], [547776.0407, 4940767.3752], [547801.5003, 4940759.9649], [547850.0931, 4940717.1486], [547870.4327, 4940714.7662], [547898.1713, 4940740.3879], [547922.2535, 4940913.2903], [547918.6893, 4941045.3378], [547877.6392, 4941098.3627], [547829.191, 4941123.3913], [547795.8008, 4941171.4004], [547769.4108, 4941300.7393], [547773.1276, 4941478.5712], [547817.9326, 4941598.2976], [547817.56, 4941646.5655], [547766.2618, 4941712.2162], [547724.5109, 4941856.6756], [547691.1626, 4941899.5977], [547568.7614, 4941962.1564], [547522.7873, 4941994.8333], [547484.3592, 4942037.7118], [547495.4631, 4942246.0799], [547479.8481, 4942294.2285], [547436.1116, 4942367.5504], [547407.5994, 4942440.9989], [547315.3337, 4942549.5137], [547307.3162, 4942600.2511], [547357.0197, 4942742.8719], [547426.8964, 4942905.9698], [547428.41, 4943040.6101], [547468.5124, 4943109.4965], [547478.0699, 4943188.3047], [547490.6255, 4943208.7257], [547490.3565, 4943241.7534], [547456.3059, 4943378.6507], [547455.1957, 4943523.4325], [547488.1134, 4943536.3825], [547503.2275, 4943551.7346], [547492.6639, 4943605.0007], [547454.2534, 4943645.3393], [547262.7253, 4943778.4843], [547234.7112, 4943788.4477], [547166.1096, 4943790.4574], [546931.596, 4943897.8821], [546849.7794, 4943968.3691], [546821.9063, 4943960.5392], [546834.8725, 4943925.0855], [546973.3065, 4943758.505], [547006.8149, 4943695.2516], [547017.3849, 4943641.9922], [547015.1033, 4943608.9533], [547007.4982, 4943606.3652], [546990.067, 4943560.5006], [546957.2829, 4943529.7729], [546830.8299, 4943457.6791], [546697.3192, 4943311.8794], [546558.2486, 4943229.5318], [546535.5571, 4943206.507], [546535.9309, 4943158.239], [546510.5735, 4943152.9615], [546421.0083, 4943238.6392], [546392.4751, 4943317.1501], [546366.92, 4943337.2881], [546270.5027, 4943323.8448], [546184.14, 4943323.1829], [546089.9957, 4943345.3283], [546013.7896, 4943344.7411], [545965.5897, 4943336.7556], [545925.2046, 4943303.4169], [545892.6877, 4943237.1343], [545829.8658, 4943150.2861], [545801.9235, 4943150.0659], [545768.6632, 4943180.305], [545770.7272, 4943241.2835], [545790.7418, 4943282.0679], [545861.3752, 4943346.1096], [545871.2633, 4943381.7495], [545863.2708, 4943429.9486], [545801.8548, 4943490.4328], [545778.289, 4943581.7045], [545709.2877, 4943637.0482], [545688.5284, 4943692.7777], [545662.9001, 4943723.0639], [545652.4491, 4943761.0852], [545664.0403, 4943905.9566], [545651.1185, 4943933.7998], [545650.5202, 4944012.5333], [545672.6618, 4944106.6908], [545662.1701, 4944149.7847], [545669.2662, 4944218.4194], [545684.2931, 4944246.4748], [545694.0391, 4944299.9021], [545690.8923, 4944378.6177], [545683.0851, 4944403.942], [545637.0112, 4944449.31], [545626.3536, 4944515.2717], [545646.5082, 4944535.7576], [545719.8831, 4944574.4084], [545755.1095, 4944617.8628], [545762.3891, 4944661.1046], [545752.0467, 4944683.8781], [545716.2985, 4944709.0121], [545601.7129, 4944746.2385], [545601.2332, 4944809.732], [545573.0461, 4944840.0005], [545575.1501, 4944898.4392], [545590.1115, 4944934.1145], [545587.2129, 4944982.35], [545574.3345, 4945005.1059], [545573.7907, 4945076.2342], [545606.2136, 4945152.6755], [545608.3118, 4945211.1217], [545628.226, 4945264.6059], [545630.4317, 4945307.8118], [545688.277, 4945381.9152], [545688.0562, 4945412.3883], [545675.1603, 4945437.6989], [545639.4007, 4945462.8184], [545588.1428, 4945523.3763], [545582.3015, 4945622.4019], [545612.1361, 4945706.453], [545632.2206, 4945737.0843], [545659.6714, 4945800.7974], [545677.4858, 4945795.8578], [545700.5387, 4945770.6264], [545731.1768, 4945750.5366], [545746.5911, 4945727.799], [545752.0562, 4945677.0341], [545742.1531, 4945643.9492], [545711.9447, 4945610.6909], [545701.9484, 4945587.7586], [545707.1995, 4945564.9564], [545732.7184, 4945549.9033], [545836.5348, 4945593.8885], [545871.6075, 4945655.109], [545896.2924, 4945749.2783], [545908.9923, 4945749.3685], [545911.9216, 4945698.6006], [545922.2759, 4945673.265], [545942.5502, 4945678.5117], [545957.1305, 4945764.9814], [546023.9999, 4945989.0226], [546054.374, 4946004.4875], [546067.1457, 4945994.4253], [546070.2265, 4945923.3296], [546057.8612, 4945880.0659], [546063.3829, 4945821.6811], [546093.7833, 4945832.0735], [546131.6722, 4945860.308], [546222.1889, 4945980.3804], [546282.6913, 4946041.8001], [546343.0385, 4946121.0079], [546388.1123, 4946205.1647], [546429.2546, 4946472.1942], [546468.8416, 4946609.6561], [546466.1979, 4946622.338], [546430.4156, 4946652.5481], [546422.6286, 4946672.7988], [546445.2062, 4946708.5311], [546470.4557, 4946729.0637], [546521.1011, 4946749.772], [546586.3205, 4946856.952], [546608.5247, 4946943.4711], [546684.2401, 4947007.5596], [546694.1045, 4947045.7411], [546691.2954, 4947081.2686], [546660.5634, 4947114.0541], [546665.3265, 4947154.7315], [546690.3323, 4947205.7234], [546753.2129, 4947287.4939], [546780.6012, 4947358.8249], [546795.7158, 4947376.7157], [546858.9489, 4947410.2263], [546896.7988, 4947443.5383], [546953.9929, 4947603.9932], [546990.822, 4947769.3809], [546990.1988, 4947850.6625], [547035.0587, 4947962.765], [547029.6936, 4948000.8139], [547039.089, 4948099.9647], [547116.5598, 4948265.657], [547113.6506, 4948313.9068], [547083.1075, 4948321.2824], [547085.4581, 4948346.7014], [547120.8027, 4948374.9089], [547148.4125, 4948418.3011], [547147.8058, 4948497.0353], [547129.759, 4948532.4737], [547131.8895, 4948585.8259], [547200.4693, 4948586.3492], [547248.4796, 4948619.7378], [547349.3866, 4948709.4136], [547394.9396, 4948732.6171], [547505.8942, 4948837.6104], [547581.4069, 4948927.0958], [547836.7618, 4949083.9946], [547854.3861, 4949104.4395], [547854.2384, 4949122.2272], [547775.4554, 4949129.2419], [547704.043, 4949166.802], [547627.0095, 4949275.4321], [547593.7503, 4949305.6617], [547550.5692, 4949305.3286], [547512.5682, 4949292.3404], [547492.4934, 4949261.7028], [547490.1209, 4949238.8236], [547439.8982, 4949162.2482], [547376.7442, 4949118.5714], [547336.1771, 4949108.0981], [547290.4592, 4949107.7408], [547234.4562, 4949122.5497], [547196.1696, 4949147.6642], [547114.2299, 4949233.4026], [547053.1628, 4949248.1761], [546931.2959, 4949239.6238], [546877.8488, 4949251.9068], [546803.842, 4949297.071], [546783.2903, 4949327.3969], [546782.5116, 4949428.9917], [546763.941, 4949532.9756], [546802.1051, 4949525.6539], [546820.2131, 4949482.6167], [546835.886, 4949424.3207], [546866.6425, 4949388.9886], [546938.0894, 4949346.3615], [547029.3923, 4949364.8297], [547166.9621, 4949312.5339], [547279.398, 4949224.5015], [547386.0391, 4949230.4158], [547408.6472, 4949263.6044], [547362.6112, 4949303.88], [547359.429, 4949387.6832], [547381.9621, 4949431.032], [547399.6, 4949448.9577], [547465.5367, 4949462.1507], [547607.7988, 4949460.7102], [547691.8729, 4949428.3379], [547720.0641, 4949395.5311], [547779.1867, 4949304.5286], [547817.4423, 4949284.5052], [547875.8384, 4949287.4931], [547895.9755, 4949313.0519], [547903.1135, 4949374.0549], [547859.1717, 4949472.7894], [547843.8256, 4949487.9169], [547828.2889, 4949525.9048], [547782.2195, 4949571.2723], [547763.9684, 4949632.0947], [547740.902, 4949659.8514], [547707.7434, 4949677.3802], [547666.7811, 4949720.2462], [547613.3604, 4949729.9904], [547597.8925, 4949760.3513], [547597.5394, 4949806.0724], [547577.0791, 4949823.7029], [547483.2624, 4949802.6607], [547432.4444, 4949804.8123], [547409.4015, 4949827.49], [547406.4533, 4949880.8126], [547388.3797, 4949918.7829], [547383.0138, 4949956.8391], [547331.8831, 4949999.6325], [547305.8009, 4950088.3335], [547287.856, 4950111.0489], [547264.254, 4950207.3889], [547215.2922, 4950298.4481], [547166.6527, 4950346.3339], [547122.5035, 4950473.0067], [547114.4774, 4950526.2923], [547068.4969, 4950558.9645], [547006.9798, 4950632.1522], [546996.5681, 4950665.0916], [546993.6051, 4950720.9471], [547026.4734, 4950741.5156], [547046.789, 4950741.6786], [547047.0273, 4950736.5258], [547049.8319, 4950675.6555], [547129.1674, 4950597.5327], [547172.5786, 4950567.3749], [547206.0125, 4950514.29], [547306.0249, 4950390.5896], [547440.0492, 4950137.62], [547465.6449, 4950112.4136], [547626.2401, 4950037.4426], [547710.2559, 4950012.6835], [547720.3266, 4950022.9188], [547730.2011, 4950061.0949], [547732.0627, 4950150.0158], [547747.2432, 4950157.7487], [547760.0631, 4950142.6098], [547798.9264, 4950041.2968], [547809.5231, 4949985.4982], [547795.1747, 4949871.0827], [547810.662, 4949838.197], [547900.2712, 4949744.8887], [547915.8161, 4949704.3683], [547918.9676, 4949625.6528], [547960.0561, 4949567.5481], [547980.3891, 4949565.159], [548003.1493, 4949578.0441], [548025.7259, 4949616.3078], [548060.249, 4949751.203], [548103.038, 4949802.3334], [548117.6212, 4949888.8017], [548132.6934, 4949911.7833], [548134.9612, 4949944.8155], [548119.4534, 4949980.2628], [548144.8524, 4949980.4522], [548162.5732, 4949988.2125], [548152.1977, 4950016.0773], [548169.8617, 4950031.4356], [548149.4109, 4950049.0718], [548149.2677, 4950066.8522], [548172.0312, 4950079.7231], [548215.1503, 4950087.6732], [548303.6624, 4950139.1468], [548346.2427, 4950218.2195], [548368.9185, 4950241.2514], [548424.6097, 4950267.086], [548464.7811, 4950328.3527], [548461.9737, 4950363.8871], [548494.5806, 4950417.4765], [548570.1223, 4950504.4193], [548639.7892, 4950692.9273], [548652.0389, 4950751.4297], [548684.773, 4950789.7873], [548727.6757, 4950825.6742], [548788.4215, 4950854.0831], [548851.8413, 4950864.7387], [548877.1407, 4950877.624], [548920.4814, 4950857.6382], [548963.6384, 4950860.4984], [549021.8566, 4950886.3575], [549089.8782, 4950960.5337], [549129.9527, 4951034.505], [549151.7906, 4951166.7553], [549199.1253, 4951289.0318], [549195.2822, 4951459.1897], [549181.8997, 4951547.9953], [549197.0418, 4951560.8045], [549230.2003, 4951543.2834], [549273.7406, 4951495.3517], [549314.4998, 4951480.4219], [549332.4924, 4951452.6171], [549330.5354, 4951376.3955], [549318.1801, 4951330.5919], [549298.1239, 4951297.4083], [549300.8526, 4951272.0344], [549331.3706, 4951267.1799], [549331.6619, 4951229.0937], [549349.6165, 4951206.3542], [549352.4974, 4951163.1999], [549362.7297, 4951153.1248], [549385.4251, 4951176.1456], [549397.0055, 4951321.0268], [549395.9163, 4951463.256], [549382.9588, 4951496.1944], [549341.947, 4951544.1299], [549285.7216, 4951589.4314], [549229.5887, 4951622.0181], [549120.0684, 4951661.8192], [549066.4662, 4951694.4266], [548995.3863, 4951688.7984], [548959.3616, 4951749.49], [548936.4217, 4951759.4694], [548888.2001, 4951754.0158], [548865.6224, 4951718.2891], [548853.4816, 4951644.5308], [548846.1037, 4951613.9923], [548823.4624, 4951585.8859], [548798.1691, 4951570.4531], [548760.0913, 4951567.6175], [548719.2434, 4951595.2364], [548736.8247, 4951620.7788], [548769.779, 4951628.6486], [548769.5485, 4951659.1294], [548733.641, 4951704.5819], [548595.6068, 4951817.8279], [548529.4492, 4951832.5562], [548486.0399, 4951862.7123], [548366.392, 4951897.3546], [548335.5766, 4951940.2925], [548310.1229, 4951947.7224], [548254.2558, 4951947.2893], [548251.486, 4951975.2109], [548205.4444, 4952018.0428], [548169.4131, 4952078.7314], [548098.1885, 4952090.886], [548098.0559, 4952108.6591], [548150.97, 4952164.9535], [548149.5486, 4952350.3565], [548171.919, 4952414.0438], [548163.6776, 4952495.2543], [548327.5279, 4952659.0692], [548327.3322, 4952684.4773], [548222.8258, 4952731.9145], [548225.2269, 4952749.7214], [548331.8291, 4952760.7176], [548488.9609, 4952807.6288], [548521.5706, 4952861.2188], [548549.4124, 4952874.1369], [548594.6793, 4952932.903], [548627.2161, 4952996.6539], [548616.3835, 4953085.4651], [548529.1128, 4953201.643], [548503.2902, 4953257.3335], [548444.3292, 4953328.0015], [548426.2862, 4953360.8814], [548420.7936, 4953416.7177], [548395.0194, 4953464.7809], [548394.3848, 4953548.6035], [548447.0222, 4953640.4544], [548446.8261, 4953665.8477], [548413.6562, 4953685.9055], [548339.9976, 4953682.8124], [548316.9978, 4953700.4141], [548316.1061, 4953817.2502], [548300.6008, 4953852.6897], [548287.8248, 4953862.7623], [548257.3613, 4953859.9791], [548219.5903, 4953816.5126], [548199.3498, 4953806.1855], [548125.7515, 4953798.0148], [548092.8298, 4953785.0532], [548017.0435, 4953731.1287], [547977.8116, 4953732.5399], [547958.5971, 4953733.2263], [547966.0732, 4953753.6037], [548079.7971, 4953828.1471], [548079.6078, 4953853.5257], [547974.6311, 4953961.9582], [547979.4441, 4953997.5497], [548048.195, 4953975.2221], [548165.8345, 4953871.9659], [548201.3514, 4953877.3341], [548208.8922, 4953887.544], [548213.3893, 4953963.7843], [548273.7618, 4954040.443], [548270.9133, 4954081.0578], [548222.093, 4954154.3514], [548221.8301, 4954187.365], [548262.5201, 4954182.6039], [548283.0069, 4954159.8954], [548288.2609, 4954137.0875], [548336.8673, 4954091.7279], [548340.113, 4954000.3264], [548350.4314, 4953980.082], [548383.662, 4953952.3963], [548395.0211, 4953794.9877], [548423.1613, 4953769.8042], [548474.046, 4953757.5004], [548486.8521, 4953744.8882], [548517.2673, 4953752.7526], [548675.9361, 4953931.7647], [548749.1233, 4953993.2982], [548872.9721, 4954072.9832], [548900.4664, 4954131.617], [548902.7494, 4954164.6499], [548962.8434, 4954279.4165], [549053.593, 4954369.0073], [549141.5936, 4954486.521], [549173.9671, 4954570.5882], [549173.7062, 4954606.1569], [549117.3693, 4954664.1377], [549112.1706, 4954679.3469], [549134.3065, 4954773.4968], [549149.3211, 4954804.0941], [549202.3128, 4954850.2227], [549212.2393, 4954880.7814], [549213.9666, 4954984.9293], [549285.9831, 4955201.3923], [549280.3517, 4955272.4684], [549264.6943, 4955328.2264], [549233.8392, 4955376.2476], [549212.8432, 4955402.8078], [549178.9321, 4955519.3996], [549165.076, 4955669.1529], [549146.9686, 4955712.1987], [549034.4258, 4955812.943], [548973.2981, 4955832.785], [548927.0593, 4955900.9978], [548909.6001, 4956190.4372], [548857.2795, 4956388.1489], [548843.3358, 4956550.6109], [548801.5418, 4956700.1607], [548768.2969, 4956727.8366], [548742.961, 4956720.0241], [548705.1859, 4956679.0944], [548685.1697, 4956638.3067], [548649.628, 4956635.4904], [548631.6226, 4956665.8298], [548586.7825, 4956881.3819], [548573.7663, 4956921.9201], [548540.3233, 4956977.5531], [548514.1824, 4957073.8703], [548497.4688, 4957264.2548], [548507.6296, 4957264.3313], [548535.7224, 4957244.2212], [548569.2042, 4957186.063], [548638.1715, 4957135.7863], [548669.1292, 4957072.5216], [548743.305, 4957007.0514], [548761.3291, 4956974.1796], [548764.4405, 4956900.5436], [548726.6508, 4956859.6063], [548726.892, 4956829.1253], [548747.2184, 4956826.7389], [548840.9537, 4956860.4871], [548864.0018, 4956835.267], [548931.2095, 4956683.3705], [548939.079, 4956650.4146], [548929.2419, 4956609.696], [548929.57, 4956566.5144], [548996.9697, 4956389.2399], [549082.0193, 4956229.8673], [549179.4089, 4956116.307], [549210.0326, 4956098.7593], [549248.1734, 4956093.9851], [549276.2629, 4956073.8781], [549299.9534, 4955967.3842], [549303.4159, 4955848.0195], [549276.7384, 4955682.7148], [549285.4465, 4955540.543], [549308.7254, 4955487.3688], [549368.4645, 4955377.2927], [549391.5482, 4955346.9868], [549414.8181, 4955293.8203], [549417.7993, 4955235.4178], [549395.6003, 4955148.8869], [549396.243, 4955065.0641], [549406.4799, 4955054.9891], [549467.4588, 4955052.9168], [549480.4204, 4955019.9858], [549467.8204, 4955007.1953], [549401.8421, 4954999.0683], [549317.9124, 4955011.1339], [549297.6825, 4955000.8107], [549285.2711, 4954962.6271], [549286.0094, 4954866.1038], [549314.654, 4954774.8746], [549324.8666, 4954767.3321], [549325.411, 4954696.2172], [549302.7724, 4954668.0939], [549295.3015, 4954647.7223], [549338.9065, 4954592.1783], [549357.1933, 4954526.2723], [549373.2972, 4954414.6403], [549401.5696, 4954371.6805], [549434.7835, 4954346.5254], [549455.3323, 4954316.2151], [549437.9405, 4954265.2696], [549402.7468, 4954216.7428], [549403.0585, 4954176.094], [549459.5033, 4954102.8677], [549462.3292, 4954064.7933], [549449.7662, 4954046.9227], [549368.9642, 4953985.3377], [549209.4959, 4953912.999], [549153.6334, 4953910.0325], [549105.8098, 4953853.7755], [549072.8514, 4953845.9186], [549047.3833, 4953853.3306], [549019.6186, 4953830.2573], [548989.199, 4953822.4054], [548961.0183, 4953852.6665], [548925.4245, 4953857.4693], [548897.5385, 4953849.637], [548864.7917, 4953813.8329], [548852.5313, 4953757.8475], [548827.3727, 4953727.1742], [548758.9814, 4953701.2542], [548738.8809, 4953673.1597], [548729.0323, 4953632.4416], [548737.0718, 4953576.6248], [548773.1632, 4953508.334], [548784.132, 4953401.735], [548814.79, 4953379.0976], [548848.1027, 4953341.254], [548886.247, 4953333.9373], [548952.1028, 4953359.832], [549038.0141, 4953418.9176], [549111.03, 4953503.2861], [549231.5636, 4953684.5618], [549281.937, 4953740.8244], [549470.4632, 4953998.8171], [549525.9539, 4954050.0406], [549556.2885, 4954068.048], [549573.8559, 4954096.133], [549649.9451, 4954111.9528], [549781.3202, 4954204.3999], [549813.8545, 4954268.1497], [549818.525, 4954321.5233], [549828.5137, 4954344.4627], [549871.3391, 4954390.5182], [549898.5636, 4954484.6955], [549895.798, 4954512.624], [549870.1558, 4954545.456], [549869.536, 4954624.1763], [549905.1369, 4954619.3789], [549925.9339, 4954558.5743], [549956.3937, 4954561.3506], [549979.1193, 4954579.3011], [550001.6964, 4954615.0248], [550029.4949, 4954635.5698], [550044.7319, 4954635.6808], [550090.7388, 4954597.9347], [550129.1698, 4954555.0495], [550169.7498, 4954562.9787], [550225.3054, 4954606.5881], [550276.0486, 4954612.0643], [550298.551, 4954660.5045], [550272.798, 4954706.0056], [550277.4589, 4954759.3869], [550292.3492, 4954805.2201], [550296.5009, 4954927.184], [550306.561, 4954939.9563], [550306.0506, 4955005.9986], [550287.984, 4955043.9611], [550306.9005, 4955226.9913], [550299.132, 4955247.2526], [550301.423, 4955280.2936], [550331.6557, 4955311.0052], [550372.1221, 4955334.1689], [550374.4963, 4955354.5094], [550359.0281, 4955384.8714], [550330.2784, 4955429.2009], [550379.6668, 4955612.4622], [550394.7436, 4955635.4423], [550412.462, 4955643.1943], [550413.1548, 4955632.2241]], [[546273.3985, 4939963.372], [546339.3627, 4939974.0341], [546445.8293, 4940002.7907], [546541.9715, 4940051.7887], [546597.5324, 4940092.8605], [546670.6145, 4940169.6214], [546733.869, 4940200.5968], [546837.9674, 4940206.4592], [546896.2509, 4940224.6845], [546926.5817, 4940245.2478], [546987.5379, 4940245.7123], [547088.798, 4940289.6605], [547121.3605, 4940350.8688], [547212.3698, 4940407.4526], [547209.2433, 4940483.6347], [547183.6721, 4940506.3023], [547135.2726, 4940523.7085], [547107.0732, 4940556.5105], [547068.2595, 4940650.2067], [547075.509, 4940698.5151], [547092.9874, 4940736.7521], [547113.221, 4940749.6002], [547146.2407, 4940749.8629], [547176.6239, 4940762.7925], [547176.3488, 4940798.3454], [547130.4347, 4940823.3977], [547122.726, 4940836.035], [547123.7798, 4941029.0803], [547133.752, 4941052.0218], [547166.3286, 4941110.6904], [547186.0659, 4941187.054], [547206.1709, 4941215.1351], [547274.4845, 4941251.2184], [547279.3602, 4941276.6557], [547302.1382, 4941286.9976], [547312.4012, 4941274.3644], [547302.7826, 4941203.1917], [547252.6521, 4941116.4449], [547227.7532, 4941050.2115], [547197.4376, 4941029.6616], [547187.6085, 4940986.3997], [547165.0804, 4940943.0526], [547162.7268, 4940917.6338], [547173.0932, 4940892.3152], [547252.2487, 4940837.0387], [547283.3735, 4940753.448], [547306.5035, 4940718.0621], [547309.22, 4940695.2205], [547294.2285, 4940662.0962], [547256.4247, 4940623.7028], [547251.5193, 4940600.7981], [547282.1867, 4940575.6279], [547305.0705, 4940573.2697], [547325.2247, 4940596.2786], [547352.5492, 4940675.2309], [547390.2218, 4940731.4051], [547425.5146, 4940767.2334], [547443.0439, 4940800.384], [547442.6556, 4940851.1919], [547381.3624, 4940893.9034], [547381.2137, 4940914.2162], [547419.1692, 4940932.2902], [547431.6897, 4940955.2583], [547438.5107, 4941059.4403], [547448.6094, 4941067.1422], [547453.4898, 4941092.5871], [547446.6117, 4941328.7499], [547427.6987, 4941475.9188], [547411.9521, 4941541.8477], [547391.2406, 4941592.4919], [547352.7501, 4941642.9913], [547316.3235, 4941757.0175], [547262.1934, 4941860.7539], [547223.798, 4941898.5687], [547203.4017, 4941908.5583], [547185.7208, 4941895.721], [547178.3705, 4941860.1125], [547163.2834, 4941839.6737], [547122.5696, 4941849.5155], [547117.1626, 4941892.6589], [547104.3627, 4941905.2592], [547106.7292, 4941928.1379], [547170.1681, 4941936.2577], [547172.389, 4941976.9092], [547154.5178, 4941989.4723], [547088.4566, 4941991.5017], [547027.3348, 4942013.8889], [546960.8418, 4942071.8001], [546907.4096, 4942084.0911], [546874.4965, 4942068.5967], [546864.5619, 4942040.5754], [546872.3896, 4942012.6977], [546897.9959, 4941984.9637], [546982.3101, 4941922.1009], [547002.6139, 4941924.8034], [547009.96, 4941960.4043], [547045.5486, 4941955.6197], [547043.6885, 4941866.7077], [546972.5417, 4941871.2192], [546694.8908, 4941973.2449], [546598.663, 4941934.4115], [546502.0895, 4941941.2927], [546453.5226, 4941981.5567], [546455.5731, 4942045.083], [546435.1678, 4942055.0749], [546389.591, 4942036.9519], [546368.9619, 4942077.4319], [546297.9164, 4942066.7253], [546249.9933, 4942023.1701], [546232.6225, 4941969.7025], [546217.5199, 4941951.7986], [546217.8132, 4941913.7057], [546207.7999, 4941893.3054], [546195.5935, 4941829.7142], [546198.6351, 4941763.7065], [546226.7884, 4941735.9807], [546280.0895, 4941741.4717], [546330.5894, 4941779.9578], [546411.9895, 4941765.3447], [546419.7428, 4941747.6118], [546420.7774, 4941612.998], [546413.1986, 4941607.8633], [546400.8685, 4941559.4969], [546393.9329, 4941470.5489], [546379.2694, 4941394.2241], [546354.1913, 4941353.4018], [546329.4691, 4941264.3117], [546286.8927, 4941185.2472], [546277.0994, 4941136.8993], [546234.3635, 4941080.7029], [546222.031, 4941032.337], [546186.6191, 4941011.7481], [546153.8626, 4940978.4849], [546075.9106, 4940873.7459], [546073.9206, 4940802.5999], [546081.6687, 4940784.8813], [546117.5122, 4940749.5893], [546132.7809, 4940744.6326], [546160.5548, 4940767.7069], [546162.9509, 4940785.4977], [546205.8193, 4940826.4684], [546216.0626, 4940816.3883], [546204.0589, 4940724.8495], [546298.8985, 4940613.8196], [546309.2332, 4940591.0395], [546309.5217, 4940552.9392], [546266.4599, 4940537.368], [546144.6852, 4940518.6583], [546111.7601, 4940505.708], [546112.076, 4940465.0752], [546152.9652, 4940432.3594], [546155.683, 4940409.5174], [546138.0555, 4940389.0779], [546089.9867, 4940363.3042], [546072.0901, 4940378.3955], [546064.0801, 4940429.1416], [545995.248, 4940461.6297], [545962.2088, 4940463.9203], [545941.97, 4940453.6012], [545929.4304, 4940433.1835], [545929.8046, 4940384.9306], [545958.4453, 4940293.6958], [545992.0223, 4940220.3068], [546045.8738, 4940154.6827], [546051.2206, 4940119.166], [546082.2479, 4940048.2699], [546156.3909, 4939985.3313], [546214.966, 4939965.465], [546273.3985, 4939963.372]], [[549663.9524, 4949301.2046], [549701.8959, 4949321.8184], [549737.0743, 4949372.8788], [549749.493, 4949408.5301], [549748.9893, 4949474.557], [549728.1269, 4949545.5148], [549697.2092, 4949601.1688], [549630.4719, 4949692.1029], [549594.3735, 4949762.9514], [549596.7526, 4949783.2914], [549639.6962, 4949814.1042], [549672.6588, 4949821.9784], [549749.1908, 4949779.3769], [549802.4866, 4949784.861], [549812.5061, 4949802.7273], [549783.9351, 4949886.3191], [549753.1413, 4949926.7325], [549727.1458, 4950005.2714], [549698.9663, 4950035.5443], [549691.1691, 4950058.3388], [549619.7269, 4950100.9653], [549622.1749, 4950113.6926], [549662.5848, 4950141.9459], [549726.0587, 4950144.975], [549725.5409, 4950213.5346], [549702.233, 4950271.7874], [549691.5879, 4950335.2183], [549721.3472, 4950429.4282], [549713.4239, 4950470.0032], [549766.4789, 4950505.9679], [549779.009, 4950528.9191], [549788.7974, 4950577.2588], [549778.152, 4950640.6747], [549750.0194, 4950665.8673], [549704.2235, 4950675.6678], [549651.0169, 4950657.484], [549552.4291, 4950595.7608], [549494.3164, 4950554.6786], [549425.9997, 4950521.1246], [549126.2905, 4950518.8356], [549098.4587, 4950503.3972], [549068.0252, 4950498.0779], [549050.0945, 4950518.2558], [548991.4713, 4950543.2051], [548932.9992, 4950550.382], [548841.7878, 4950519.2009], [548700.6654, 4950373.3272], [548637.8306, 4950286.4935], [548519.7475, 4950115.3955], [548520.0827, 4950072.2219], [548532.8854, 4950059.6171], [548535.5734, 4950039.3231], [548492.6505, 4950005.9703], [548452.4636, 4949947.2362], [548437.8086, 4949870.9347], [548435.5976, 4949827.7346], [548443.2762, 4949820.1716], [548463.543, 4949827.9444], [548486.1815, 4949856.0642], [548498.6115, 4949891.7057], [548516.2887, 4949904.547], [548529.2827, 4949866.5564], [548509.2803, 4949825.7479], [548466.4756, 4949777.1549], [548454.1925, 4949721.2003], [548436.4713, 4949713.4318], [548357.4832, 4949745.8547], [548324.4427, 4949748.14], [548304.3626, 4949717.4998], [548285.0096, 4949590.3447], [548283.2777, 4949483.6579], [548321.6531, 4949448.4044], [548352.1736, 4949443.5452], [548379.9197, 4949469.1626], [548433.0368, 4949497.5107], [548450.568, 4949530.6649], [548468.2706, 4949540.9661], [548481.3224, 4949495.3404], [548504.3025, 4949480.2718], [548549.7451, 4949516.1838], [548570.002, 4949523.9643], [548577.7004, 4949513.8614], [548568.1134, 4949440.1232], [548598.9836, 4949389.5589], [548599.2184, 4949359.0782], [548581.6302, 4949333.5363], [548553.7696, 4949323.1732], [548523.1286, 4949343.2496], [548500.0249, 4949376.106], [548469.4954, 4949383.4973], [548399.7134, 4949207.6846], [548354.5669, 4949131.1401], [548294.144, 4949062.0948], [548261.8186, 4948970.4057], [548242.0963, 4948891.5046], [548252.8125, 4948820.4664], [548308.9157, 4948792.9586], [548329.6506, 4948737.2368], [548360.1501, 4948734.9324], [548418.3659, 4948763.311], [548459.0945, 4948750.9304], [548522.6153, 4948748.8748], [548575.7706, 4948772.1586], [548628.7779, 4948815.7486], [548628.2424, 4948886.8407], [548615.077, 4948945.1588], [548602.2303, 4948965.3911], [548599.0478, 4949049.1939], [548613.7029, 4949125.5031], [548618.2381, 4949196.663], [548633.3625, 4949212.0108], [548701.8208, 4949227.7756], [548802.952, 4949289.5045], [548815.6554, 4949289.6154], [548823.3545, 4949279.5054], [548828.7764, 4949233.8375], [548821.3954, 4949203.2843], [548793.7319, 4949167.5196], [548725.416, 4949131.4332], [548695.2493, 4949090.5549], [548690.4082, 4949060.0359], [548708.3801, 4949034.7768], [548810.0328, 4949027.9463], [548868.84, 4948977.6019], [548899.3386, 4948975.2927], [548942.3242, 4949001.0206], [548967.3417, 4949052.0145], [548964.0635, 4949148.5101], [548889.8447, 4949221.5987], [548889.6994, 4949239.3865], [548909.775, 4949272.5613], [548935.0507, 4949287.9941], [548975.8124, 4949273.062], [549018.4186, 4949347.0515], [549051.4422, 4949347.3024], [549034.4644, 4949243.0249], [549035.2748, 4949136.3571], [549050.7791, 4949100.9119], [549073.8199, 4949078.2252], [549206.0728, 4949056.385], [549254.1136, 4949084.6863], [549276.6599, 4949125.4943], [549288.3745, 4949255.1345], [549303.5306, 4949265.4185], [549321.3299, 4949262.9995], [549372.9495, 4949156.7275], [549429.1558, 4949113.9667], [549459.9318, 4949076.0993], [549459.999, 4949065.9464], [549531.8713, 4948969.9843], [549565.0334, 4948952.45], [549590.3674, 4948960.2578], [549597.7699, 4948988.2644], [549599.5301, 4949089.879], [549583.9057, 4949140.5558], [549563.443, 4949158.1875], [549517.2966, 4949213.6957], [549522.3001, 4949223.9024], [549562.7604, 4949247.0749], [549638.7319, 4949278.1412], [549663.9524, 4949301.2046]], [[546990.0752, 4945879.5652], [547045.5428, 4945933.3349], [547096.182, 4945954.0549], [547152.0639, 4945954.4773], [547184.9802, 4945967.4333], [547217.7532, 4946000.7026], [547227.7435, 4946023.6447], [547252.2029, 4946145.7524], [547241.7699, 4946181.2239], [547253.8799, 4946257.5181], [547250.0643, 4946425.1425], [547229.5626, 4946447.8468], [547135.0442, 4946518.2373], [547114.7999, 4946507.9288], [547076.7233, 4946505.1036], [547038.2081, 4946558.1374], [547011.8767, 4946679.8598], [547044.0655, 4946789.3296], [547048.5331, 4946868.1006], [547068.1022, 4946967.3105], [547095.4698, 4947041.1902], [547125.6405, 4947082.0607], [547193.2502, 4947209.5787], [547195.6035, 4947232.4576], [547203.1803, 4947237.6007], [547200.2517, 4947288.3831], [547154.1129, 4947343.9007], [547093.0279, 4947358.6813], [547039.8107, 4947343.0301], [546989.2086, 4947317.245], [546916.1336, 4947240.4784], [546883.2311, 4947224.9984], [546850.0862, 4947239.9842], [546827.2287, 4947239.7962], [546814.6343, 4947227.0113], [546805.3653, 4947112.6357], [546783.1461, 4947028.6486], [546723.0543, 4946913.8682], [546642.3806, 4946834.5245], [546572.0916, 4946724.7524], [546547.4205, 4946630.5878], [546490.0298, 4946495.5225], [546501.6946, 4946300.0198], [546530.0888, 4946239.2821], [546621.8426, 4946199.3377], [546670.5661, 4946141.295], [546698.6531, 4946121.1765], [546787.71, 4946101.5364], [546846.3164, 4946076.6037], [546889.8878, 4946026.1309], [546954.4102, 4945892.0068], [546990.0752, 4945879.5652]], [[545798.9204, 4937577.1687], [545902.9959, 4937585.5777], [546024.4689, 4937644.9295], [546024.3012, 4937667.7896], [545980.8556, 4937700.4808], [545954.409, 4937837.4387], [545915.6867, 4937918.4339], [545861.8989, 4937976.4317], [545662.5214, 4938140.0139], [545639.3095, 4938185.5507], [545542.069, 4938278.7923], [545435.1781, 4938305.9239], [545397.1003, 4938303.0797], [545397.2533, 4938282.7596], [545438.4156, 4938217.0416], [545451.4207, 4938176.4979], [545452.2506, 4938067.285], [545472.8095, 4938036.9624], [545465.6728, 4937973.4013], [545427.9989, 4937917.2316], [545430.8733, 4937874.0694], [545454.026, 4937836.1519], [545533.116, 4937791.0293], [545558.8148, 4937753.13], [545691.9274, 4937616.9814], [545765.8825, 4937579.4532], [545798.9204, 4937577.1687]], [[549566.8899, 4948708.604], [549505.4715, 4948769.1126], [549467.2464, 4948784.0608], [549424.0527, 4948786.2701], [549393.7332, 4948765.709], [549373.6001, 4948740.1603], [549358.7342, 4948691.7826], [549313.0713, 4948683.813], [549259.4032, 4948726.572], [549226.2708, 4948741.5605], [549172.9132, 4948743.6941], [549114.841, 4948697.5282], [549115.2134, 4948649.2745], [549135.7186, 4948624.0285], [549179.0593, 4948604.0369], [549278.0762, 4948609.8798], [549319.0122, 4948572.1041], [549362.8288, 4948488.6121], [549414.0027, 4948440.747], [549457.8603, 4948352.1682], [549506.5092, 4948301.7369], [549570.1165, 4948286.9985], [549613.2071, 4948300.0231], [549671.2457, 4948351.2588], [549723.9701, 4948430.4185], [549733.8214, 4948471.1156], [549710.2284, 4948564.929], [549687.1016, 4948600.3065], [549617.9802, 4948670.9082], [549566.8899, 4948708.604]], [[547142.6984, 4945187.3108], [547226.4967, 4945190.485], [547289.7626, 4945221.452], [547347.7094, 4945282.8629], [547389.9786, 4945402.5688], [547389.5716, 4945455.9097], [547374.0629, 4945491.3585], [547351.0316, 4945514.0292], [547315.3507, 4945528.9941], [547235.9728, 4945612.2172], [547205.4089, 4945622.1249], [547144.498, 4945616.5925], [547053.3483, 4945577.7957], [546982.585, 4945531.5353], [546932.211, 4945475.2556], [546932.5773, 4945427.0023], [547020.1001, 4945275.2721], [547109.606, 4945197.2228], [547142.6984, 4945187.3108]], [[549579.3538, 4947083.0785], [549617.4121, 4947088.4437], [549650.2113, 4947116.638], [549670.2793, 4947149.815], [549680.0886, 4947195.6067], [549677.0887, 4947256.5486], [549602.0227, 4947438.8515], [549576.3902, 4947469.1372], [549496.8697, 4947570.128], [549460.7719, 4947640.9845], [549394.0731, 4947726.8336], [549363.5349, 4947734.2206], [549362.1249, 4947586.8854], [549471.8398, 4947191.4754], [549520.832, 4947095.3231], [549579.3538, 4947083.0785]], [[546628.8113, 4941977.819], [546676.8764, 4942003.5969], [546808.9931, 4941999.5156], [546829.1706, 4942017.4502], [546825.7284, 4942134.273], [546835.7892, 4942147.0541], [546837.7914, 4942218.1784], [546809.6611, 4942243.3691], [546786.7833, 4942245.7437], [546774.1684, 4942232.9443], [546771.9138, 4942197.3582], [546784.7386, 4942179.6772], [546784.9382, 4942154.2844], [546754.6107, 4942133.729], [546602.1988, 4942135.1027], [546564.2011, 4942122.1134], [546582.2984, 4942081.6084], [546582.4081, 4942066.3682], [546519.0664, 4942045.5615], [546514.2014, 4942017.5847], [546527.06, 4941997.3632], [546560.1205, 4941992.5356], [546628.8113, 4941977.819]], [[548178.209, 4948611.6126], [548264.3317, 4948642.7458], [548264.1039, 4948673.2265], [548235.3974, 4948772.0798], [548202.1539, 4948802.3065], [548115.6386, 4948821.9679], [548092.8432, 4948814.1774], [548065.1122, 4948786.0064], [548065.6007, 4948722.5273], [548045.3543, 4948712.2009], [548022.3212, 4948734.8913], [547999.3964, 4948742.3266], [547984.2422, 4948732.0532], [547974.2642, 4948709.1246], [547967.1186, 4948645.5665], [547979.923, 4948632.9606], [548020.6433, 4948623.11], [548073.7638, 4948651.455], [548099.1385, 4948654.1916], [548132.4307, 4948618.877], [548178.209, 4948611.6126]], [[550046.5117, 4950094.0783], [550084.5532, 4950101.9941], [550091.6275, 4950173.1677], [550076.07, 4950213.6905], [550040.1415, 4950261.6685], [550034.6131, 4950320.0507], [550044.1347, 4950403.9518], [550030.9712, 4950464.815], [550013.066, 4950479.9174], [549995.27, 4950482.3197], [549937.2036, 4950436.1461], [549924.7578, 4950403.0343], [549922.5516, 4950359.8409], [549951.4568, 4950233.0537], [550003.0797, 4950126.7644], [550046.5117, 4950094.0783]], [[548690.221, 4945107.7232], [548696.9796, 4945219.5277], [548678.5764, 4945300.6825], [548655.2911, 4945356.384], [548583.6263, 4945426.9553], [548560.6668, 4945439.4689], [548540.3694, 4945436.7688], [548538.0475, 4945408.8166], [548545.7834, 4945393.641], [548569.8523, 4945236.3449], [548636.5597, 4945150.4875], [548690.221, 4945107.7232]], [[545086.7822, 4938028.9169], [545129.936, 4938031.7946], [545139.8034, 4938069.958], [545160.0333, 4938082.8146], [545223.5229, 4938083.302], [545213.0306, 4938126.3963], [545174.6417, 4938164.2084], [545037.104, 4938213.9645], [544999.1014, 4938200.97], [545001.7752, 4938183.215], [545042.8194, 4938130.1796], [545043.0754, 4938097.1669], [545033.0274, 4938081.8562], [545038.2589, 4938061.5715], [545086.7822, 4938028.9169]], [[547746.4288, 4948275.5647], [547759.0832, 4948283.2789], [547766.5297, 4948303.663], [547763.6211, 4948351.8978], [547748.0501, 4948394.9586], [547734.5026, 4948506.6271], [547718.9885, 4948542.0604], [547701.2122, 4948541.9142], [547701.6543, 4948483.5077], [547709.4087, 4948465.791], [547718.0022, 4948338.8521], [547728.4962, 4948295.7463], [547746.4288, 4948275.5647]], [[547996.1217, 4948175.8674], [547983.0007, 4948231.6468], [547947.1097, 4948274.5636], [547926.8104, 4948271.8578], [547927.0985, 4948233.7644], [547975.7843, 4948178.249], [547996.1217, 4948175.8674]]], \"spatialReference\": {\"wkid\": 26919, \"latestWkid\": 26919}}, \"attributes\": {\"OBJECTID_1\": 12, \"OBJECTID\": 450, \"ComID\": 2678978, \"Permanent_\": \"2678978\", \"FDate\": 931046400000, \"Resolution\": 3, \"GNIS_ID\": \"00567021\", \"GNIS_Name\": \"Graham Lake\", \"AreaSqKm\": 39.775, \"Elevation\": 0, \"ReachCode\": \"01050002003903\", \"FType\": 390, \"FCode\": 39004, \"Shape_Leng\": 1.53423827612, \"Shape__Area\": 39744927.4047852, \"Shape__Length\": 146822.922018376, \"SHAPE\": {\"rings\": [[[550413.1548, 4955632.2241], [550415.3528, 4955597.4925], [550390.4899, 4955526.1786], [550397.1292, 4955385.1545], [550399.7813, 4955369.9486], [550427.9825, 4955337.1388], [550438.4049, 4955304.1972], [550413.3727, 4955255.7441], [550375.5238, 4955222.4323], [550363.0689, 4955189.3191], [550366.3413, 4954762.614], [550354.2083, 4954688.8596], [550354.6199, 4954635.5178], [550374.9392, 4954635.684], [550405.1799, 4954666.396], [550422.4993, 4954727.4972], [550482.4723, 4954854.9492], [550512.8163, 4954872.9614], [550568.7005, 4954873.3923], [550594.0217, 4954883.7447], [550616.988, 4954868.6836], [550642.7936, 4954818.0742], [550670.9078, 4954795.433], [550693.7854, 4954793.0579], [550721.5305, 4954818.6713], [550746.8517, 4954829.0317], [550790.2628, 4954798.8834], [550813.1457, 4954796.5088], [550840.8702, 4954824.6776], [550832.4984, 4954921.1333], [550826.3859, 4955055.7032], [550847.5415, 4955279.3968], [550837.0727, 4955319.9507], [550800.9899, 4955388.2601], [550792.7489, 4955407.3617], [550792.0492, 4955498.7828], [550859.0371, 4955705.049], [550847.7225, 4955854.8195], [550857.4601, 4955910.7818], [550882.6417, 4955938.9086], [550966.1362, 4955982.7381], [551006.3897, 4956031.3141], [551044.3768, 4956046.8343], [551066.8683, 4956095.27], [551087.198, 4956092.8909], [551089.8218, 4956082.7582], [551082.7858, 4956006.4949], [551027.8306, 4955886.6898], [551023.0605, 4955846.008], [551043.5319, 4955825.8482], [551153.1088, 4955780.9857], [551183.8397, 4955748.1917], [551191.7824, 4955707.6183], [551156.3118, 4955694.6353], [551156.453, 4955676.862], [551161.5899, 4955669.2821], [551242.9513, 4955659.7456], [551367.6607, 4955627.6787], [551459.6162, 4955559.8037], [551485.2326, 4955532.0582], [551498.1728, 4955501.6787], [551541.7051, 4955456.2875], [551638.335, 4955441.7977], [551663.5813, 4955462.3221], [551665.7228, 4955513.1295], [551675.7083, 4955536.0718], [551721.0774, 4955582.1383], [551781.9814, 4955590.2335], [551802.3486, 4955582.7691], [551815.1731, 4955567.6159], [551828.1603, 4955529.6166], [551826.2904, 4955443.2404], [551804.2627, 4955395.939], [551781.5903, 4955370.3764], [551784.3124, 4955347.5361], [551820.2222, 4955302.0781], [551818.0562, 4955253.8033], [551777.4665, 4955245.8784], [551713.8124, 4955265.7039], [551578.4383, 4955363.7328], [551484.2292, 4955393.4844], [551453.1915, 4955404.812], [551353.2899, 4955513.2603], [551312.5456, 4955528.1919], [551266.7646, 4955535.4555], [551152.8313, 4955486.3147], [551094.4394, 4955483.3406], [551036.127, 4955467.6517], [550962.3191, 4955487.4042], [550919.2224, 4955476.9098], [550917.075, 4955426.0953], [550933.0613, 4955389.2733], [550943.4905, 4955353.7923], [550949.2026, 4954939.7998], [550974.7991, 4954914.5925], [550975.0402, 4954884.1114], [550947.2508, 4954863.5845], [550939.8361, 4954838.1234], [550940.2916, 4954777.1686], [550948.0078, 4954764.521], [550945.7598, 4954726.4144], [550935.6859, 4954716.1664], [550907.7604, 4954713.4276], [550854.274, 4954733.3346], [550829.0023, 4954715.3461], [550811.4915, 4954679.6594], [550730.2943, 4954668.8809], [550674.239, 4954691.3093], [550643.8, 4954686.0043], [550560.3871, 4954632.019], [550416.6792, 4954491.2095], [550363.6386, 4954452.7133], [550320.4996, 4954447.2958], [550285.1497, 4954419.0921], [550282.7986, 4954393.6713], [550301.0758, 4954330.3006], [550278.3991, 4954304.7287], [550258.0984, 4954302.0375], [550239.7834, 4954373.0139], [550196.2678, 4954415.8662], [550135.2193, 4954428.0996], [550081.5554, 4954470.8663], [550043.3307, 4954485.8107], [550018.0911, 4954465.3077], [549995.523, 4954427.0142], [549985.9237, 4954353.2877], [550029.4868, 4954302.8284], [550039.8297, 4954280.054], [550022.6145, 4954206.2462], [549906.6474, 4954091.0587], [549844.0686, 4953971.1982], [549804.3821, 4953846.4274], [549786.6632, 4953838.6846], [549761.1066, 4953858.8017], [549619.124, 4953824.684], [549528.0619, 4953775.734], [549439.7661, 4953696.309], [549373.9688, 4953662.7891], [549341.229, 4953626.9677], [549326.5339, 4953555.7437], [549306.5856, 4953507.3267], [549251.1131, 4953453.5578], [549188.2884, 4953364.185], [549189.157, 4953252.4216], [549148.5976, 4953241.9514], [549123.3311, 4953223.9698], [549029.3507, 4953223.2543], [548943.1911, 4953197.2047], [548912.9087, 4953171.5578], [548890.45, 4953118.0576], [548891.1156, 4953031.6876], [548924.681, 4952960.8382], [548955.4906, 4952917.8809], [548955.7028, 4952889.94], [548859.7085, 4952820.6258], [548799.2298, 4952756.6622], [548721.7494, 4952593.4946], [548672.2895, 4952417.8607], [548660.1863, 4952339.03], [548665.4345, 4952318.7478], [548602.6308, 4952226.8188], [548605.4818, 4952186.2116], [548639.2122, 4952095.0329], [548685.3904, 4952034.4236], [548710.8932, 4952021.9077], [548728.8188, 4952001.7287], [548731.4788, 4951986.5149], [548764.5624, 4951979.1444], [548784.759, 4951994.5384], [548825.3599, 4951999.9336], [548894.023, 4951990.2929], [548919.1829, 4952020.9738], [548967.3779, 4952028.9602], [549087.1481, 4951979.0738], [549120.1935, 4951976.7778], [549181.0094, 4951995.0303], [549254.4224, 4952028.6283], [549353.2982, 4952052.2462], [549437.141, 4952050.3408], [549541.4268, 4952030.8119], [549633.2354, 4951983.2537], [549671.2713, 4951991.1746], [549663.0709, 4952067.3108], [549678.3086, 4952067.4281], [549708.9316, 4952049.8751], [549731.7686, 4952052.584], [549746.698, 4952093.3502], [549797.319, 4952116.5881], [549809.7868, 4952147.1671], [549761.3085, 4952174.7427], [549766.2165, 4952197.6426], [549778.8216, 4952210.4262], [549877.8409, 4952216.2718], [549897.9464, 4952244.3773], [549895.1317, 4952279.9113], [549884.8217, 4952300.1533], [549886.9485, 4952353.5145], [549922.3692, 4952371.5628], [549914.4702, 4952407.0575], [549881.1963, 4952439.8155], [549850.0458, 4952528.49], [549862.3018, 4952586.9952], [549882.4401, 4952610.0278], [549892.3135, 4952648.2076], [549973.2603, 4952692.0036], [550214.2557, 4953062.1577], [550242.2427, 4953057.2879], [550222.5462, 4952975.847], [550141.9944, 4952881.2537], [550099.3632, 4952809.8032], [550089.9399, 4952713.216], [550057.479, 4952639.2973], [550040.1961, 4952575.6648], [550007.0746, 4952588.109], [549986.8131, 4952580.3386], [549987.1372, 4952537.1646], [549994.8646, 4952524.5234], [549997.9397, 4952453.4209], [550018.4525, 4952428.1703], [550064.4207, 4952398.0443], [550067.1325, 4952375.2033], [550036.7715, 4952359.7262], [550001.5965, 4952308.6636], [549991.9202, 4952245.0903], [549969.5118, 4952186.484], [549926.6969, 4952137.8955], [549916.7547, 4952109.8909], [549876.5624, 4952051.1621], [549861.796, 4951990.0825], [549813.8658, 4951946.5282], [549814.1298, 4951910.9819], [549834.7417, 4951873.0304], [549847.8078, 4951824.8819], [549851.0792, 4951730.9189], [549874.3494, 4951677.7616], [549920.4872, 4951622.2336], [549961.7286, 4951543.7986], [549967.6347, 4951437.1549], [549990.7388, 4951404.3185], [550021.1582, 4951412.175], [550033.6658, 4951437.6668], [550035.9009, 4951478.3351], [550005.0093, 4951531.4255], [550003.8829, 4951678.7572], [550081.6901, 4951801.2695], [550179.6932, 4951939.1813], [550287.5785, 4952112.7276], [550333.1484, 4952133.4049], [550348.4362, 4952128.4438], [550345.2316, 4952113.5107], [550343.5197, 4952105.5434], [550265.7502, 4951977.9401], [550253.3884, 4951934.6673], [550122.9718, 4951717.7628], [550060.2954, 4951610.6087], [550057.9619, 4951582.6407], [550088.583, 4951565.0895], [550129.1358, 4951575.558], [550157.079, 4951575.7753], [550177.4857, 4951563.2255], [550182.9408, 4951515.0111], [550208.4182, 4951505.0484], [550246.397, 4951520.5855], [550261.7258, 4951510.5367], [550269.8244, 4951447.1016], [550282.5977, 4951437.0254], [550297.7775, 4951444.7644], [550315.0624, 4951510.9451], [550340.4013, 4951518.7635], [550386.7374, 4951437.8381], [550419.9291, 4951415.2281], [550468.6292, 4951359.7165], [550488.9934, 4951354.8029], [550501.6081, 4951365.0551], [550536.6492, 4951431.3607], [550549.2742, 4951441.6205], [550572.133, 4951441.7997], [550584.9864, 4951421.5713], [550585.2957, 4951383.4851], [550542.5994, 4951319.6521], [550542.8926, 4951281.551], [550558.2119, 4951271.5028], [550616.6197, 4951271.9534], [550712.5992, 4951343.8115], [550755.4484, 4951387.3176], [550793.1066, 4951443.4917], [550825.87, 4951476.7579], [550846.1941, 4951476.9181], [550853.9739, 4951456.6502], [550846.7148, 4951410.8689], [550834.1596, 4951390.4629], [550700.363, 4951282.7498], [550660.2722, 4951211.3159], [550660.6858, 4951157.9744], [550650.8144, 4951119.8083], [550627.9744, 4951117.0961], [550609.7015, 4951180.4584], [550584.1332, 4951203.1199], [550495.0211, 4951230.3864], [550446.876, 4951214.7683], [550424.2692, 4951181.5834], [550398.9146, 4951176.2974], [550378.03, 4951249.8082], [550347.5111, 4951254.6504], [550319.6854, 4951239.1993], [550304.6835, 4951208.5996], [550307.5747, 4951162.8981], [550320.3829, 4951147.7566], [550371.2169, 4951143.0655], [550386.5758, 4951127.9442], [550389.5417, 4951072.0898], [550372.0248, 4951038.93], [550349.3126, 4951018.4458], [550224.8761, 4951014.9503], [550209.5173, 4951030.0721], [550216.4018, 4951126.6541], [550178.2625, 4951131.4452], [550158.1256, 4951108.4266], [550055.3246, 4950932.3749], [550055.6886, 4950884.1061], [550025.3757, 4950863.564], [550015.4017, 4950838.0845], [550013.3487, 4950774.5556], [550021.1016, 4950756.8416], [550092.5408, 4950716.7523], [550093.206, 4950630.3974], [550141.7893, 4950587.5836], [550149.5086, 4950574.9425], [550152.5121, 4950514.0006], [550127.8688, 4950414.7553], [550128.3623, 4950351.2462], [550167.0038, 4950280.4203], [550172.9823, 4950163.6241], [550180.7615, 4950143.3629], [550206.3469, 4950118.1671], [550217.0566, 4950047.1317], [550209.7516, 4950006.4313], [550203.0234, 4949889.5437], [550241.8411, 4949795.8577], [550282.6516, 4949773.2988], [550310.3597, 4949803.99], [550310.0482, 4949844.6311], [550289.1607, 4949918.142], [550288.5827, 4949994.3367], [550306.0939, 4950030.0289], [550323.7923, 4950040.3204], [550402.4896, 4950046.015], [550430.2952, 4950064.0064], [550465.8504, 4950064.2696], [550499.0984, 4950034.0396], [550537.2989, 4950021.6376], [550596.0461, 4949978.8994], [550616.3895, 4949976.5261], [550636.5484, 4949996.9913], [550656.4983, 4950045.4121], [550648.6085, 4950080.9132], [550628.236, 4950088.374], [550620.4807, 4950106.0947], [550635.0014, 4950200.1895], [550659.9715, 4950256.263], [550715.0402, 4950360.8299], [550737.1304, 4950462.5978], [550757.3072, 4950480.5306], [550777.2852, 4950526.4119], [550800.0767, 4950534.1972], [550812.9473, 4950511.4365], [550853.826, 4950481.2685], [550851.6061, 4950440.6148], [550813.6517, 4950419.994], [550771.1413, 4950333.3139], [550771.4158, 4950297.7529], [550784.352, 4950267.372], [550817.6658, 4950229.531], [550888.9947, 4950202.1359], [550899.3512, 4950176.8079], [550889.4396, 4950143.7142], [550841.4673, 4950105.2475], [550839.1323, 4950079.8195], [550862.2804, 4950041.8985], [550867.6509, 4950003.8523], [550850.5525, 4949914.8246], [550825.627, 4949851.1152], [550823.6359, 4949779.9955], [550859.5636, 4949734.5398], [550867.3895, 4949706.6664], [550850.62, 4949574.4501], [550830.67, 4949526.0362], [550828.3989, 4949490.4478], [550838.7215, 4949470.2073], [550871.9288, 4949445.0742], [550907.5276, 4949440.2596], [550978.515, 4949458.5793], [551001.4304, 4949451.1397], [551024.4411, 4949430.9924], [551055.2896, 4949382.9721], [551086.946, 4949228.2765], [551098.3894, 4949063.2675], [551118.9966, 4949025.3126], [551157.3897, 4948987.506], [551160.0959, 4948964.6655], [551154.628, 4948964.0297], [551066.2019, 4948953.7907], [550986.9014, 4949026.845], [550956.0518, 4949074.8582], [550859.4436, 4949086.8195], [550826.2985, 4949101.8072], [550816.0312, 4949116.9677], [550785.4473, 4949129.428], [550729.5712, 4949129.0109], [550653.6533, 4949092.8738], [550625.9384, 4949062.1737], [550623.905, 4948996.1195], [550644.8482, 4948914.9894], [550655.9819, 4948788.0659], [550621.3293, 4948668.4336], [550580.1018, 4948414.1185], [550530.0016, 4948322.2858], [550527.813, 4948276.5448], [550558.7228, 4948220.9021], [550640.827, 4948112.3089], [550636.1377, 4948061.4753], [550636.0849, 4948061.4749], [550585.3204, 4948063.6172], [550503.7861, 4948096.0165], [550463.1192, 4948100.7863], [550425.1759, 4948080.183], [550407.5714, 4948057.1836], [550350.1498, 4947927.1996], [550304.8981, 4947865.8892], [550206.1718, 4947821.9521], [550165.8624, 4947778.47], [550163.671, 4947732.7292], [550171.4134, 4947717.5481], [550204.7691, 4947672.0836], [550205.0259, 4947639.0629], [550149.9602, 4947531.9684], [550112.5304, 4947445.3182], [550042.1892, 4947343.1718], [550027.7327, 4947241.4441], [550002.9233, 4947165.0606], [549991.1145, 4947048.1345], [550002.0659, 4946944.0783], [550020.3334, 4946880.6998], [550016.101, 4946771.453], [549988.9482, 4946667.1018], [549946.3935, 4946585.4861], [549916.536, 4946503.9836], [549899.7492, 4946374.3184], [549844.3501, 4946310.3783], [549842.2303, 4946257.0177], [549863.0396, 4946193.6954], [549869.6512, 4945993.078], [549877.5857, 4945952.4886], [549918.7991, 4945876.6157], [549952.4086, 4945800.6546], [549979.389, 4945595.1218], [550002.3848, 4945577.5257], [550043.0816, 4945570.2054], [550086.1827, 4945580.7075], [550098.9619, 4945570.631], [550104.272, 4945540.1898], [550071.9086, 4945453.5869], [550072.4399, 4945385.0204], [550095.6284, 4945342.0094], [550103.7316, 4945278.5746], [550088.6906, 4945253.0634], [550055.7799, 4945237.5672], [550007.5488, 4945234.6462], [549987.1528, 4945244.664], [549969.1709, 4945269.9195], [549963.8219, 4945305.441], [549971.3846, 4945313.12], [549973.7697, 4945333.4527], [549932.9486, 4945355.9989], [549892.3253, 4945355.6851], [549882.4949, 4945312.4333], [549923.3591, 4945282.2665], [549928.6294, 4945256.8978], [549908.724, 4945203.4221], [549906.4812, 4945165.3018], [549916.8021, 4945145.0673], [549957.6677, 4945114.8859], [549970.9724, 4945036.2501], [549938.2618, 4944995.3615], [549938.6294, 4944947.1006], [550007.7025, 4944884.1371], [550065.0916, 4944686.446], [550049.8327, 4944688.8607], [550024.2033, 4944719.152], [549985.592, 4944784.8984], [549980.3212, 4944810.2522], [549872.8162, 4944918.6502], [549852.4285, 4944926.1283], [549822.049, 4944913.1931], [549786.951, 4944851.9579], [549686.1148, 4944752.1143], [549673.7447, 4944708.8508], [549633.5891, 4944645.0448], [549633.7505, 4944624.7171], [549679.8591, 4944574.2749], [549687.6821, 4944548.9257], [549642.2701, 4944507.9411], [549632.6175, 4944441.8145], [549604.9524, 4944413.7341], [549599.8485, 4944408.5479], [549582.0517, 4944410.9589], [549543.6963, 4944443.6799], [549505.2103, 4944494.1963], [549458.6609, 4944603.0461], [549448.1797, 4944643.6164], [549414.8142, 4944689.0847], [549401.7045, 4944742.3285], [549373.1815, 4944818.3015], [549256.1895, 4944837.7304], [549182.2037, 4944880.3428], [549131.0497, 4944925.6698], [549105.3431, 4944966.1175], [549067.0758, 4944988.6886], [549023.9551, 4944980.7408], [548995.947, 4944988.1268], [548957.8917, 4944982.7654], [548925.04, 4944959.6549], [548920.4763, 4944893.568], [548928.4005, 4944852.9998], [548962.0031, 4944777.0633], [548965.4028, 4944665.3207], [548973.0915, 4944655.2182], [548976.1887, 4944584.1238], [548966.323, 4944545.9462], [548966.9003, 4944469.7449], [549010.7422, 4944383.7181], [549001.116, 4944312.5272], [548928.5068, 4944174.8071], [548913.6805, 4944121.351], [548909.6207, 4943989.2379], [548899.8358, 4943940.893], [548900.2584, 4943885.0195], [548923.474, 4943839.4717], [548942.0217, 4943738.0269], [548967.9103, 4943674.7257], [548956.203, 4943545.0875], [548936.4207, 4943476.3528], [548936.882, 4943415.3918], [548968.0012, 4943331.8087], [549016.6898, 4943276.301], [549005.5985, 4943065.389], [549059.6892, 4942969.287], [549078.0295, 4942895.7534], [549075.5375, 4942895.9567], [549050.0665, 4942898.0815], [548993.7804, 4942950.9912], [548880.331, 4943171.1139], [548826.4363, 4943241.8244], [548798.4088, 4943254.3138], [548765.4538, 4943246.4446], [548752.8639, 4943231.1086], [548745.9207, 4943142.1424], [548731.0276, 4943096.3143], [548727.0501, 4942954.0268], [548745.5555, 4942860.1869], [548715.8687, 4942755.8232], [548711.4485, 4942669.4164], [548699.3321, 4942593.1345], [548714.6527, 4942583.0966], [548801.0813, 4942573.5948], [548834.1846, 4942563.6766], [548857.3307, 4942525.7635], [548878.8153, 4942376.07], [548912.1395, 4942335.6864], [548920.0335, 4942300.1836], [548900.0004, 4942261.922], [548898.197, 4942165.3963], [548924.451, 4942053.8196], [548957.6531, 4942031.2165], [549092.3624, 4942019.5514], [549097.4968, 4942011.9698], [549079.974, 4941978.8145], [549029.4162, 4941945.4014], [549006.8321, 4941912.2079], [548996.9376, 4941876.5705], [548994.9379, 4941805.4377], [548967.5735, 4941731.558], [548950.3952, 4941652.6898], [548948.4717, 4941571.397], [548966.4576, 4941543.5912], [549053.002, 4941521.4], [549091.2684, 4941498.8286], [549088.807, 4941488.6566], [549078.158, 4941477.8449], [549068.6373, 4941468.1822], [549015.5002, 4941442.3777], [548975.1077, 4941409.0421], [548805.016, 4941400.1141], [548743.8804, 4941419.9598], [548721.1103, 4941409.635], [548721.1868, 4941399.4749], [548777.5935, 4941331.3226], [548785.3675, 4941311.0672], [548765.7101, 4941224.5382], [548735.5181, 4941186.2081], [548684.7249, 4941185.8258], [548628.4516, 4941236.1987], [548587.6415, 4941258.7463], [548542.4511, 4941189.8224], [548542.8132, 4941141.5544], [548563.5384, 4941088.3663], [548582.0026, 4940999.6137], [548633.2902, 4940936.5168], [548641.3423, 4940880.6861], [548629.0113, 4940832.3376], [548627.132, 4940745.965], [548637.7611, 4940685.0808], [548730.339, 4940535.9219], [548746.162, 4940459.8359], [548753.8657, 4940449.7406], [548830.3133, 4940417.3021], [548830.4719, 4940396.9745], [548780.0936, 4940340.7183], [548777.8003, 4940310.2189], [548788.2102, 4940277.2826], [548811.3396, 4940241.8872], [548887.6799, 4940224.7117], [548897.9319, 4940212.0809], [548906.2119, 4940125.7776], [548967.7949, 4940044.9726], [548988.7661, 4939958.7728], [548986.5452, 4939918.1059], [548971.5411, 4939887.5251], [548938.5222, 4939887.2606], [548902.6709, 4939925.0922], [548891.712, 4940029.1564], [548881.4216, 4940046.8525], [548840.6415, 4940064.3185], [548779.8034, 4940048.6187], [548759.4231, 4940056.0856], [548659.6602, 4940146.744], [548629.1157, 4940156.6825], [548560.7024, 4940133.2926], [548520.3828, 4940092.3475], [548508.0959, 4940036.3643], [548495.5634, 4940015.9564], [548449.9395, 4940002.9065], [548409.6079, 4939961.9547], [548387.1844, 4939905.9034], [548354.4881, 4939862.4688], [548365.5112, 4939750.7986], [548350.2331, 4939755.75], [548319.1489, 4939834.2631], [548298.6601, 4939856.9643], [548275.7596, 4939861.8664], [548248.1133, 4939823.5504], [548179.7677, 4939792.5445], [548149.5004, 4939764.3849], [548139.5002, 4939743.9818], [548142.6597, 4939662.72], [548179.1096, 4939546.1658], [548204.7018, 4939520.9473], [548251.0458, 4939440.0221], [548272.1493, 4939338.5802], [548283.6126, 4939168.497], [548297.3211, 4939036.5181], [548333.596, 4938942.8102], [548341.8746, 4938779.3092], [548342.5894, 4938765.0733], [548319.6903, 4938769.9753], [548275.4721, 4938904.2593], [548238.528, 4939084.3355], [548199.5164, 4939203.403], [548196.6692, 4939244.017], [548206.5051, 4939287.2805], [548203.3099, 4939371.0821], [548174.8703, 4939436.8998], [548093.5301, 4939443.9082], [548068.0001, 4939461.4775], [548074.5299, 4939603.7826], [548074.0048, 4939672.3631], [548032.899, 4939732.9997], [547997.1601, 4939755.5887], [547869.8217, 4939800.3465], [547757.8753, 4939824.8695], [547701.9879, 4939824.4574], [547636.3392, 4939773.1411], [547566.0241, 4939668.4552], [547541.197, 4939592.068], [547534.3011, 4939498.0314], [547514.019, 4939492.8022], [547454.8797, 4939586.3248], [547414.1113, 4939603.7998], [547383.6726, 4939598.4892], [547358.4186, 4939577.9683], [547333.3711, 4939532.0623], [547331.9062, 4939392.3354], [547352.791, 4939318.8383], [547356.3625, 4939184.2434], [547387.1111, 4939148.921], [547463.6784, 4939101.2484], [547527.6161, 4939045.8636], [547535.4022, 4939023.0593], [547541.3493, 4938911.336], [547587.2252, 4938891.3665], [547584.9097, 4938860.8676], [547569.8937, 4938832.823], [547565.2305, 4938776.8978], [547609.36, 4938652.7766], [547588.564, 4938658.0744], [547561.0145, 4938665.1073], [547535.4058, 4938690.3135], [547488.9458, 4938789.0239], [547452.2919, 4938930.9818], [547444.0595, 4939009.659], [547290.397, 4939173.5859], [547249.6133, 4939193.5946], [547181.1084, 4939182.9047], [547099.2517, 4939258.4839], [547063.5503, 4939275.9979], [546959.4953, 4939265.0299], [546916.0423, 4939300.2623], [546880.4128, 4939310.15], [546862.7373, 4939294.7663], [546777.4936, 4939149.3388], [546775.1849, 4939118.8403], [546785.4396, 4939106.221], [546785.7491, 4939065.5882], [546723.2198, 4938940.6395], [546724.4799, 4938775.546], [546694.4792, 4938711.811], [546666.8162, 4938676.0421], [546664.5959, 4938635.3762], [546674.8824, 4938617.6767], [546759.0693, 4938570.0656], [546766.8585, 4938547.2604], [546767.7657, 4938430.4274], [546785.8819, 4938387.3757], [546786.0889, 4938359.4429], [546751.1516, 4938277.8984], [546757.3398, 4938133.1545], [546745.1308, 4938069.57], [546758.3383, 4938003.6362], [546735.6973, 4937975.5089], [546578.843, 4937893.0203], [546563.7786, 4937870.0432], [546564.238, 4937809.0904], [546592.8405, 4937722.9532], [546628.7683, 4937674.9637], [546649.1718, 4937664.9575], [546888.0629, 4937649.0123], [546954.268, 4937626.6527], [547053.9681, 4937543.5956], [547054.6008, 4937462.308], [547121.0828, 4937404.4122], [547131.4992, 4937371.4735], [547126.7491, 4937328.249], [547078.6032, 4937312.6358], [547065.5361, 4937360.7963], [547014.4157, 4937403.5854], [546965.3227, 4937509.8933], [546919.2498, 4937555.26], [546868.1816, 4937590.4375], [546842.7265, 4937597.8591], [546718.5862, 4937556.2758], [546626.9706, 4937578.4326], [546604.1472, 4937573.1658], [546576.4527, 4937542.4849], [546572.0305, 4937456.0881], [546562.0505, 4937433.1551], [546539.19, 4937432.9686], [546531.4733, 4937445.6065], [546538.569, 4937514.2562], [546538.0105, 4937585.3689], [546517.6069, 4937595.3755], [546484.741, 4937577.3438], [546461.8627, 4937579.7124], [546431.1015, 4937615.0242], [546427.6529, 4937734.3864], [546407.0992, 4937764.6987], [546373.9422, 4937782.2348], [546341.0247, 4937769.2763], [546308.2757, 4937733.4727], [546303.5385, 4937687.7088], [546280.9179, 4937657.0505], [546177.0227, 4937625.7829], [546154.3417, 4937602.7377], [546149.4117, 4937582.3889], [546096.6615, 4937505.7867], [546051.2097, 4937469.8718], [545894.1007, 4937420.4127], [545706.306, 4937398.6528], [545558.8285, 4937417.8463], [545402.9794, 4937536.035], [545209.832, 4937549.7917], [545161.402, 4937572.2782], [545099.8056, 4937655.6292], [545020.5425, 4937723.5949], [544995.0971, 4937728.4984], [544908.8961, 4937707.5124], [544774.3827, 4937693.7843], [544688.8695, 4937581.3685], [544625.4276, 4937573.2515], [544579.6833, 4937577.9798], [544505.4888, 4937646.0015], [544439.4202, 4937650.5689], [544436.7773, 4937663.2441], [544396.0108, 4937680.7159], [544395.9305, 4937690.8832], [544219.8786, 4937793.6765], [544184.0682, 4937826.4242], [544180.8772, 4937910.2269], [544188.3529, 4937930.5916], [544190.2989, 4938006.8089], [544242.8791, 4938106.2776], [544254.8565, 4938200.3519], [544249.1408, 4938284.1374], [544210.9025, 4938301.6276], [544162.7853, 4938283.4665], [544099.7551, 4938222.0219], [544049.1384, 4938196.239], [544031.3429, 4938198.6359], [543987.8196, 4938244.033], [543940.876, 4938403.6985], [543863.5626, 4938547.8806], [543812.329, 4938603.365], [543715.876, 4938595.0187], [543690.2599, 4938622.7577], [543690.0278, 4938653.2377], [543710.1913, 4938673.7171], [543709.8457, 4938719.4372], [543666.3914, 4938754.6541], [543668.5579, 4938802.9387], [543711.4907, 4938836.2946], [543744.0051, 4938902.5799], [543769.1951, 4938930.7065], [543802.0548, 4938951.2794], [543821.9168, 4939009.8592], [543879.5835, 4939109.3595], [543901.5572, 4939223.8369], [543926.626, 4939267.2041], [543989.0594, 4939407.395], [544024.3914, 4939438.139], [544069.9958, 4939451.1944], [544110.1888, 4939509.921], [544209.901, 4939757.0764], [544237.4927, 4939802.9949], [544310.6539, 4939869.6057], [544366.2786, 4939900.5128], [544417.0011, 4939911.0583], [544470.4058, 4939903.8342], [544524.3125, 4939830.5923], [544557.412, 4939820.6743], [544556.9114, 4939884.1819], [544538.6882, 4939942.465], [544489.7503, 4940030.9966], [544489.5425, 4940058.9293], [544514.569, 4940107.3938], [544605.3462, 4940194.4429], [544798.3008, 4940206.0842], [544864.1026, 4940237.0662], [544901.8715, 4940280.5255], [544973.9087, 4940491.9099], [544998.2642, 4940629.2621], [545085.0348, 4940906.787], [545150.5286, 4940978.4197], [545152.7395, 4941021.6103], [545145.0651, 4941029.1772], [545096.8858, 4941018.6585], [545078.9827, 4941033.7524], [545091.1681, 4941099.8887], [545088.4012, 4941130.3513], [545070.4914, 4941147.9853], [544979.0491, 4941147.2824], [544943.3235, 4941169.8733], [544884.411, 4941232.9164], [544868.9083, 4941265.8234], [544807.4114, 4941336.4697], [544764.0683, 4941356.4687], [544693.0109, 4941348.2978], [544655.0156, 4941335.3051], [544604.1259, 4941347.6178], [544580.8133, 4941405.8584], [544677.1902, 4941424.3857], [544758.2197, 4941458.0269], [544813.9588, 4941476.2309], [544930.64, 4941497.4428], [544963.9524, 4941459.5941], [544992.2587, 4941411.5502], [545017.8292, 4941388.8741], [545112.0987, 4941351.495], [545135.1418, 4941328.8165], [545186.5591, 4941247.9423], [545304.258, 4941137.08], [545347.5884, 4941117.0845], [545380.6061, 4941117.3382], [545425.9623, 4941165.949], [545463.1924, 4941278.0069], [545472.9507, 4941331.404], [545493.1695, 4941344.2691], [545549.1613, 4941329.4517], [545665.5171, 4941393.8499], [545718.7623, 4941406.9563], [545777.1615, 4941409.9464], [545843.0216, 4941433.3037], [545870.7829, 4941456.3842], [545873.2494, 4941466.5549], [545883.3132, 4941479.3344], [545872.5302, 4941560.5283], [545841.6614, 4941611.0978], [545798.5358, 4941603.1497], [545785.7559, 4941613.2125], [545780.4941, 4941638.5694], [545851.0729, 4941707.6906], [545850.6398, 4941763.571], [545784.8227, 4942067.8797], [545799.2101, 4942177.2159], [545853.7085, 4942357.9831], [545891.384, 4942414.1487], [545916.2803, 4942480.3845], [545946.681, 4942490.7684], [545957.071, 4942460.3677], [545972.3333, 4942457.9582], [546002.6746, 4942475.955], [546035.4399, 4942509.2251], [546060.4354, 4942562.7613], [546100.6458, 4942618.9537], [546146.2608, 4942632.002], [546199.7806, 4942609.5522], [546220.3343, 4942579.2319], [546233.4195, 4942528.5221], [546256.5298, 4942495.6874], [546384.4012, 4942382.3475], [546417.4596, 4942377.534], [546480.8219, 4942395.7924], [546493.5595, 4942390.811], [546521.7899, 4942352.9189], [546527.1378, 4942317.4024], [546517.0765, 4942304.6292], [546468.9035, 4942294.1001], [546443.6703, 4942271.0426], [546446.5579, 4942225.3403], [546472.1903, 4942195.0647], [546487.4535, 4942192.6564], [546525.1428, 4942246.2782], [546585.8894, 4942274.6795], [546631.8384, 4942244.5508], [546649.6397, 4942242.1538], [546682.5603, 4942255.0995], [546718.1997, 4942245.2184], [546760.9133, 4942306.4985], [546811.6529, 4942314.5082], [546893.5527, 4942233.8531], [547062.2528, 4942095.4431], [547164.1736, 4942055.5945], [547240.7847, 4942002.8322], [547281.8425, 4941947.2558], [547318.2966, 4941830.7042], [547372.5685, 4941709.1881], [547411.1759, 4941643.4414], [547416.5, 4941610.4656], [547478.4999, 4941476.3284], [547489.0665, 4941423.0624], [547492.5422, 4941301.1599], [547502.7762, 4941291.0817], [547485.7038, 4941199.5104], [547496.7289, 4941085.2912], [547514.9414, 4941029.5412], [547538.045, 4940999.2363], [547617.0155, 4940969.3572], [547622.2957, 4940944.0018], [547595.16, 4940837.1077], [547564.9379, 4940803.856], [547499.2689, 4940755.0957], [547423.7148, 4940670.7087], [547416.8746, 4940569.0446], [547434.8858, 4940538.6946], [547498.4632, 4940529.0225], [547508.7731, 4940508.7768], [547517.1405, 4940412.3268], [547547.8523, 4940382.0926], [547570.7318, 4940379.7206], [547611.2476, 4940395.2669], [547636.7459, 4940382.7685], [547672.6404, 4940339.8648], [547737.1511, 4940208.2739], [547762.7818, 4940177.981], [547805.9792, 4940175.7746], [547779.8825, 4940267.0204], [547725.9175, 4940347.8928], [547651.0634, 4940502.2617], [547640.5743, 4940545.3598], [547640.171, 4940598.7004], [547652.4566, 4940652.1269], [547677.4704, 4940703.1218], [547715.2631, 4940744.0578], [547776.0407, 4940767.3752], [547801.5003, 4940759.9649], [547850.0931, 4940717.1486], [547870.4327, 4940714.7662], [547898.1713, 4940740.3879], [547922.2535, 4940913.2903], [547918.6893, 4941045.3378], [547877.6392, 4941098.3627], [547829.191, 4941123.3913], [547795.8008, 4941171.4004], [547769.4108, 4941300.7393], [547773.1276, 4941478.5712], [547817.9326, 4941598.2976], [547817.56, 4941646.5655], [547766.2618, 4941712.2162], [547724.5109, 4941856.6756], [547691.1626, 4941899.5977], [547568.7614, 4941962.1564], [547522.7873, 4941994.8333], [547484.3592, 4942037.7118], [547495.4631, 4942246.0799], [547479.8481, 4942294.2285], [547436.1116, 4942367.5504], [547407.5994, 4942440.9989], [547315.3337, 4942549.5137], [547307.3162, 4942600.2511], [547357.0197, 4942742.8719], [547426.8964, 4942905.9698], [547428.41, 4943040.6101], [547468.5124, 4943109.4965], [547478.0699, 4943188.3047], [547490.6255, 4943208.7257], [547490.3565, 4943241.7534], [547456.3059, 4943378.6507], [547455.1957, 4943523.4325], [547488.1134, 4943536.3825], [547503.2275, 4943551.7346], [547492.6639, 4943605.0007], [547454.2534, 4943645.3393], [547262.7253, 4943778.4843], [547234.7112, 4943788.4477], [547166.1096, 4943790.4574], [546931.596, 4943897.8821], [546849.7794, 4943968.3691], [546821.9063, 4943960.5392], [546834.8725, 4943925.0855], [546973.3065, 4943758.505], [547006.8149, 4943695.2516], [547017.3849, 4943641.9922], [547015.1033, 4943608.9533], [547007.4982, 4943606.3652], [546990.067, 4943560.5006], [546957.2829, 4943529.7729], [546830.8299, 4943457.6791], [546697.3192, 4943311.8794], [546558.2486, 4943229.5318], [546535.5571, 4943206.507], [546535.9309, 4943158.239], [546510.5735, 4943152.9615], [546421.0083, 4943238.6392], [546392.4751, 4943317.1501], [546366.92, 4943337.2881], [546270.5027, 4943323.8448], [546184.14, 4943323.1829], [546089.9957, 4943345.3283], [546013.7896, 4943344.7411], [545965.5897, 4943336.7556], [545925.2046, 4943303.4169], [545892.6877, 4943237.1343], [545829.8658, 4943150.2861], [545801.9235, 4943150.0659], [545768.6632, 4943180.305], [545770.7272, 4943241.2835], [545790.7418, 4943282.0679], [545861.3752, 4943346.1096], [545871.2633, 4943381.7495], [545863.2708, 4943429.9486], [545801.8548, 4943490.4328], [545778.289, 4943581.7045], [545709.2877, 4943637.0482], [545688.5284, 4943692.7777], [545662.9001, 4943723.0639], [545652.4491, 4943761.0852], [545664.0403, 4943905.9566], [545651.1185, 4943933.7998], [545650.5202, 4944012.5333], [545672.6618, 4944106.6908], [545662.1701, 4944149.7847], [545669.2662, 4944218.4194], [545684.2931, 4944246.4748], [545694.0391, 4944299.9021], [545690.8923, 4944378.6177], [545683.0851, 4944403.942], [545637.0112, 4944449.31], [545626.3536, 4944515.2717], [545646.5082, 4944535.7576], [545719.8831, 4944574.4084], [545755.1095, 4944617.8628], [545762.3891, 4944661.1046], [545752.0467, 4944683.8781], [545716.2985, 4944709.0121], [545601.7129, 4944746.2385], [545601.2332, 4944809.732], [545573.0461, 4944840.0005], [545575.1501, 4944898.4392], [545590.1115, 4944934.1145], [545587.2129, 4944982.35], [545574.3345, 4945005.1059], [545573.7907, 4945076.2342], [545606.2136, 4945152.6755], [545608.3118, 4945211.1217], [545628.226, 4945264.6059], [545630.4317, 4945307.8118], [545688.277, 4945381.9152], [545688.0562, 4945412.3883], [545675.1603, 4945437.6989], [545639.4007, 4945462.8184], [545588.1428, 4945523.3763], [545582.3015, 4945622.4019], [545612.1361, 4945706.453], [545632.2206, 4945737.0843], [545659.6714, 4945800.7974], [545677.4858, 4945795.8578], [545700.5387, 4945770.6264], [545731.1768, 4945750.5366], [545746.5911, 4945727.799], [545752.0562, 4945677.0341], [545742.1531, 4945643.9492], [545711.9447, 4945610.6909], [545701.9484, 4945587.7586], [545707.1995, 4945564.9564], [545732.7184, 4945549.9033], [545836.5348, 4945593.8885], [545871.6075, 4945655.109], [545896.2924, 4945749.2783], [545908.9923, 4945749.3685], [545911.9216, 4945698.6006], [545922.2759, 4945673.265], [545942.5502, 4945678.5117], [545957.1305, 4945764.9814], [546023.9999, 4945989.0226], [546054.374, 4946004.4875], [546067.1457, 4945994.4253], [546070.2265, 4945923.3296], [546057.8612, 4945880.0659], [546063.3829, 4945821.6811], [546093.7833, 4945832.0735], [546131.6722, 4945860.308], [546222.1889, 4945980.3804], [546282.6913, 4946041.8001], [546343.0385, 4946121.0079], [546388.1123, 4946205.1647], [546429.2546, 4946472.1942], [546468.8416, 4946609.6561], [546466.1979, 4946622.338], [546430.4156, 4946652.5481], [546422.6286, 4946672.7988], [546445.2062, 4946708.5311], [546470.4557, 4946729.0637], [546521.1011, 4946749.772], [546586.3205, 4946856.952], [546608.5247, 4946943.4711], [546684.2401, 4947007.5596], [546694.1045, 4947045.7411], [546691.2954, 4947081.2686], [546660.5634, 4947114.0541], [546665.3265, 4947154.7315], [546690.3323, 4947205.7234], [546753.2129, 4947287.4939], [546780.6012, 4947358.8249], [546795.7158, 4947376.7157], [546858.9489, 4947410.2263], [546896.7988, 4947443.5383], [546953.9929, 4947603.9932], [546990.822, 4947769.3809], [546990.1988, 4947850.6625], [547035.0587, 4947962.765], [547029.6936, 4948000.8139], [547039.089, 4948099.9647], [547116.5598, 4948265.657], [547113.6506, 4948313.9068], [547083.1075, 4948321.2824], [547085.4581, 4948346.7014], [547120.8027, 4948374.9089], [547148.4125, 4948418.3011], [547147.8058, 4948497.0353], [547129.759, 4948532.4737], [547131.8895, 4948585.8259], [547200.4693, 4948586.3492], [547248.4796, 4948619.7378], [547349.3866, 4948709.4136], [547394.9396, 4948732.6171], [547505.8942, 4948837.6104], [547581.4069, 4948927.0958], [547836.7618, 4949083.9946], [547854.3861, 4949104.4395], [547854.2384, 4949122.2272], [547775.4554, 4949129.2419], [547704.043, 4949166.802], [547627.0095, 4949275.4321], [547593.7503, 4949305.6617], [547550.5692, 4949305.3286], [547512.5682, 4949292.3404], [547492.4934, 4949261.7028], [547490.1209, 4949238.8236], [547439.8982, 4949162.2482], [547376.7442, 4949118.5714], [547336.1771, 4949108.0981], [547290.4592, 4949107.7408], [547234.4562, 4949122.5497], [547196.1696, 4949147.6642], [547114.2299, 4949233.4026], [547053.1628, 4949248.1761], [546931.2959, 4949239.6238], [546877.8488, 4949251.9068], [546803.842, 4949297.071], [546783.2903, 4949327.3969], [546782.5116, 4949428.9917], [546763.941, 4949532.9756], [546802.1051, 4949525.6539], [546820.2131, 4949482.6167], [546835.886, 4949424.3207], [546866.6425, 4949388.9886], [546938.0894, 4949346.3615], [547029.3923, 4949364.8297], [547166.9621, 4949312.5339], [547279.398, 4949224.5015], [547386.0391, 4949230.4158], [547408.6472, 4949263.6044], [547362.6112, 4949303.88], [547359.429, 4949387.6832], [547381.9621, 4949431.032], [547399.6, 4949448.9577], [547465.5367, 4949462.1507], [547607.7988, 4949460.7102], [547691.8729, 4949428.3379], [547720.0641, 4949395.5311], [547779.1867, 4949304.5286], [547817.4423, 4949284.5052], [547875.8384, 4949287.4931], [547895.9755, 4949313.0519], [547903.1135, 4949374.0549], [547859.1717, 4949472.7894], [547843.8256, 4949487.9169], [547828.2889, 4949525.9048], [547782.2195, 4949571.2723], [547763.9684, 4949632.0947], [547740.902, 4949659.8514], [547707.7434, 4949677.3802], [547666.7811, 4949720.2462], [547613.3604, 4949729.9904], [547597.8925, 4949760.3513], [547597.5394, 4949806.0724], [547577.0791, 4949823.7029], [547483.2624, 4949802.6607], [547432.4444, 4949804.8123], [547409.4015, 4949827.49], [547406.4533, 4949880.8126], [547388.3797, 4949918.7829], [547383.0138, 4949956.8391], [547331.8831, 4949999.6325], [547305.8009, 4950088.3335], [547287.856, 4950111.0489], [547264.254, 4950207.3889], [547215.2922, 4950298.4481], [547166.6527, 4950346.3339], [547122.5035, 4950473.0067], [547114.4774, 4950526.2923], [547068.4969, 4950558.9645], [547006.9798, 4950632.1522], [546996.5681, 4950665.0916], [546993.6051, 4950720.9471], [547026.4734, 4950741.5156], [547046.789, 4950741.6786], [547047.0273, 4950736.5258], [547049.8319, 4950675.6555], [547129.1674, 4950597.5327], [547172.5786, 4950567.3749], [547206.0125, 4950514.29], [547306.0249, 4950390.5896], [547440.0492, 4950137.62], [547465.6449, 4950112.4136], [547626.2401, 4950037.4426], [547710.2559, 4950012.6835], [547720.3266, 4950022.9188], [547730.2011, 4950061.0949], [547732.0627, 4950150.0158], [547747.2432, 4950157.7487], [547760.0631, 4950142.6098], [547798.9264, 4950041.2968], [547809.5231, 4949985.4982], [547795.1747, 4949871.0827], [547810.662, 4949838.197], [547900.2712, 4949744.8887], [547915.8161, 4949704.3683], [547918.9676, 4949625.6528], [547960.0561, 4949567.5481], [547980.3891, 4949565.159], [548003.1493, 4949578.0441], [548025.7259, 4949616.3078], [548060.249, 4949751.203], [548103.038, 4949802.3334], [548117.6212, 4949888.8017], [548132.6934, 4949911.7833], [548134.9612, 4949944.8155], [548119.4534, 4949980.2628], [548144.8524, 4949980.4522], [548162.5732, 4949988.2125], [548152.1977, 4950016.0773], [548169.8617, 4950031.4356], [548149.4109, 4950049.0718], [548149.2677, 4950066.8522], [548172.0312, 4950079.7231], [548215.1503, 4950087.6732], [548303.6624, 4950139.1468], [548346.2427, 4950218.2195], [548368.9185, 4950241.2514], [548424.6097, 4950267.086], [548464.7811, 4950328.3527], [548461.9737, 4950363.8871], [548494.5806, 4950417.4765], [548570.1223, 4950504.4193], [548639.7892, 4950692.9273], [548652.0389, 4950751.4297], [548684.773, 4950789.7873], [548727.6757, 4950825.6742], [548788.4215, 4950854.0831], [548851.8413, 4950864.7387], [548877.1407, 4950877.624], [548920.4814, 4950857.6382], [548963.6384, 4950860.4984], [549021.8566, 4950886.3575], [549089.8782, 4950960.5337], [549129.9527, 4951034.505], [549151.7906, 4951166.7553], [549199.1253, 4951289.0318], [549195.2822, 4951459.1897], [549181.8997, 4951547.9953], [549197.0418, 4951560.8045], [549230.2003, 4951543.2834], [549273.7406, 4951495.3517], [549314.4998, 4951480.4219], [549332.4924, 4951452.6171], [549330.5354, 4951376.3955], [549318.1801, 4951330.5919], [549298.1239, 4951297.4083], [549300.8526, 4951272.0344], [549331.3706, 4951267.1799], [549331.6619, 4951229.0937], [549349.6165, 4951206.3542], [549352.4974, 4951163.1999], [549362.7297, 4951153.1248], [549385.4251, 4951176.1456], [549397.0055, 4951321.0268], [549395.9163, 4951463.256], [549382.9588, 4951496.1944], [549341.947, 4951544.1299], [549285.7216, 4951589.4314], [549229.5887, 4951622.0181], [549120.0684, 4951661.8192], [549066.4662, 4951694.4266], [548995.3863, 4951688.7984], [548959.3616, 4951749.49], [548936.4217, 4951759.4694], [548888.2001, 4951754.0158], [548865.6224, 4951718.2891], [548853.4816, 4951644.5308], [548846.1037, 4951613.9923], [548823.4624, 4951585.8859], [548798.1691, 4951570.4531], [548760.0913, 4951567.6175], [548719.2434, 4951595.2364], [548736.8247, 4951620.7788], [548769.779, 4951628.6486], [548769.5485, 4951659.1294], [548733.641, 4951704.5819], [548595.6068, 4951817.8279], [548529.4492, 4951832.5562], [548486.0399, 4951862.7123], [548366.392, 4951897.3546], [548335.5766, 4951940.2925], [548310.1229, 4951947.7224], [548254.2558, 4951947.2893], [548251.486, 4951975.2109], [548205.4444, 4952018.0428], [548169.4131, 4952078.7314], [548098.1885, 4952090.886], [548098.0559, 4952108.6591], [548150.97, 4952164.9535], [548149.5486, 4952350.3565], [548171.919, 4952414.0438], [548163.6776, 4952495.2543], [548327.5279, 4952659.0692], [548327.3322, 4952684.4773], [548222.8258, 4952731.9145], [548225.2269, 4952749.7214], [548331.8291, 4952760.7176], [548488.9609, 4952807.6288], [548521.5706, 4952861.2188], [548549.4124, 4952874.1369], [548594.6793, 4952932.903], [548627.2161, 4952996.6539], [548616.3835, 4953085.4651], [548529.1128, 4953201.643], [548503.2902, 4953257.3335], [548444.3292, 4953328.0015], [548426.2862, 4953360.8814], [548420.7936, 4953416.7177], [548395.0194, 4953464.7809], [548394.3848, 4953548.6035], [548447.0222, 4953640.4544], [548446.8261, 4953665.8477], [548413.6562, 4953685.9055], [548339.9976, 4953682.8124], [548316.9978, 4953700.4141], [548316.1061, 4953817.2502], [548300.6008, 4953852.6897], [548287.8248, 4953862.7623], [548257.3613, 4953859.9791], [548219.5903, 4953816.5126], [548199.3498, 4953806.1855], [548125.7515, 4953798.0148], [548092.8298, 4953785.0532], [548017.0435, 4953731.1287], [547977.8116, 4953732.5399], [547958.5971, 4953733.2263], [547966.0732, 4953753.6037], [548079.7971, 4953828.1471], [548079.6078, 4953853.5257], [547974.6311, 4953961.9582], [547979.4441, 4953997.5497], [548048.195, 4953975.2221], [548165.8345, 4953871.9659], [548201.3514, 4953877.3341], [548208.8922, 4953887.544], [548213.3893, 4953963.7843], [548273.7618, 4954040.443], [548270.9133, 4954081.0578], [548222.093, 4954154.3514], [548221.8301, 4954187.365], [548262.5201, 4954182.6039], [548283.0069, 4954159.8954], [548288.2609, 4954137.0875], [548336.8673, 4954091.7279], [548340.113, 4954000.3264], [548350.4314, 4953980.082], [548383.662, 4953952.3963], [548395.0211, 4953794.9877], [548423.1613, 4953769.8042], [548474.046, 4953757.5004], [548486.8521, 4953744.8882], [548517.2673, 4953752.7526], [548675.9361, 4953931.7647], [548749.1233, 4953993.2982], [548872.9721, 4954072.9832], [548900.4664, 4954131.617], [548902.7494, 4954164.6499], [548962.8434, 4954279.4165], [549053.593, 4954369.0073], [549141.5936, 4954486.521], [549173.9671, 4954570.5882], [549173.7062, 4954606.1569], [549117.3693, 4954664.1377], [549112.1706, 4954679.3469], [549134.3065, 4954773.4968], [549149.3211, 4954804.0941], [549202.3128, 4954850.2227], [549212.2393, 4954880.7814], [549213.9666, 4954984.9293], [549285.9831, 4955201.3923], [549280.3517, 4955272.4684], [549264.6943, 4955328.2264], [549233.8392, 4955376.2476], [549212.8432, 4955402.8078], [549178.9321, 4955519.3996], [549165.076, 4955669.1529], [549146.9686, 4955712.1987], [549034.4258, 4955812.943], [548973.2981, 4955832.785], [548927.0593, 4955900.9978], [548909.6001, 4956190.4372], [548857.2795, 4956388.1489], [548843.3358, 4956550.6109], [548801.5418, 4956700.1607], [548768.2969, 4956727.8366], [548742.961, 4956720.0241], [548705.1859, 4956679.0944], [548685.1697, 4956638.3067], [548649.628, 4956635.4904], [548631.6226, 4956665.8298], [548586.7825, 4956881.3819], [548573.7663, 4956921.9201], [548540.3233, 4956977.5531], [548514.1824, 4957073.8703], [548497.4688, 4957264.2548], [548507.6296, 4957264.3313], [548535.7224, 4957244.2212], [548569.2042, 4957186.063], [548638.1715, 4957135.7863], [548669.1292, 4957072.5216], [548743.305, 4957007.0514], [548761.3291, 4956974.1796], [548764.4405, 4956900.5436], [548726.6508, 4956859.6063], [548726.892, 4956829.1253], [548747.2184, 4956826.7389], [548840.9537, 4956860.4871], [548864.0018, 4956835.267], [548931.2095, 4956683.3705], [548939.079, 4956650.4146], [548929.2419, 4956609.696], [548929.57, 4956566.5144], [548996.9697, 4956389.2399], [549082.0193, 4956229.8673], [549179.4089, 4956116.307], [549210.0326, 4956098.7593], [549248.1734, 4956093.9851], [549276.2629, 4956073.8781], [549299.9534, 4955967.3842], [549303.4159, 4955848.0195], [549276.7384, 4955682.7148], [549285.4465, 4955540.543], [549308.7254, 4955487.3688], [549368.4645, 4955377.2927], [549391.5482, 4955346.9868], [549414.8181, 4955293.8203], [549417.7993, 4955235.4178], [549395.6003, 4955148.8869], [549396.243, 4955065.0641], [549406.4799, 4955054.9891], [549467.4588, 4955052.9168], [549480.4204, 4955019.9858], [549467.8204, 4955007.1953], [549401.8421, 4954999.0683], [549317.9124, 4955011.1339], [549297.6825, 4955000.8107], [549285.2711, 4954962.6271], [549286.0094, 4954866.1038], [549314.654, 4954774.8746], [549324.8666, 4954767.3321], [549325.411, 4954696.2172], [549302.7724, 4954668.0939], [549295.3015, 4954647.7223], [549338.9065, 4954592.1783], [549357.1933, 4954526.2723], [549373.2972, 4954414.6403], [549401.5696, 4954371.6805], [549434.7835, 4954346.5254], [549455.3323, 4954316.2151], [549437.9405, 4954265.2696], [549402.7468, 4954216.7428], [549403.0585, 4954176.094], [549459.5033, 4954102.8677], [549462.3292, 4954064.7933], [549449.7662, 4954046.9227], [549368.9642, 4953985.3377], [549209.4959, 4953912.999], [549153.6334, 4953910.0325], [549105.8098, 4953853.7755], [549072.8514, 4953845.9186], [549047.3833, 4953853.3306], [549019.6186, 4953830.2573], [548989.199, 4953822.4054], [548961.0183, 4953852.6665], [548925.4245, 4953857.4693], [548897.5385, 4953849.637], [548864.7917, 4953813.8329], [548852.5313, 4953757.8475], [548827.3727, 4953727.1742], [548758.9814, 4953701.2542], [548738.8809, 4953673.1597], [548729.0323, 4953632.4416], [548737.0718, 4953576.6248], [548773.1632, 4953508.334], [548784.132, 4953401.735], [548814.79, 4953379.0976], [548848.1027, 4953341.254], [548886.247, 4953333.9373], [548952.1028, 4953359.832], [549038.0141, 4953418.9176], [549111.03, 4953503.2861], [549231.5636, 4953684.5618], [549281.937, 4953740.8244], [549470.4632, 4953998.8171], [549525.9539, 4954050.0406], [549556.2885, 4954068.048], [549573.8559, 4954096.133], [549649.9451, 4954111.9528], [549781.3202, 4954204.3999], [549813.8545, 4954268.1497], [549818.525, 4954321.5233], [549828.5137, 4954344.4627], [549871.3391, 4954390.5182], [549898.5636, 4954484.6955], [549895.798, 4954512.624], [549870.1558, 4954545.456], [549869.536, 4954624.1763], [549905.1369, 4954619.3789], [549925.9339, 4954558.5743], [549956.3937, 4954561.3506], [549979.1193, 4954579.3011], [550001.6964, 4954615.0248], [550029.4949, 4954635.5698], [550044.7319, 4954635.6808], [550090.7388, 4954597.9347], [550129.1698, 4954555.0495], [550169.7498, 4954562.9787], [550225.3054, 4954606.5881], [550276.0486, 4954612.0643], [550298.551, 4954660.5045], [550272.798, 4954706.0056], [550277.4589, 4954759.3869], [550292.3492, 4954805.2201], [550296.5009, 4954927.184], [550306.561, 4954939.9563], [550306.0506, 4955005.9986], [550287.984, 4955043.9611], [550306.9005, 4955226.9913], [550299.132, 4955247.2526], [550301.423, 4955280.2936], [550331.6557, 4955311.0052], [550372.1221, 4955334.1689], [550374.4963, 4955354.5094], [550359.0281, 4955384.8714], [550330.2784, 4955429.2009], [550379.6668, 4955612.4622], [550394.7436, 4955635.4423], [550412.462, 4955643.1943], [550413.1548, 4955632.2241]], [[546273.3985, 4939963.372], [546339.3627, 4939974.0341], [546445.8293, 4940002.7907], [546541.9715, 4940051.7887], [546597.5324, 4940092.8605], [546670.6145, 4940169.6214], [546733.869, 4940200.5968], [546837.9674, 4940206.4592], [546896.2509, 4940224.6845], [546926.5817, 4940245.2478], [546987.5379, 4940245.7123], [547088.798, 4940289.6605], [547121.3605, 4940350.8688], [547212.3698, 4940407.4526], [547209.2433, 4940483.6347], [547183.6721, 4940506.3023], [547135.2726, 4940523.7085], [547107.0732, 4940556.5105], [547068.2595, 4940650.2067], [547075.509, 4940698.5151], [547092.9874, 4940736.7521], [547113.221, 4940749.6002], [547146.2407, 4940749.8629], [547176.6239, 4940762.7925], [547176.3488, 4940798.3454], [547130.4347, 4940823.3977], [547122.726, 4940836.035], [547123.7798, 4941029.0803], [547133.752, 4941052.0218], [547166.3286, 4941110.6904], [547186.0659, 4941187.054], [547206.1709, 4941215.1351], [547274.4845, 4941251.2184], [547279.3602, 4941276.6557], [547302.1382, 4941286.9976], [547312.4012, 4941274.3644], [547302.7826, 4941203.1917], [547252.6521, 4941116.4449], [547227.7532, 4941050.2115], [547197.4376, 4941029.6616], [547187.6085, 4940986.3997], [547165.0804, 4940943.0526], [547162.7268, 4940917.6338], [547173.0932, 4940892.3152], [547252.2487, 4940837.0387], [547283.3735, 4940753.448], [547306.5035, 4940718.0621], [547309.22, 4940695.2205], [547294.2285, 4940662.0962], [547256.4247, 4940623.7028], [547251.5193, 4940600.7981], [547282.1867, 4940575.6279], [547305.0705, 4940573.2697], [547325.2247, 4940596.2786], [547352.5492, 4940675.2309], [547390.2218, 4940731.4051], [547425.5146, 4940767.2334], [547443.0439, 4940800.384], [547442.6556, 4940851.1919], [547381.3624, 4940893.9034], [547381.2137, 4940914.2162], [547419.1692, 4940932.2902], [547431.6897, 4940955.2583], [547438.5107, 4941059.4403], [547448.6094, 4941067.1422], [547453.4898, 4941092.5871], [547446.6117, 4941328.7499], [547427.6987, 4941475.9188], [547411.9521, 4941541.8477], [547391.2406, 4941592.4919], [547352.7501, 4941642.9913], [547316.3235, 4941757.0175], [547262.1934, 4941860.7539], [547223.798, 4941898.5687], [547203.4017, 4941908.5583], [547185.7208, 4941895.721], [547178.3705, 4941860.1125], [547163.2834, 4941839.6737], [547122.5696, 4941849.5155], [547117.1626, 4941892.6589], [547104.3627, 4941905.2592], [547106.7292, 4941928.1379], [547170.1681, 4941936.2577], [547172.389, 4941976.9092], [547154.5178, 4941989.4723], [547088.4566, 4941991.5017], [547027.3348, 4942013.8889], [546960.8418, 4942071.8001], [546907.4096, 4942084.0911], [546874.4965, 4942068.5967], [546864.5619, 4942040.5754], [546872.3896, 4942012.6977], [546897.9959, 4941984.9637], [546982.3101, 4941922.1009], [547002.6139, 4941924.8034], [547009.96, 4941960.4043], [547045.5486, 4941955.6197], [547043.6885, 4941866.7077], [546972.5417, 4941871.2192], [546694.8908, 4941973.2449], [546598.663, 4941934.4115], [546502.0895, 4941941.2927], [546453.5226, 4941981.5567], [546455.5731, 4942045.083], [546435.1678, 4942055.0749], [546389.591, 4942036.9519], [546368.9619, 4942077.4319], [546297.9164, 4942066.7253], [546249.9933, 4942023.1701], [546232.6225, 4941969.7025], [546217.5199, 4941951.7986], [546217.8132, 4941913.7057], [546207.7999, 4941893.3054], [546195.5935, 4941829.7142], [546198.6351, 4941763.7065], [546226.7884, 4941735.9807], [546280.0895, 4941741.4717], [546330.5894, 4941779.9578], [546411.9895, 4941765.3447], [546419.7428, 4941747.6118], [546420.7774, 4941612.998], [546413.1986, 4941607.8633], [546400.8685, 4941559.4969], [546393.9329, 4941470.5489], [546379.2694, 4941394.2241], [546354.1913, 4941353.4018], [546329.4691, 4941264.3117], [546286.8927, 4941185.2472], [546277.0994, 4941136.8993], [546234.3635, 4941080.7029], [546222.031, 4941032.337], [546186.6191, 4941011.7481], [546153.8626, 4940978.4849], [546075.9106, 4940873.7459], [546073.9206, 4940802.5999], [546081.6687, 4940784.8813], [546117.5122, 4940749.5893], [546132.7809, 4940744.6326], [546160.5548, 4940767.7069], [546162.9509, 4940785.4977], [546205.8193, 4940826.4684], [546216.0626, 4940816.3883], [546204.0589, 4940724.8495], [546298.8985, 4940613.8196], [546309.2332, 4940591.0395], [546309.5217, 4940552.9392], [546266.4599, 4940537.368], [546144.6852, 4940518.6583], [546111.7601, 4940505.708], [546112.076, 4940465.0752], [546152.9652, 4940432.3594], [546155.683, 4940409.5174], [546138.0555, 4940389.0779], [546089.9867, 4940363.3042], [546072.0901, 4940378.3955], [546064.0801, 4940429.1416], [545995.248, 4940461.6297], [545962.2088, 4940463.9203], [545941.97, 4940453.6012], [545929.4304, 4940433.1835], [545929.8046, 4940384.9306], [545958.4453, 4940293.6958], [545992.0223, 4940220.3068], [546045.8738, 4940154.6827], [546051.2206, 4940119.166], [546082.2479, 4940048.2699], [546156.3909, 4939985.3313], [546214.966, 4939965.465], [546273.3985, 4939963.372]], [[549663.9524, 4949301.2046], [549701.8959, 4949321.8184], [549737.0743, 4949372.8788], [549749.493, 4949408.5301], [549748.9893, 4949474.557], [549728.1269, 4949545.5148], [549697.2092, 4949601.1688], [549630.4719, 4949692.1029], [549594.3735, 4949762.9514], [549596.7526, 4949783.2914], [549639.6962, 4949814.1042], [549672.6588, 4949821.9784], [549749.1908, 4949779.3769], [549802.4866, 4949784.861], [549812.5061, 4949802.7273], [549783.9351, 4949886.3191], [549753.1413, 4949926.7325], [549727.1458, 4950005.2714], [549698.9663, 4950035.5443], [549691.1691, 4950058.3388], [549619.7269, 4950100.9653], [549622.1749, 4950113.6926], [549662.5848, 4950141.9459], [549726.0587, 4950144.975], [549725.5409, 4950213.5346], [549702.233, 4950271.7874], [549691.5879, 4950335.2183], [549721.3472, 4950429.4282], [549713.4239, 4950470.0032], [549766.4789, 4950505.9679], [549779.009, 4950528.9191], [549788.7974, 4950577.2588], [549778.152, 4950640.6747], [549750.0194, 4950665.8673], [549704.2235, 4950675.6678], [549651.0169, 4950657.484], [549552.4291, 4950595.7608], [549494.3164, 4950554.6786], [549425.9997, 4950521.1246], [549126.2905, 4950518.8356], [549098.4587, 4950503.3972], [549068.0252, 4950498.0779], [549050.0945, 4950518.2558], [548991.4713, 4950543.2051], [548932.9992, 4950550.382], [548841.7878, 4950519.2009], [548700.6654, 4950373.3272], [548637.8306, 4950286.4935], [548519.7475, 4950115.3955], [548520.0827, 4950072.2219], [548532.8854, 4950059.6171], [548535.5734, 4950039.3231], [548492.6505, 4950005.9703], [548452.4636, 4949947.2362], [548437.8086, 4949870.9347], [548435.5976, 4949827.7346], [548443.2762, 4949820.1716], [548463.543, 4949827.9444], [548486.1815, 4949856.0642], [548498.6115, 4949891.7057], [548516.2887, 4949904.547], [548529.2827, 4949866.5564], [548509.2803, 4949825.7479], [548466.4756, 4949777.1549], [548454.1925, 4949721.2003], [548436.4713, 4949713.4318], [548357.4832, 4949745.8547], [548324.4427, 4949748.14], [548304.3626, 4949717.4998], [548285.0096, 4949590.3447], [548283.2777, 4949483.6579], [548321.6531, 4949448.4044], [548352.1736, 4949443.5452], [548379.9197, 4949469.1626], [548433.0368, 4949497.5107], [548450.568, 4949530.6649], [548468.2706, 4949540.9661], [548481.3224, 4949495.3404], [548504.3025, 4949480.2718], [548549.7451, 4949516.1838], [548570.002, 4949523.9643], [548577.7004, 4949513.8614], [548568.1134, 4949440.1232], [548598.9836, 4949389.5589], [548599.2184, 4949359.0782], [548581.6302, 4949333.5363], [548553.7696, 4949323.1732], [548523.1286, 4949343.2496], [548500.0249, 4949376.106], [548469.4954, 4949383.4973], [548399.7134, 4949207.6846], [548354.5669, 4949131.1401], [548294.144, 4949062.0948], [548261.8186, 4948970.4057], [548242.0963, 4948891.5046], [548252.8125, 4948820.4664], [548308.9157, 4948792.9586], [548329.6506, 4948737.2368], [548360.1501, 4948734.9324], [548418.3659, 4948763.311], [548459.0945, 4948750.9304], [548522.6153, 4948748.8748], [548575.7706, 4948772.1586], [548628.7779, 4948815.7486], [548628.2424, 4948886.8407], [548615.077, 4948945.1588], [548602.2303, 4948965.3911], [548599.0478, 4949049.1939], [548613.7029, 4949125.5031], [548618.2381, 4949196.663], [548633.3625, 4949212.0108], [548701.8208, 4949227.7756], [548802.952, 4949289.5045], [548815.6554, 4949289.6154], [548823.3545, 4949279.5054], [548828.7764, 4949233.8375], [548821.3954, 4949203.2843], [548793.7319, 4949167.5196], [548725.416, 4949131.4332], [548695.2493, 4949090.5549], [548690.4082, 4949060.0359], [548708.3801, 4949034.7768], [548810.0328, 4949027.9463], [548868.84, 4948977.6019], [548899.3386, 4948975.2927], [548942.3242, 4949001.0206], [548967.3417, 4949052.0145], [548964.0635, 4949148.5101], [548889.8447, 4949221.5987], [548889.6994, 4949239.3865], [548909.775, 4949272.5613], [548935.0507, 4949287.9941], [548975.8124, 4949273.062], [549018.4186, 4949347.0515], [549051.4422, 4949347.3024], [549034.4644, 4949243.0249], [549035.2748, 4949136.3571], [549050.7791, 4949100.9119], [549073.8199, 4949078.2252], [549206.0728, 4949056.385], [549254.1136, 4949084.6863], [549276.6599, 4949125.4943], [549288.3745, 4949255.1345], [549303.5306, 4949265.4185], [549321.3299, 4949262.9995], [549372.9495, 4949156.7275], [549429.1558, 4949113.9667], [549459.9318, 4949076.0993], [549459.999, 4949065.9464], [549531.8713, 4948969.9843], [549565.0334, 4948952.45], [549590.3674, 4948960.2578], [549597.7699, 4948988.2644], [549599.5301, 4949089.879], [549583.9057, 4949140.5558], [549563.443, 4949158.1875], [549517.2966, 4949213.6957], [549522.3001, 4949223.9024], [549562.7604, 4949247.0749], [549638.7319, 4949278.1412], [549663.9524, 4949301.2046]], [[546990.0752, 4945879.5652], [547045.5428, 4945933.3349], [547096.182, 4945954.0549], [547152.0639, 4945954.4773], [547184.9802, 4945967.4333], [547217.7532, 4946000.7026], [547227.7435, 4946023.6447], [547252.2029, 4946145.7524], [547241.7699, 4946181.2239], [547253.8799, 4946257.5181], [547250.0643, 4946425.1425], [547229.5626, 4946447.8468], [547135.0442, 4946518.2373], [547114.7999, 4946507.9288], [547076.7233, 4946505.1036], [547038.2081, 4946558.1374], [547011.8767, 4946679.8598], [547044.0655, 4946789.3296], [547048.5331, 4946868.1006], [547068.1022, 4946967.3105], [547095.4698, 4947041.1902], [547125.6405, 4947082.0607], [547193.2502, 4947209.5787], [547195.6035, 4947232.4576], [547203.1803, 4947237.6007], [547200.2517, 4947288.3831], [547154.1129, 4947343.9007], [547093.0279, 4947358.6813], [547039.8107, 4947343.0301], [546989.2086, 4947317.245], [546916.1336, 4947240.4784], [546883.2311, 4947224.9984], [546850.0862, 4947239.9842], [546827.2287, 4947239.7962], [546814.6343, 4947227.0113], [546805.3653, 4947112.6357], [546783.1461, 4947028.6486], [546723.0543, 4946913.8682], [546642.3806, 4946834.5245], [546572.0916, 4946724.7524], [546547.4205, 4946630.5878], [546490.0298, 4946495.5225], [546501.6946, 4946300.0198], [546530.0888, 4946239.2821], [546621.8426, 4946199.3377], [546670.5661, 4946141.295], [546698.6531, 4946121.1765], [546787.71, 4946101.5364], [546846.3164, 4946076.6037], [546889.8878, 4946026.1309], [546954.4102, 4945892.0068], [546990.0752, 4945879.5652]], [[545798.9204, 4937577.1687], [545902.9959, 4937585.5777], [546024.4689, 4937644.9295], [546024.3012, 4937667.7896], [545980.8556, 4937700.4808], [545954.409, 4937837.4387], [545915.6867, 4937918.4339], [545861.8989, 4937976.4317], [545662.5214, 4938140.0139], [545639.3095, 4938185.5507], [545542.069, 4938278.7923], [545435.1781, 4938305.9239], [545397.1003, 4938303.0797], [545397.2533, 4938282.7596], [545438.4156, 4938217.0416], [545451.4207, 4938176.4979], [545452.2506, 4938067.285], [545472.8095, 4938036.9624], [545465.6728, 4937973.4013], [545427.9989, 4937917.2316], [545430.8733, 4937874.0694], [545454.026, 4937836.1519], [545533.116, 4937791.0293], [545558.8148, 4937753.13], [545691.9274, 4937616.9814], [545765.8825, 4937579.4532], [545798.9204, 4937577.1687]], [[549566.8899, 4948708.604], [549505.4715, 4948769.1126], [549467.2464, 4948784.0608], [549424.0527, 4948786.2701], [549393.7332, 4948765.709], [549373.6001, 4948740.1603], [549358.7342, 4948691.7826], [549313.0713, 4948683.813], [549259.4032, 4948726.572], [549226.2708, 4948741.5605], [549172.9132, 4948743.6941], [549114.841, 4948697.5282], [549115.2134, 4948649.2745], [549135.7186, 4948624.0285], [549179.0593, 4948604.0369], [549278.0762, 4948609.8798], [549319.0122, 4948572.1041], [549362.8288, 4948488.6121], [549414.0027, 4948440.747], [549457.8603, 4948352.1682], [549506.5092, 4948301.7369], [549570.1165, 4948286.9985], [549613.2071, 4948300.0231], [549671.2457, 4948351.2588], [549723.9701, 4948430.4185], [549733.8214, 4948471.1156], [549710.2284, 4948564.929], [549687.1016, 4948600.3065], [549617.9802, 4948670.9082], [549566.8899, 4948708.604]], [[547142.6984, 4945187.3108], [547226.4967, 4945190.485], [547289.7626, 4945221.452], [547347.7094, 4945282.8629], [547389.9786, 4945402.5688], [547389.5716, 4945455.9097], [547374.0629, 4945491.3585], [547351.0316, 4945514.0292], [547315.3507, 4945528.9941], [547235.9728, 4945612.2172], [547205.4089, 4945622.1249], [547144.498, 4945616.5925], [547053.3483, 4945577.7957], [546982.585, 4945531.5353], [546932.211, 4945475.2556], [546932.5773, 4945427.0023], [547020.1001, 4945275.2721], [547109.606, 4945197.2228], [547142.6984, 4945187.3108]], [[549579.3538, 4947083.0785], [549617.4121, 4947088.4437], [549650.2113, 4947116.638], [549670.2793, 4947149.815], [549680.0886, 4947195.6067], [549677.0887, 4947256.5486], [549602.0227, 4947438.8515], [549576.3902, 4947469.1372], [549496.8697, 4947570.128], [549460.7719, 4947640.9845], [549394.0731, 4947726.8336], [549363.5349, 4947734.2206], [549362.1249, 4947586.8854], [549471.8398, 4947191.4754], [549520.832, 4947095.3231], [549579.3538, 4947083.0785]], [[546628.8113, 4941977.819], [546676.8764, 4942003.5969], [546808.9931, 4941999.5156], [546829.1706, 4942017.4502], [546825.7284, 4942134.273], [546835.7892, 4942147.0541], [546837.7914, 4942218.1784], [546809.6611, 4942243.3691], [546786.7833, 4942245.7437], [546774.1684, 4942232.9443], [546771.9138, 4942197.3582], [546784.7386, 4942179.6772], [546784.9382, 4942154.2844], [546754.6107, 4942133.729], [546602.1988, 4942135.1027], [546564.2011, 4942122.1134], [546582.2984, 4942081.6084], [546582.4081, 4942066.3682], [546519.0664, 4942045.5615], [546514.2014, 4942017.5847], [546527.06, 4941997.3632], [546560.1205, 4941992.5356], [546628.8113, 4941977.819]], [[548178.209, 4948611.6126], [548264.3317, 4948642.7458], [548264.1039, 4948673.2265], [548235.3974, 4948772.0798], [548202.1539, 4948802.3065], [548115.6386, 4948821.9679], [548092.8432, 4948814.1774], [548065.1122, 4948786.0064], [548065.6007, 4948722.5273], [548045.3543, 4948712.2009], [548022.3212, 4948734.8913], [547999.3964, 4948742.3266], [547984.2422, 4948732.0532], [547974.2642, 4948709.1246], [547967.1186, 4948645.5665], [547979.923, 4948632.9606], [548020.6433, 4948623.11], [548073.7638, 4948651.455], [548099.1385, 4948654.1916], [548132.4307, 4948618.877], [548178.209, 4948611.6126]], [[550046.5117, 4950094.0783], [550084.5532, 4950101.9941], [550091.6275, 4950173.1677], [550076.07, 4950213.6905], [550040.1415, 4950261.6685], [550034.6131, 4950320.0507], [550044.1347, 4950403.9518], [550030.9712, 4950464.815], [550013.066, 4950479.9174], [549995.27, 4950482.3197], [549937.2036, 4950436.1461], [549924.7578, 4950403.0343], [549922.5516, 4950359.8409], [549951.4568, 4950233.0537], [550003.0797, 4950126.7644], [550046.5117, 4950094.0783]], [[548690.221, 4945107.7232], [548696.9796, 4945219.5277], [548678.5764, 4945300.6825], [548655.2911, 4945356.384], [548583.6263, 4945426.9553], [548560.6668, 4945439.4689], [548540.3694, 4945436.7688], [548538.0475, 4945408.8166], [548545.7834, 4945393.641], [548569.8523, 4945236.3449], [548636.5597, 4945150.4875], [548690.221, 4945107.7232]], [[545086.7822, 4938028.9169], [545129.936, 4938031.7946], [545139.8034, 4938069.958], [545160.0333, 4938082.8146], [545223.5229, 4938083.302], [545213.0306, 4938126.3963], [545174.6417, 4938164.2084], [545037.104, 4938213.9645], [544999.1014, 4938200.97], [545001.7752, 4938183.215], [545042.8194, 4938130.1796], [545043.0754, 4938097.1669], [545033.0274, 4938081.8562], [545038.2589, 4938061.5715], [545086.7822, 4938028.9169]], [[547746.4288, 4948275.5647], [547759.0832, 4948283.2789], [547766.5297, 4948303.663], [547763.6211, 4948351.8978], [547748.0501, 4948394.9586], [547734.5026, 4948506.6271], [547718.9885, 4948542.0604], [547701.2122, 4948541.9142], [547701.6543, 4948483.5077], [547709.4087, 4948465.791], [547718.0022, 4948338.8521], [547728.4962, 4948295.7463], [547746.4288, 4948275.5647]], [[547996.1217, 4948175.8674], [547983.0007, 4948231.6468], [547947.1097, 4948274.5636], [547926.8104, 4948271.8578], [547927.0985, 4948233.7644], [547975.7843, 4948178.249], [547996.1217, 4948175.8674]]], \"spatialReference\": {\"wkid\": 26919, \"latestWkid\": 26919}}}}, {\"geometry\": {\"rings\": [[[535531.7203, 4946543.3917], [535633.5233, 4946500.674], [535808.8197, 4946491.3273], [535890.0035, 4946514.5502], [536055.4025, 4946449.2723], [536098.4891, 4946469.7896], [536149.2559, 4946477.6346], [536179.8237, 4946457.4551], [536207.9547, 4946419.4885], [536294.406, 4946399.5711], [536419.4726, 4946268.0697], [536437.4173, 4946230.0467], [536496.213, 4946149.0426], [536516.556, 4946144.0476], [536599.9676, 4946233.3428], [536622.7726, 4946246.1356], [536655.8522, 4946233.593], [536704.3325, 4946185.5465], [536780.6734, 4946155.425], [536884.8182, 4946155.9077], [536948.2711, 4946166.3567], [536981.3756, 4946148.7282], [537058.0126, 4946052.5534], [537080.946, 4946037.422], [537111.4324, 4946035.0347], [537146.6361, 4946113.9145], [537148.863, 4946182.5109], [537125.6563, 4946253.5308], [537122.7624, 4946332.251], [537165.9183, 4946337.5275], [537221.9833, 4946297.1489], [537298.292, 4946274.6538], [537341.4921, 4946272.3114], [537402.309, 4946300.538], [537412.3653, 4946323.4352], [537447.8282, 4946343.9248], [537470.689, 4946344.0203], [537501.3301, 4946311.1393], [537537.3101, 4946219.859], [537570.4496, 4946194.628], [537679.6862, 4946190.0432], [537697.503, 4946182.5045], [537791.9335, 4946086.4126], [537852.9663, 4946071.4476], [537893.7904, 4946028.4676], [537896.4305, 4946008.1545], [537850.9459, 4945957.1444], [537871.5451, 4945898.8124], [537919.9433, 4945868.5554], [537937.8285, 4945843.2442], [537940.7036, 4945772.1447], [537887.5476, 4945731.2647], [537844.4032, 4945723.4285], [537763.0813, 4945733.2169], [537747.8776, 4945722.9823], [537748.0674, 4945682.3487], [537712.767, 4945626.304], [537611.3361, 4945590.2843], [537570.6882, 4945590.0922], [537527.296, 4945635.6069], [537504.4285, 4945638.0513], [537501.9495, 4945625.3436], [537532.632, 4945582.2951], [537532.8636, 4945531.5012], [537556.2299, 4945422.3816], [537569.0316, 4945399.5874], [537618.0707, 4945229.632], [537641.1637, 4945181.4818], [537674.3269, 4945148.6163], [537788.9866, 4945072.9484], [537908.3961, 4945068.4046], [538075.8165, 4945114.889], [538210.3751, 4945130.7537], [538281.2985, 4945171.7119], [538283.3755, 4945270.7895], [538293.4499, 4945288.6079], [538313.7074, 4945301.4138], [538336.5871, 4945298.9723], [538425.7906, 4945235.8877], [538468.9674, 4945236.0779], [538473.962, 4945253.8812], [538466.1862, 4945286.8566], [538433.0089, 4945319.7329], [538430.3828, 4945340.0457], [538463.3656, 4945347.8179], [538557.4937, 4945315.2164], [538590.641, 4945287.4579], [538611.2537, 4945226.5808], [538603.737, 4945203.6746], [538606.7685, 4945097.0218], [538655.0308, 4945097.2437], [538688.1792, 4945066.9159], [538756.79, 4945062.1357], [538777.1979, 4945041.9222], [538833.1377, 4945029.4685], [538901.9554, 4944978.9982], [538980.8119, 4944953.9535], [539029.3033, 4944905.9169], [539136.3298, 4944830.2044], [539151.6701, 4944807.4213], [539263.9835, 4944688.568], [539287.0234, 4944648.014], [539341.1663, 4944475.5547], [539369.2722, 4944440.1195], [539448.0701, 4944427.7807], [539488.8226, 4944402.5615], [539588.3842, 4944293.8039], [539586.0992, 4944237.9143], [539555.8918, 4944181.8908], [539553.4365, 4944161.5547], [539573.7932, 4944154.0292], [539632.1762, 4944161.9258], [539690.4077, 4944154.8552], [539761.4869, 4944160.4686], [539804.3876, 4944196.3686], [539826.9995, 4944229.5518], [539829.2596, 4944265.1277], [539795.9915, 4944297.9002], [539762.5617, 4944350.9929], [539688.2798, 4944431.695], [539610.2983, 4944499.6449], [539561.6506, 4944583.2381], [539564.0386, 4944616.2672], [539607.2195, 4944616.465], [539627.4408, 4944639.4205], [539642.6905, 4944636.9443], [539686.9447, 4944606.949], [539725.2904, 4944574.2219], [539723.0193, 4944538.6386], [539745.9958, 4944523.5761], [539799.3204, 4944526.5258], [539811.8081, 4944554.559], [539801.4499, 4944579.8818], [539750.3811, 4944615.0481], [539704.1629, 4944680.7484], [539686.3815, 4944680.6021], [539652.4985, 4944710.6685], [539639.549, 4944766.4869], [539685.5729, 4944784.7429], [539718.5875, 4944784.9901], [539751.8214, 4944757.3121], [539767.3266, 4944721.8604], [539795.5286, 4944689.064], [539831.1751, 4944679.1748], [539854.2142, 4944656.4852], [539921.1407, 4944540.1628], [539954.4134, 4944507.3984], [540028.3198, 4944474.9376], [540048.8281, 4944449.7076], [540069.5207, 4944401.588], [540029.1233, 4944370.8042], [540026.7329, 4944350.4683], [540064.9138, 4944340.5961], [540102.7581, 4944373.9118], [540138.2437, 4944384.3445], [540436.987, 4944180.8844], [540498.7692, 4944074.6741], [540547.3461, 4944034.4104], [540573.1028, 4943986.339], [540606.3923, 4943951.0378], [540738.569, 4943939.3464], [540797.2185, 4943909.316], [540881.6759, 4943826.1581], [540902.3767, 4943778.0412], [540945.9799, 4943722.4859], [541035.2917, 4943669.8424], [541119.7501, 4943586.658], [541175.8026, 4943564.2275], [541208.9903, 4943541.6221], [541282.8498, 4943516.7807], [541334.1355, 4943453.664], [541403.1047, 4943403.4061], [541481.9881, 4943383.6942], [541525.3825, 4943356.083], [541530.6686, 4943330.7229], [541582.0126, 4943259.9881], [541694.1216, 4943215.1355], [541752.9187, 4943164.7787], [541791.1257, 4943152.3766], [541882.9968, 4943094.6587], [541982.0832, 4943092.8796], [542015.1831, 4943082.9784], [542099.3618, 4943035.3446], [542142.8657, 4942992.5047], [542173.7245, 4942944.4876], [542199.6792, 4942871.0149], [542230.7253, 4942800.1379], [542261.3284, 4942782.5864], [542307.0484, 4942782.9298], [542337.3706, 4942803.479], [542438.7188, 4942837.2763], [542618.689, 4942884.3971], [542623.5428, 4942914.9109], [542597.949, 4942940.1141], [542536.893, 4942952.3389], [542455.5903, 4942954.2485], [542343.5747, 4942988.9651], [542249.2212, 4943036.4997], [542180.1419, 4943102.011], [542024.618, 4943177.0177], [541968.2095, 4943245.1686], [541968.0836, 4943262.9414], [542000.904, 4943288.6004], [542000.1885, 4943380.0336], [542053.1116, 4943436.32], [542103.7871, 4943451.9573], [542157.3834, 4943419.3587], [542177.7009, 4943419.4986], [542195.3818, 4943432.3443], [542215.2543, 4943490.9048], [542232.8195, 4943518.9908], [542229.7932, 4943582.4673], [542160.9615, 4943614.9585], [542073.7711, 4943723.5058], [542071.02, 4943751.4296], [542063.3584, 4943756.4526], [542065.19, 4943847.9098], [542077.7732, 4943863.2474], [542072.3206, 4943911.4674], [542135.3442, 4943975.4482], [542140.1398, 4944011.0415], [542122.1314, 4944041.3911], [542111.6588, 4944081.9505], [542083.2882, 4944137.6046], [542083.1016, 4944163.0123], [542126.0275, 4944196.3582], [542128.4498, 4944211.6149], [542097.8159, 4944231.7143], [542094.9393, 4944274.8707], [542152.9122, 4944333.7386], [542160.3487, 4944356.6485], [542152.501, 4944387.0643], [542139.6999, 4944399.6668], [542098.9562, 4944414.5978], [542070.7735, 4944444.8739], [542065.332, 4944493.0939], [542072.8672, 4944503.2961], [542118.5524, 4944508.7258], [542133.7097, 4944519.0148], [542125.4346, 4944605.3186], [542148.3074, 4944602.9424], [542337.0613, 4944500.2445], [542413.9371, 4944411.9246], [542631.3696, 4944212.9347], [542715.3316, 4944195.8041], [542718.2408, 4944147.5604], [542731.1274, 4944122.2589], [542802.5994, 4944077.0756], [542818.0903, 4944044.1784], [542818.3964, 4944003.5454], [542808.4412, 4943978.0631], [542768.1326, 4943934.5693], [542765.9787, 4943883.7446], [542781.3868, 4943861.0074], [542832.3289, 4943843.6155], [542847.7426, 4943820.8785], [542855.7058, 4943775.2233], [542904.2115, 4943745.1076], [542912.2806, 4943686.7525], [542899.8276, 4943653.6331], [542844.2033, 4943620.183], [542839.2228, 4943607.4493], [542857.1579, 4943587.2617], [542982.1424, 4943519.6554], [543012.9671, 4943474.1599], [543013.1794, 4943446.2196], [542985.4897, 4943412.9913], [542993.8059, 4943321.6086], [543011.8816, 4943283.6487], [543032.808, 4943205.0655], [543078.8381, 4943164.7666], [543185.722, 4943140.1891], [543214.1192, 4943079.4448], [543305.9704, 4943026.8049], [543354.8729, 4942943.3743], [543441.8561, 4942860.2144], [543482.9284, 4942804.6442], [543600.8532, 4942665.8408], [543644.2405, 4942638.2288], [543705.6768, 4942575.1992], [543805.3187, 4942499.7724], [543937.8652, 4942439.8189], [544047.5673, 4942377.1649], [544091.1076, 4942329.2282], [544117.4058, 4942215.1377], [544153.2706, 4942174.7548], [544166.3559, 4942124.0559], [544141.3643, 4942070.5199], [544080.6212, 4942042.127], [544050.4271, 4942003.7968], [544050.9575, 4941935.2164], [544041.0903, 4941897.0321], [544011.0426, 4941840.9221], [543963.8245, 4941705.9435], [543956.6207, 4941650.0187], [544000.0509, 4941617.3216], [544020.6755, 4941579.3818], [544023.5049, 4941541.2988], [544150.4728, 4941544.8079], [544305.7627, 4941500.2652], [544432.8693, 4941485.9996], [544491.5216, 4941455.9727], [543790.4965, 4941450.6124], [543788.0202, 4941442.9678], [543686.6779, 4941409.1646], [543597.7832, 4941408.4909], [543577.5214, 4941400.7118], [543532.2587, 4941341.9393], [543532.7835, 4941273.3737], [543591.5349, 4941230.6312], [543599.3428, 4941205.2898], [543595.2494, 4941075.7296], [543530.2408, 4940940.6125], [543467.5083, 4940841.0585], [543351.2986, 4940758.8982], [543277.9523, 4940717.6835], [543167.2413, 4940579.6728], [543094.0704, 4940515.615], [543030.8298, 4940482.0984], [542969.9711, 4940468.9415], [542845.4809, 4940473.0705], [542787.1891, 4940454.8447], [542708.7519, 4940416.1357], [542665.3592, 4940443.754], [542624.2294, 4940506.9345], [542613.8196, 4940539.8804], [542598.3385, 4940570.2379], [542575.3238, 4940590.3853], [542493.9898, 4940597.3823], [542419.7988, 4940665.3904], [542370.8585, 4940753.9228], [542332.3983, 4940801.8819], [542324.4688, 4940842.4648], [542306.451, 4940872.8064], [542285.5755, 4940946.3117], [542257.2226, 4940999.4324], [542147.0111, 4941128.1421], [542080.5658, 4941180.9637], [541953.0559, 4941246.0311], [541864.2028, 4941240.2643], [541828.5388, 4941252.6899], [541775.2792, 4941242.1334], [541739.3924, 4941285.0249], [541759.1294, 4941361.3934], [541722.9934, 4941437.3051], [541663.7636, 4941541.0023], [541605.3803, 4941538.0124], [541464.6613, 4941669.0258], [541385.1148, 4941775.0911], [541369.5615, 4941815.6116], [541328.4155, 4941881.3477], [541317.9394, 4941921.9008], [541294.9874, 4941934.4327], [541264.6039, 4941921.4937], [541262.2431, 4941898.6174], [541298.0911, 4941860.7885], [541308.5619, 4941820.2354], [541316.2252, 4941815.2041], [541321.512, 4941787.3038], [541349.9723, 4941718.9464], [541340.2395, 4941662.9864], [541344.152, 4941485.2093], [541326.6848, 4941444.4259], [541310.6892, 4941452.2774], [541306.2858, 4941454.4414], [541263.1689, 4941776.6968], [541227.2238, 4941827.2333], [541196.6087, 4941844.7674], [541148.2525, 4941857.101], [541135.4001, 4941877.3182], [541158.0996, 4941897.8207], [541155.4431, 4941913.0446], [541137.5305, 4941930.682], [541139.9131, 4941951.0182], [541167.6564, 4941976.6331], [541246.2228, 4942000.1059], [541256.2198, 4942020.4981], [541255.9131, 4942061.1309], [541242.8832, 4942104.2154], [541212.1458, 4942136.9894], [541153.6285, 4942149.2435], [541102.64, 4942174.2466], [541082.3671, 4942166.4752], [541031.5824, 4942166.0862], [540949.7732, 4942234.0552], [540885.7272, 4942304.685], [540829.5209, 4942347.4308], [540722.7294, 4942361.8577], [540661.6026, 4942384.2455], [540635.9828, 4942411.9741], [540592.2198, 4942487.8515], [540533.7176, 4942497.5563], [540497.9624, 4942522.6966], [540469.6893, 4942565.6649], [540451.4308, 4942629.0245], [540323.0896, 4942803.2998], [540302.4431, 4942846.3312], [540299.6519, 4942879.3281], [540261.1984, 4942924.7444], [540192.3016, 4942964.8617], [540176.9113, 4942985.0576], [540169.0502, 4943015.4829], [540148.5422, 4943040.7347], [540105.2832, 4943050.5676], [540061.8458, 4943083.246], [540056.6862, 4943095.9074], [540058.5622, 4943182.2762], [540019.6975, 4943281.049], [539919.494, 4943430.1495], [539878.692, 4943450.1447], [539824.8671, 4943513.2423], [539785.7206, 4943650.102], [539744.7115, 4943698.0531], [539691.2185, 4943717.9641], [539578.0969, 4943770.5246], [539400.0611, 4943820.4991], [539344.5119, 4943818.1095], [539334.031, 4943817.668], [539311.0085, 4943853.1047], [539290.6617, 4943860.6384], [539250.0592, 4943850.2831], [539222.1149, 4943852.6907], [539140.3312, 4943961.5467], [538959.3726, 4944095.3325], [538938.9205, 4944123.1804], [538928.5436, 4944171.3952], [538930.6119, 4944273.0056], [538955.7495, 4944328.9956], [538952.9652, 4944384.8692], [538927.3634, 4944427.9343], [538878.9556, 4944460.7387], [538753.8274, 4944602.3978], [538677.4203, 4944647.7588], [538649.3542, 4944675.5769], [538598.4468, 4944698.1857], [538534.9529, 4944697.8957], [538428.065, 4944743.1299], [538390.0039, 4944732.8024], [538316.3458, 4944732.4542], [538235.0061, 4944744.7916], [538202.05, 4944731.9479], [538095.7543, 4944647.6295], [538047.6021, 4944624.5513], [537697.4598, 4944539.105], [537629.0398, 4944505.7735], [537587.4674, 4944503.3988], [537580.7933, 4944503.0119], [537545.1226, 4944525.7102], [537560.0482, 4944594.3582], [537544.7498, 4944604.4447], [537443.1488, 4944603.9812], [537280.4716, 4944631.1748], [537079.5653, 4944683.5988], [536995.6904, 4944695.9151], [536972.7671, 4944708.4994], [536949.7158, 4944749.0244], [536929.4262, 4944743.8578], [536899.18, 4944692.9195], [536899.5489, 4944611.6376], [536856.4918, 4944586.0425], [536823.4614, 4944588.4314], [536744.5713, 4944621.0856], [536660.3708, 4944701.9803], [536527.9276, 4944780.1225], [536456.7751, 4944787.4077], [536400.7539, 4944817.6253], [536271.0624, 4944850.0585], [536200.0305, 4944829.406], [536167.0015, 4944831.7982], [536144.066, 4944846.9477], [536095.5446, 4944905.1142], [536072.4481, 4944955.8173], [536028.4796, 4945125.7974], [535920.7732, 4945351.3652], [535920.4872, 4945412.3266], [535955.5797, 4945511.557], [535952.7618, 4945572.5043], [535934.5728, 4945661.3224], [535885.994, 4945732.213], [535794.2858, 4945787.6611], [535702.5073, 4945860.8984], [535625.8988, 4945949.454], [535592.4741, 4946038.2038], [535548.9331, 4946116.745], [535543.6034, 4946170.0584], [535497.4821, 4946258.7536], [535499.531, 4946362.9027], [535519.6233, 4946413.7935], [535516.9037, 4946451.8804], [535529.3877, 4946497.6566], [535531.7203, 4946543.3917]], [[542573.8498, 4941776.584], [542573.5234, 4941819.7568], [542552.7867, 4941872.9338], [542547.0584, 4941956.706], [542536.6732, 4941987.112], [542475.1666, 4942057.7578], [542436.9562, 4942072.7109], [542353.269, 4942054.2925], [542325.591, 4942021.0599], [542323.2568, 4941993.0957], [542343.7932, 4941965.3181], [542397.3213, 4941940.3265], [542425.6434, 4941892.2791], [542443.5431, 4941877.1779], [542484.2649, 4941867.3291], [542555.9882, 4941786.6048], [542573.8498, 4941776.584]], [[542452.3218, 4944043.9064], [542495.4401, 4944051.8546], [542502.7868, 4944087.4872], [542494.9038, 4944122.9827], [542425.6577, 4944208.8042], [542404.6924, 4944292.4842], [542376.6229, 4944310.0368], [542328.3824, 4944307.1361], [542298.1285, 4944276.4192], [542293.2079, 4944256.0584], [542313.6986, 4944233.3682], [542314.6062, 4944116.5198], [542327.6121, 4944075.9848], [542340.3484, 4944071.0027], [542408.8727, 4944079.1389], [542452.3218, 4944043.9064]], [[543285.8434, 4942338.297], [543298.3991, 4942356.1769], [543303.0758, 4942409.5661], [543315.6983, 4942419.8112], [543323.1436, 4942442.7373], [543315.1087, 4942496.0118], [543268.9875, 4942549.0018], [543263.2492, 4942635.321], [543227.6345, 4942642.6737], [543192.8105, 4942545.8858], [543167.7565, 4942499.9588], [543134.9481, 4942471.7687], [543132.5889, 4942448.8916], [543153.1169, 4942421.1165], [543219.2385, 4942411.4493], [543267.9822, 4942348.3233], [543285.8434, 4942338.297]], [[541821.5926, 4942159.4373], [541834.0764, 4942187.4818], [541782.6775, 4942265.8272], [541764.8237, 4942275.8577], [541739.4159, 4942275.6567], [541726.8828, 4942255.2399], [541724.5729, 4942224.7433], [541785.803, 4942189.658], [541821.5926, 4942159.4373]]], \"spatialReference\": {\"wkid\": 26919, \"latestWkid\": 26919}}, \"attributes\": {\"OBJECTID_1\": 23, \"OBJECTID\": 478, \"ComID\": 2680654, \"Permanent_\": \"2680654\", \"FDate\": 931046400000, \"Resolution\": 3, \"GNIS_ID\": \"00581429\", \"GNIS_Name\": \"Green Lake\", \"AreaSqKm\": 12.721, \"Elevation\": 0, \"ReachCode\": \"01050002003875\", \"FType\": 390, \"FCode\": 39004, \"Shape_Leng\": 0.418623617891, \"Shape__Area\": 12711592.5908203, \"Shape__Length\": 38116.8290230809, \"SHAPE\": {\"rings\": [[[535531.7203, 4946543.3917], [535633.5233, 4946500.674], [535808.8197, 4946491.3273], [535890.0035, 4946514.5502], [536055.4025, 4946449.2723], [536098.4891, 4946469.7896], [536149.2559, 4946477.6346], [536179.8237, 4946457.4551], [536207.9547, 4946419.4885], [536294.406, 4946399.5711], [536419.4726, 4946268.0697], [536437.4173, 4946230.0467], [536496.213, 4946149.0426], [536516.556, 4946144.0476], [536599.9676, 4946233.3428], [536622.7726, 4946246.1356], [536655.8522, 4946233.593], [536704.3325, 4946185.5465], [536780.6734, 4946155.425], [536884.8182, 4946155.9077], [536948.2711, 4946166.3567], [536981.3756, 4946148.7282], [537058.0126, 4946052.5534], [537080.946, 4946037.422], [537111.4324, 4946035.0347], [537146.6361, 4946113.9145], [537148.863, 4946182.5109], [537125.6563, 4946253.5308], [537122.7624, 4946332.251], [537165.9183, 4946337.5275], [537221.9833, 4946297.1489], [537298.292, 4946274.6538], [537341.4921, 4946272.3114], [537402.309, 4946300.538], [537412.3653, 4946323.4352], [537447.8282, 4946343.9248], [537470.689, 4946344.0203], [537501.3301, 4946311.1393], [537537.3101, 4946219.859], [537570.4496, 4946194.628], [537679.6862, 4946190.0432], [537697.503, 4946182.5045], [537791.9335, 4946086.4126], [537852.9663, 4946071.4476], [537893.7904, 4946028.4676], [537896.4305, 4946008.1545], [537850.9459, 4945957.1444], [537871.5451, 4945898.8124], [537919.9433, 4945868.5554], [537937.8285, 4945843.2442], [537940.7036, 4945772.1447], [537887.5476, 4945731.2647], [537844.4032, 4945723.4285], [537763.0813, 4945733.2169], [537747.8776, 4945722.9823], [537748.0674, 4945682.3487], [537712.767, 4945626.304], [537611.3361, 4945590.2843], [537570.6882, 4945590.0922], [537527.296, 4945635.6069], [537504.4285, 4945638.0513], [537501.9495, 4945625.3436], [537532.632, 4945582.2951], [537532.8636, 4945531.5012], [537556.2299, 4945422.3816], [537569.0316, 4945399.5874], [537618.0707, 4945229.632], [537641.1637, 4945181.4818], [537674.3269, 4945148.6163], [537788.9866, 4945072.9484], [537908.3961, 4945068.4046], [538075.8165, 4945114.889], [538210.3751, 4945130.7537], [538281.2985, 4945171.7119], [538283.3755, 4945270.7895], [538293.4499, 4945288.6079], [538313.7074, 4945301.4138], [538336.5871, 4945298.9723], [538425.7906, 4945235.8877], [538468.9674, 4945236.0779], [538473.962, 4945253.8812], [538466.1862, 4945286.8566], [538433.0089, 4945319.7329], [538430.3828, 4945340.0457], [538463.3656, 4945347.8179], [538557.4937, 4945315.2164], [538590.641, 4945287.4579], [538611.2537, 4945226.5808], [538603.737, 4945203.6746], [538606.7685, 4945097.0218], [538655.0308, 4945097.2437], [538688.1792, 4945066.9159], [538756.79, 4945062.1357], [538777.1979, 4945041.9222], [538833.1377, 4945029.4685], [538901.9554, 4944978.9982], [538980.8119, 4944953.9535], [539029.3033, 4944905.9169], [539136.3298, 4944830.2044], [539151.6701, 4944807.4213], [539263.9835, 4944688.568], [539287.0234, 4944648.014], [539341.1663, 4944475.5547], [539369.2722, 4944440.1195], [539448.0701, 4944427.7807], [539488.8226, 4944402.5615], [539588.3842, 4944293.8039], [539586.0992, 4944237.9143], [539555.8918, 4944181.8908], [539553.4365, 4944161.5547], [539573.7932, 4944154.0292], [539632.1762, 4944161.9258], [539690.4077, 4944154.8552], [539761.4869, 4944160.4686], [539804.3876, 4944196.3686], [539826.9995, 4944229.5518], [539829.2596, 4944265.1277], [539795.9915, 4944297.9002], [539762.5617, 4944350.9929], [539688.2798, 4944431.695], [539610.2983, 4944499.6449], [539561.6506, 4944583.2381], [539564.0386, 4944616.2672], [539607.2195, 4944616.465], [539627.4408, 4944639.4205], [539642.6905, 4944636.9443], [539686.9447, 4944606.949], [539725.2904, 4944574.2219], [539723.0193, 4944538.6386], [539745.9958, 4944523.5761], [539799.3204, 4944526.5258], [539811.8081, 4944554.559], [539801.4499, 4944579.8818], [539750.3811, 4944615.0481], [539704.1629, 4944680.7484], [539686.3815, 4944680.6021], [539652.4985, 4944710.6685], [539639.549, 4944766.4869], [539685.5729, 4944784.7429], [539718.5875, 4944784.9901], [539751.8214, 4944757.3121], [539767.3266, 4944721.8604], [539795.5286, 4944689.064], [539831.1751, 4944679.1748], [539854.2142, 4944656.4852], [539921.1407, 4944540.1628], [539954.4134, 4944507.3984], [540028.3198, 4944474.9376], [540048.8281, 4944449.7076], [540069.5207, 4944401.588], [540029.1233, 4944370.8042], [540026.7329, 4944350.4683], [540064.9138, 4944340.5961], [540102.7581, 4944373.9118], [540138.2437, 4944384.3445], [540436.987, 4944180.8844], [540498.7692, 4944074.6741], [540547.3461, 4944034.4104], [540573.1028, 4943986.339], [540606.3923, 4943951.0378], [540738.569, 4943939.3464], [540797.2185, 4943909.316], [540881.6759, 4943826.1581], [540902.3767, 4943778.0412], [540945.9799, 4943722.4859], [541035.2917, 4943669.8424], [541119.7501, 4943586.658], [541175.8026, 4943564.2275], [541208.9903, 4943541.6221], [541282.8498, 4943516.7807], [541334.1355, 4943453.664], [541403.1047, 4943403.4061], [541481.9881, 4943383.6942], [541525.3825, 4943356.083], [541530.6686, 4943330.7229], [541582.0126, 4943259.9881], [541694.1216, 4943215.1355], [541752.9187, 4943164.7787], [541791.1257, 4943152.3766], [541882.9968, 4943094.6587], [541982.0832, 4943092.8796], [542015.1831, 4943082.9784], [542099.3618, 4943035.3446], [542142.8657, 4942992.5047], [542173.7245, 4942944.4876], [542199.6792, 4942871.0149], [542230.7253, 4942800.1379], [542261.3284, 4942782.5864], [542307.0484, 4942782.9298], [542337.3706, 4942803.479], [542438.7188, 4942837.2763], [542618.689, 4942884.3971], [542623.5428, 4942914.9109], [542597.949, 4942940.1141], [542536.893, 4942952.3389], [542455.5903, 4942954.2485], [542343.5747, 4942988.9651], [542249.2212, 4943036.4997], [542180.1419, 4943102.011], [542024.618, 4943177.0177], [541968.2095, 4943245.1686], [541968.0836, 4943262.9414], [542000.904, 4943288.6004], [542000.1885, 4943380.0336], [542053.1116, 4943436.32], [542103.7871, 4943451.9573], [542157.3834, 4943419.3587], [542177.7009, 4943419.4986], [542195.3818, 4943432.3443], [542215.2543, 4943490.9048], [542232.8195, 4943518.9908], [542229.7932, 4943582.4673], [542160.9615, 4943614.9585], [542073.7711, 4943723.5058], [542071.02, 4943751.4296], [542063.3584, 4943756.4526], [542065.19, 4943847.9098], [542077.7732, 4943863.2474], [542072.3206, 4943911.4674], [542135.3442, 4943975.4482], [542140.1398, 4944011.0415], [542122.1314, 4944041.3911], [542111.6588, 4944081.9505], [542083.2882, 4944137.6046], [542083.1016, 4944163.0123], [542126.0275, 4944196.3582], [542128.4498, 4944211.6149], [542097.8159, 4944231.7143], [542094.9393, 4944274.8707], [542152.9122, 4944333.7386], [542160.3487, 4944356.6485], [542152.501, 4944387.0643], [542139.6999, 4944399.6668], [542098.9562, 4944414.5978], [542070.7735, 4944444.8739], [542065.332, 4944493.0939], [542072.8672, 4944503.2961], [542118.5524, 4944508.7258], [542133.7097, 4944519.0148], [542125.4346, 4944605.3186], [542148.3074, 4944602.9424], [542337.0613, 4944500.2445], [542413.9371, 4944411.9246], [542631.3696, 4944212.9347], [542715.3316, 4944195.8041], [542718.2408, 4944147.5604], [542731.1274, 4944122.2589], [542802.5994, 4944077.0756], [542818.0903, 4944044.1784], [542818.3964, 4944003.5454], [542808.4412, 4943978.0631], [542768.1326, 4943934.5693], [542765.9787, 4943883.7446], [542781.3868, 4943861.0074], [542832.3289, 4943843.6155], [542847.7426, 4943820.8785], [542855.7058, 4943775.2233], [542904.2115, 4943745.1076], [542912.2806, 4943686.7525], [542899.8276, 4943653.6331], [542844.2033, 4943620.183], [542839.2228, 4943607.4493], [542857.1579, 4943587.2617], [542982.1424, 4943519.6554], [543012.9671, 4943474.1599], [543013.1794, 4943446.2196], [542985.4897, 4943412.9913], [542993.8059, 4943321.6086], [543011.8816, 4943283.6487], [543032.808, 4943205.0655], [543078.8381, 4943164.7666], [543185.722, 4943140.1891], [543214.1192, 4943079.4448], [543305.9704, 4943026.8049], [543354.8729, 4942943.3743], [543441.8561, 4942860.2144], [543482.9284, 4942804.6442], [543600.8532, 4942665.8408], [543644.2405, 4942638.2288], [543705.6768, 4942575.1992], [543805.3187, 4942499.7724], [543937.8652, 4942439.8189], [544047.5673, 4942377.1649], [544091.1076, 4942329.2282], [544117.4058, 4942215.1377], [544153.2706, 4942174.7548], [544166.3559, 4942124.0559], [544141.3643, 4942070.5199], [544080.6212, 4942042.127], [544050.4271, 4942003.7968], [544050.9575, 4941935.2164], [544041.0903, 4941897.0321], [544011.0426, 4941840.9221], [543963.8245, 4941705.9435], [543956.6207, 4941650.0187], [544000.0509, 4941617.3216], [544020.6755, 4941579.3818], [544023.5049, 4941541.2988], [544150.4728, 4941544.8079], [544305.7627, 4941500.2652], [544432.8693, 4941485.9996], [544491.5216, 4941455.9727], [543790.4965, 4941450.6124], [543788.0202, 4941442.9678], [543686.6779, 4941409.1646], [543597.7832, 4941408.4909], [543577.5214, 4941400.7118], [543532.2587, 4941341.9393], [543532.7835, 4941273.3737], [543591.5349, 4941230.6312], [543599.3428, 4941205.2898], [543595.2494, 4941075.7296], [543530.2408, 4940940.6125], [543467.5083, 4940841.0585], [543351.2986, 4940758.8982], [543277.9523, 4940717.6835], [543167.2413, 4940579.6728], [543094.0704, 4940515.615], [543030.8298, 4940482.0984], [542969.9711, 4940468.9415], [542845.4809, 4940473.0705], [542787.1891, 4940454.8447], [542708.7519, 4940416.1357], [542665.3592, 4940443.754], [542624.2294, 4940506.9345], [542613.8196, 4940539.8804], [542598.3385, 4940570.2379], [542575.3238, 4940590.3853], [542493.9898, 4940597.3823], [542419.7988, 4940665.3904], [542370.8585, 4940753.9228], [542332.3983, 4940801.8819], [542324.4688, 4940842.4648], [542306.451, 4940872.8064], [542285.5755, 4940946.3117], [542257.2226, 4940999.4324], [542147.0111, 4941128.1421], [542080.5658, 4941180.9637], [541953.0559, 4941246.0311], [541864.2028, 4941240.2643], [541828.5388, 4941252.6899], [541775.2792, 4941242.1334], [541739.3924, 4941285.0249], [541759.1294, 4941361.3934], [541722.9934, 4941437.3051], [541663.7636, 4941541.0023], [541605.3803, 4941538.0124], [541464.6613, 4941669.0258], [541385.1148, 4941775.0911], [541369.5615, 4941815.6116], [541328.4155, 4941881.3477], [541317.9394, 4941921.9008], [541294.9874, 4941934.4327], [541264.6039, 4941921.4937], [541262.2431, 4941898.6174], [541298.0911, 4941860.7885], [541308.5619, 4941820.2354], [541316.2252, 4941815.2041], [541321.512, 4941787.3038], [541349.9723, 4941718.9464], [541340.2395, 4941662.9864], [541344.152, 4941485.2093], [541326.6848, 4941444.4259], [541310.6892, 4941452.2774], [541306.2858, 4941454.4414], [541263.1689, 4941776.6968], [541227.2238, 4941827.2333], [541196.6087, 4941844.7674], [541148.2525, 4941857.101], [541135.4001, 4941877.3182], [541158.0996, 4941897.8207], [541155.4431, 4941913.0446], [541137.5305, 4941930.682], [541139.9131, 4941951.0182], [541167.6564, 4941976.6331], [541246.2228, 4942000.1059], [541256.2198, 4942020.4981], [541255.9131, 4942061.1309], [541242.8832, 4942104.2154], [541212.1458, 4942136.9894], [541153.6285, 4942149.2435], [541102.64, 4942174.2466], [541082.3671, 4942166.4752], [541031.5824, 4942166.0862], [540949.7732, 4942234.0552], [540885.7272, 4942304.685], [540829.5209, 4942347.4308], [540722.7294, 4942361.8577], [540661.6026, 4942384.2455], [540635.9828, 4942411.9741], [540592.2198, 4942487.8515], [540533.7176, 4942497.5563], [540497.9624, 4942522.6966], [540469.6893, 4942565.6649], [540451.4308, 4942629.0245], [540323.0896, 4942803.2998], [540302.4431, 4942846.3312], [540299.6519, 4942879.3281], [540261.1984, 4942924.7444], [540192.3016, 4942964.8617], [540176.9113, 4942985.0576], [540169.0502, 4943015.4829], [540148.5422, 4943040.7347], [540105.2832, 4943050.5676], [540061.8458, 4943083.246], [540056.6862, 4943095.9074], [540058.5622, 4943182.2762], [540019.6975, 4943281.049], [539919.494, 4943430.1495], [539878.692, 4943450.1447], [539824.8671, 4943513.2423], [539785.7206, 4943650.102], [539744.7115, 4943698.0531], [539691.2185, 4943717.9641], [539578.0969, 4943770.5246], [539400.0611, 4943820.4991], [539344.5119, 4943818.1095], [539334.031, 4943817.668], [539311.0085, 4943853.1047], [539290.6617, 4943860.6384], [539250.0592, 4943850.2831], [539222.1149, 4943852.6907], [539140.3312, 4943961.5467], [538959.3726, 4944095.3325], [538938.9205, 4944123.1804], [538928.5436, 4944171.3952], [538930.6119, 4944273.0056], [538955.7495, 4944328.9956], [538952.9652, 4944384.8692], [538927.3634, 4944427.9343], [538878.9556, 4944460.7387], [538753.8274, 4944602.3978], [538677.4203, 4944647.7588], [538649.3542, 4944675.5769], [538598.4468, 4944698.1857], [538534.9529, 4944697.8957], [538428.065, 4944743.1299], [538390.0039, 4944732.8024], [538316.3458, 4944732.4542], [538235.0061, 4944744.7916], [538202.05, 4944731.9479], [538095.7543, 4944647.6295], [538047.6021, 4944624.5513], [537697.4598, 4944539.105], [537629.0398, 4944505.7735], [537587.4674, 4944503.3988], [537580.7933, 4944503.0119], [537545.1226, 4944525.7102], [537560.0482, 4944594.3582], [537544.7498, 4944604.4447], [537443.1488, 4944603.9812], [537280.4716, 4944631.1748], [537079.5653, 4944683.5988], [536995.6904, 4944695.9151], [536972.7671, 4944708.4994], [536949.7158, 4944749.0244], [536929.4262, 4944743.8578], [536899.18, 4944692.9195], [536899.5489, 4944611.6376], [536856.4918, 4944586.0425], [536823.4614, 4944588.4314], [536744.5713, 4944621.0856], [536660.3708, 4944701.9803], [536527.9276, 4944780.1225], [536456.7751, 4944787.4077], [536400.7539, 4944817.6253], [536271.0624, 4944850.0585], [536200.0305, 4944829.406], [536167.0015, 4944831.7982], [536144.066, 4944846.9477], [536095.5446, 4944905.1142], [536072.4481, 4944955.8173], [536028.4796, 4945125.7974], [535920.7732, 4945351.3652], [535920.4872, 4945412.3266], [535955.5797, 4945511.557], [535952.7618, 4945572.5043], [535934.5728, 4945661.3224], [535885.994, 4945732.213], [535794.2858, 4945787.6611], [535702.5073, 4945860.8984], [535625.8988, 4945949.454], [535592.4741, 4946038.2038], [535548.9331, 4946116.745], [535543.6034, 4946170.0584], [535497.4821, 4946258.7536], [535499.531, 4946362.9027], [535519.6233, 4946413.7935], [535516.9037, 4946451.8804], [535529.3877, 4946497.6566], [535531.7203, 4946543.3917]], [[542573.8498, 4941776.584], [542573.5234, 4941819.7568], [542552.7867, 4941872.9338], [542547.0584, 4941956.706], [542536.6732, 4941987.112], [542475.1666, 4942057.7578], [542436.9562, 4942072.7109], [542353.269, 4942054.2925], [542325.591, 4942021.0599], [542323.2568, 4941993.0957], [542343.7932, 4941965.3181], [542397.3213, 4941940.3265], [542425.6434, 4941892.2791], [542443.5431, 4941877.1779], [542484.2649, 4941867.3291], [542555.9882, 4941786.6048], [542573.8498, 4941776.584]], [[542452.3218, 4944043.9064], [542495.4401, 4944051.8546], [542502.7868, 4944087.4872], [542494.9038, 4944122.9827], [542425.6577, 4944208.8042], [542404.6924, 4944292.4842], [542376.6229, 4944310.0368], [542328.3824, 4944307.1361], [542298.1285, 4944276.4192], [542293.2079, 4944256.0584], [542313.6986, 4944233.3682], [542314.6062, 4944116.5198], [542327.6121, 4944075.9848], [542340.3484, 4944071.0027], [542408.8727, 4944079.1389], [542452.3218, 4944043.9064]], [[543285.8434, 4942338.297], [543298.3991, 4942356.1769], [543303.0758, 4942409.5661], [543315.6983, 4942419.8112], [543323.1436, 4942442.7373], [543315.1087, 4942496.0118], [543268.9875, 4942549.0018], [543263.2492, 4942635.321], [543227.6345, 4942642.6737], [543192.8105, 4942545.8858], [543167.7565, 4942499.9588], [543134.9481, 4942471.7687], [543132.5889, 4942448.8916], [543153.1169, 4942421.1165], [543219.2385, 4942411.4493], [543267.9822, 4942348.3233], [543285.8434, 4942338.297]], [[541821.5926, 4942159.4373], [541834.0764, 4942187.4818], [541782.6775, 4942265.8272], [541764.8237, 4942275.8577], [541739.4159, 4942275.6567], [541726.8828, 4942255.2399], [541724.5729, 4942224.7433], [541785.803, 4942189.658], [541821.5926, 4942159.4373]]], \"spatialReference\": {\"wkid\": 26919, \"latestWkid\": 26919}}}}, {\"geometry\": {\"rings\": [[[535196.31, 4942162.8667], [535204.0161, 4942145.1204], [535264.8856, 4942165.7284], [535295.4687, 4942142.9972], [535293.2326, 4942076.9496], [535303.5083, 4942051.5898], [535344.3263, 4942011.1413], [535392.6802, 4941991.0478], [535430.6991, 4942009.007], [535456.1792, 4941991.3289], [535494.2882, 4941988.9681], [535514.6607, 4941978.9047], [535517.4236, 4941933.1905], [535542.9547, 4941905.3673], [535571.2054, 4941836.9174], [535601.7911, 4941814.2024], [535640.1423, 4941758.4942], [535637.7821, 4941720.3795], [535599.8127, 4941692.2663], [535541.5338, 4941661.5238], [535465.4021, 4941645.9321], [535359.051, 4941574.3232], [535242.3713, 4941538.2288], [535189.1631, 4941510.0424], [535133.5168, 4941456.457], [535093.1653, 4941397.8378], [535062.9152, 4941346.9013], [534969.1863, 4941290.5933], [534857.584, 4941257.0586], [534827.0561, 4941267.0768], [534727.5234, 4941368.2201], [534681.7328, 4941383.2447], [534656.3946, 4941370.438], [534651.4408, 4941342.4704], [534661.7256, 4941317.1244], [534751.1205, 4941210.8529], [534819.8258, 4941180.6966], [534840.2796, 4941152.8434], [534838.0132, 4941094.4162], [534815.2958, 4941061.28], [534784.871, 4941050.9856], [534766.8951, 4941094.0781], [534746.5482, 4941099.0787], [534733.8886, 4941088.8577], [534721.516, 4941020.2085], [534711.4303, 4941002.3885], [534706.6543, 4940936.3277], [534722.078, 4940895.754], [534722.4362, 4940822.0929], [534690.0986, 4940672.0832], [534696.1204, 4940466.3748], [534758.6564, 4940123.7673], [534776.7366, 4940057.7996], [534782.1104, 4939996.8661], [534767.0847, 4939951.0785], [534767.9241, 4939768.2034], [534757.8911, 4939740.2158], [534755.64, 4939676.7087], [534768.445, 4939656.4345], [534773.6606, 4939625.9813], [534763.66, 4939592.9286], [534764.033, 4939511.6401], [534797.7678, 4939354.3132], [534818.2932, 4939311.2271], [534876.994, 4939250.5437], [534889.9906, 4939187.0965], [534915.64, 4939133.8854], [535017.6845, 4939037.824], [535025.4084, 4939012.4648], [535040.7169, 4938997.2922], [535058.7722, 4938938.953], [535148.0108, 4938865.6999], [535166.0313, 4938814.9885], [535171.3885, 4938754.0553], [535194.6089, 4938675.4089], [535243.0521, 4938637.5265], [535268.7078, 4938579.2292], [535340.1122, 4938518.6118], [535365.8129, 4938455.2349], [535401.6815, 4938389.344], [535412.1516, 4938320.8187], [535384.5796, 4938239.4146], [535372.1887, 4938173.3045], [535349.3618, 4938165.5966], [535323.9055, 4938178.173], [535265.2205, 4938236.3197], [535224.3179, 4938292.0162], [535193.7606, 4938309.653], [535160.7391, 4938309.4958], [535161.1476, 4938220.6022], [535204.4816, 4938187.7794], [535334.6739, 4938046.1469], [535416.1576, 4938003.3363], [535461.7758, 4938026.4023], [535563.2609, 4938052.2708], [535659.8836, 4938029.8523], [535713.3441, 4938004.6867], [535766.9133, 4937954.1508], [535805.0969, 4937934.004], [535907.2015, 4937825.2489], [535912.6666, 4937741.4486], [535920.3796, 4937723.7182], [535971.4165, 4937670.6002], [535987.0285, 4937589.3891], [536055.9265, 4937521.1304], [536061.1126, 4937498.291], [536132.6393, 4937409.7196], [536155.5088, 4937407.2849], [536163.1023, 4937414.9476], [536165.4206, 4937463.2149], [536180.4976, 4937496.2981], [536175.2382, 4937536.9176], [536144.5222, 4937587.5777], [536121.0403, 4937724.634], [536090.3345, 4937772.7469], [536108.0201, 4937790.6113], [536194.3931, 4937791.0119], [536204.6452, 4937770.7336], [536204.8957, 4937717.4004], [536187.3008, 4937676.668], [536190.132, 4937613.1889], [536325.4327, 4937463.9621], [536350.8849, 4937453.9074], [536444.8794, 4937449.2591], [536603.052, 4937302.6698], [536684.8687, 4937183.6592], [536715.6886, 4937110.1414], [536716.1763, 4937105.3158], [536721.0289, 4937056.8223], [536701.139, 4936962.7557], [536704.711, 4936736.7224], [536712.4313, 4936716.438], [536720.4896, 4936622.4928], [536730.8013, 4936589.5078], [536792.0662, 4936523.7463], [536855.7586, 4936480.8748], [536899.1862, 4936427.7282], [536975.942, 4936306.1524], [537019.2293, 4936283.4942], [537047.1895, 4936281.0843], [537087.761, 4936296.5125], [537136.02, 4936296.737], [537179.3067, 4936271.5324], [537255.9075, 4936185.5277], [537309.4015, 4936152.755], [537327.1948, 4936150.2951], [537370.2111, 4936186.0525], [537390.4916, 4936193.7601], [537413.3711, 4936191.3373], [537487.1798, 4936158.6463], [537522.7465, 4936156.275], [537548.108, 4936164.0125], [537553.8726, 4936154.7816], [537635.1077, 4936024.7083], [537638.1272, 4935923.1146], [537653.4869, 4935897.7881], [537735.033, 4935839.7587], [537763.0334, 4935827.1769], [537798.5735, 4935832.4198], [537808.5362, 4935873.112], [537846.4133, 4935924.0831], [537874.3011, 4935934.3694], [537902.2717, 4935926.8756], [537948.1831, 4935886.4583], [538021.8415, 4935886.7863], [538064.8707, 4935920.0083], [538146.1699, 4935915.3024], [538141.1817, 4935894.9523], [538029.7461, 4935823.3155], [538017.1896, 4935792.7829], [538014.8642, 4935747.0475], [538040.4902, 4935696.3663], [538145.1745, 4935582.5588], [538193.9044, 4935478.6277], [538224.5855, 4935435.5973], [538331.7024, 4935339.573], [538337.1201, 4935268.4823], [538362.7805, 4935212.715], [538398.4414, 4935190.0209], [538439.3334, 4935136.862], [538495.3566, 4935104.1065], [538503.217, 4935050.789], [538482.9742, 4935035.4578], [538434.7703, 4935022.5454], [538343.2717, 4935034.8226], [538328.0999, 4935019.5145], [538323.5505, 4934905.1908], [538333.9516, 4934854.4431], [538324.0187, 4934803.5899], [538331.8938, 4934750.2945], [538370.2018, 4934704.7402], [538400.7539, 4934689.636], [538428.7057, 4934687.2245], [538497.18, 4934707.8626], [538563.3228, 4934687.8461], [538664.9958, 4934673.0777], [538708.1689, 4934673.2835], [538720.8246, 4934683.4972], [538720.59, 4934734.2977], [538705.2089, 4934764.7092], [538720.316, 4934795.2583], [538743.1397, 4934800.4378], [538827.029, 4934785.588], [538951.3296, 4934821.7246], [539042.8525, 4934804.3685], [539070.7134, 4934822.2726], [539060.1858, 4934900.9596], [539126.1309, 4934921.5817], [539151.3891, 4934952.1857], [539156.3755, 4934975.0619], [539196.8334, 4935013.356], [539240.0298, 4935008.4631], [539240.2027, 4934972.9027], [539301.5219, 4934894.4497], [539299.5091, 4934777.593], [539264.1325, 4934739.329], [539246.5731, 4934690.9905], [539231.4232, 4934673.1403], [539157.8933, 4934644.8585], [539158.1862, 4934578.8177], [539120.1909, 4934558.3269], [538993.2497, 4934545.0543], [538962.8058, 4934534.7553], [538932.4432, 4934511.7565], [538879.1692, 4934496.263], [538805.5512, 4934488.298], [538785.2814, 4934475.5132], [538729.9201, 4934363.4997], [538712.396, 4934307.5426], [538676.9732, 4934276.8946], [538623.6322, 4934276.6581], [538590.4971, 4934301.8988], [538580.1937, 4934334.8735], [538630.6448, 4934411.2952], [538630.436, 4934457.0156], [538615.069, 4934482.3546], [538579.3741, 4934512.6677], [538503.0994, 4934525.0185], [538399.0169, 4934511.8267], [538345.6045, 4934529.3727], [538312.4717, 4934554.6148], [538281.9483, 4934562.0918], [538215.9091, 4934561.7911], [538170.0324, 4934597.1414], [538185.1361, 4934625.1491], [538233.324, 4934643.1471], [538248.452, 4934666.0749], [538258.4094, 4934709.3152], [538258.1591, 4934765.1884], [538252.9888, 4934785.486], [538230.0308, 4934805.701], [538133.5799, 4934790.0257], [538075.4108, 4934736.4086], [538090.853, 4934693.2955], [538080.8304, 4934662.7704], [538045.3918, 4934634.6658], [537999.6624, 4934636.9969], [537780.8555, 4934717.2677], [537696.7255, 4934782.9241], [537597.5293, 4934810.4076], [537544.0105, 4934850.7981], [537465.0817, 4934891.0792], [537266.2241, 4935050.1883], [537146.5923, 4935102.9695], [537067.5266, 4935173.7283], [536927.6818, 4935206.1143], [536861.5208, 4935231.2053], [536774.7104, 4935329.8645], [536751.8099, 4935337.3771], [536706.1368, 4935327.0098], [536673.2709, 4935293.8471], [536658.2705, 4935242.9753], [536628.0151, 4935194.5723], [536595.3533, 4935115.6822], [536554.7965, 4935095.1845], [536529.3147, 4935115.3764], [536511.291, 4935168.6389], [536478.11, 4935201.5028], [536437.3563, 4935229.2516], [536406.5436, 4935297.6979], [536396.162, 4935345.9012], [536398.0149, 4935495.7767], [536379.997, 4935546.4921], [536313.3641, 4935675.7296], [536259.6811, 4935749.1434], [536180.5853, 4935827.5182], [536091.0687, 4935959.1851], [536034.601, 4936085.9271], [535812.2702, 4936379.5523], [535704.7796, 4936554.3215], [535497.8197, 4936817.5165], [535472.2227, 4936860.58], [535423.0819, 4937053.4023], [535399.9881, 4937101.5674], [535328.5216, 4937177.4319], [535249.161, 4937311.6761], [535185.3443, 4937379.9561], [535159.621, 4937450.9685], [535118.8193, 4937486.3381], [534976.2191, 4937561.8878], [534843.6416, 4937670.5008], [534802.7361, 4937728.7326], [534746.5676, 4937789.4302], [534723.4263, 4937852.8231], [534585.7558, 4937958.8666], [534557.646, 4937996.8401], [534537.0882, 4938047.5545], [534542.0859, 4938067.8944], [534567.3642, 4938093.4154], [534597.8199, 4938098.6285], [534641.1683, 4938060.7293], [534671.6044, 4938073.5778], [534671.4299, 4938109.1307], [534643.2327, 4938167.4241], [534668.3985, 4938215.7908], [534647.9628, 4938243.6373], [534627.6072, 4938248.6308], [534579.415, 4938235.6951], [534480.751, 4938148.8949], [534440.2015, 4938128.3955], [534384.313, 4938130.6756], [534335.9251, 4938158.3895], [534234.2809, 4938168.0785], [534180.777, 4938200.854], [534019.8969, 4938388.0698], [533930.6035, 4938474.0236], [533805.6361, 4938580.1352], [533749.4421, 4938650.9868], [533728.9297, 4938691.5361], [533698.3361, 4938714.2599], [533650.0294, 4938726.7387], [533599.2624, 4938718.8697], [533439.1506, 4938738.4579], [533373.1723, 4938725.4615], [533332.6833, 4938692.254], [533262.0029, 4938595.4118], [533105.1804, 4938452.4448], [533038.5581, 4938418.7503], [533034.2201, 4938416.5583], [532932.5822, 4938426.2529], [532907.1006, 4938443.9187], [532911.8707, 4938509.9778], [532924.3218, 4938565.9155], [532926.3665, 4938672.6095], [532950.7434, 4938893.6987], [532947.7734, 4938987.6742], [532940.0905, 4939000.3281], [532937.3526, 4939043.5031], [532909.1486, 4939101.7817], [532850.5108, 4939147.2351], [532786.9388, 4939162.1756], [532763.8025, 4939223.0428], [532766.016, 4939291.6289], [532740.5435, 4939309.2955], [532671.992, 4939303.906], [532631.2223, 4939331.6488], [532605.8518, 4939323.9229], [532583.1357, 4939293.3349], [532534.8985, 4939288.027], [532494.0708, 4939328.4781], [532460.8063, 4939384.208], [532406.7631, 4939533.8245], [532388.8615, 4939559.1358], [532338.127, 4939543.6787], [532163.3416, 4939441.2638], [532125.2297, 4939443.6221], [532066.4602, 4939519.5555], [532058.6822, 4939555.0855], [532035.6713, 4939587.9927], [532027.8778, 4939623.5228], [532030.2067, 4939669.2484], [532050.3002, 4939720.1422], [532085.8011, 4939733.0037], [532105.9663, 4939766.1174], [532105.5193, 4939862.6384], [532097.7761, 4939888.0009], [532023.7639, 4939966.4066], [532005.8327, 4939999.3391], [532003.0061, 4940062.8347], [532023.1833, 4940093.4007], [532099.0533, 4940164.8694], [532111.6128, 4940195.4127], [532108.971, 4940218.2604], [532027.4919, 4940258.5277], [532014.7093, 4940276.2451], [532062.5613, 4940365.3703], [532105.9367, 4940322.3742], [532128.7722, 4940327.5677], [532141.1705, 4940393.6641], [532166.5751, 4940393.7829], [532199.6994, 4940371.0868], [532281.536, 4940249.5332], [532332.541, 4940206.5766], [532378.3491, 4940186.4701], [532411.3714, 4940186.6206], [532431.369, 4940257.8358], [532462.9126, 4940578.0379], [532493.1603, 4940628.9619], [532553.9419, 4940667.3391], [532571.581, 4940697.909], [532566.1262, 4940779.1571], [532558.4792, 4940784.2062], [532555.8307, 4940807.0537], [532540.4707, 4940832.3848], [532530.0486, 4940890.7619], [532542.3299, 4940982.2522], [532567.5585, 4941017.9256], [532603.0159, 4941040.9576], [532633.4569, 4941048.7091], [532727.5234, 4941031.3665], [532801.3761, 4940991.0619], [532885.3274, 4940960.9698], [532951.5424, 4940923.1756], [533063.52, 4940877.9585], [533093.9534, 4940888.267], [533123.9091, 4941000.1548], [533121.1421, 4941050.95], [533100.6228, 4941094.034], [533052.0832, 4941154.7852], [533057.0412, 4941180.2041], [533092.2809, 4941251.4847], [533104.927, 4941261.7024], [533148.1761, 4941246.661], [533209.2996, 4941211.3834], [533239.8148, 4941206.4451], [533369.2954, 4941219.7306], [533376.7959, 4941245.1703], [533366.4009, 4941295.9186], [533368.7457, 4941336.5723], [533386.4422, 4941356.9695], [533589.6731, 4941350.29], [533630.3579, 4941340.3187], [533693.8022, 4941353.3123], [533805.5467, 4941356.3612], [533846.0882, 4941376.8643], [533848.5629, 4941392.1179], [533868.7136, 4941430.3248], [533899.1433, 4941440.615], [533960.1759, 4941423.1099], [533990.6668, 4941420.7151], [534031.2848, 4941428.5267], [534084.7801, 4941393.2172], [534153.6977, 4941319.8659], [534222.3717, 4941299.8635], [534280.8031, 4941297.5883], [534306.1908, 4941300.2407], [534346.6797, 4941333.4472], [534381.9584, 4941394.5748], [534409.7133, 4941435.3344], [534406.8443, 4941506.4346], [534378.7511, 4941539.3436], [534388.6255, 4941602.8839], [534337.6175, 4941645.8317], [534345.0868, 4941676.3452], [534367.7991, 4941709.465], [534517.2007, 4941811.746], [534583.2916, 4941799.3614], [534616.2946, 4941804.5885], [534646.6827, 4941825.0498], [534677.1971, 4941815.0381], [534707.648, 4941822.7847], [534722.8225, 4941838.0993], [534743.145, 4941838.1936], [534781.3594, 4941810.443], [534814.6941, 4941747.09], [534881.0705, 4941671.1926], [534931.8479, 4941676.5097], [535063.3598, 4941801.5679], [535134.4224, 4941814.6021], [535149.5993, 4941827.3703], [535164.6591, 4941865.5463], [535164.5507, 4941888.4067], [535141.4873, 4941931.4706], [535077.5819, 4942022.6195], [535069.8401, 4942047.986], [535100.1175, 4942091.3024], [535107.434, 4942159.9177], [535122.6239, 4942170.1531], [535142.9899, 4942160.0885], [535196.31, 4942162.8667]], [[535438.4006, 4937586.8754], [535461.2605, 4937586.9783], [535473.9188, 4937594.6531], [535476.2401, 4937640.38], [535506.5984, 4937668.4578], [535513.7598, 4937767.5606], [535467.8365, 4937810.535], [535452.4706, 4937838.3993], [535396.3663, 4937886.3987], [535355.3363, 4937972.5747], [535322.1562, 4938007.9846], [535258.5329, 4938033.0907], [535207.7621, 4938025.2387], [535177.3788, 4938004.7751], [535139.6333, 4937930.9446], [535129.6796, 4937885.1689], [535127.5287, 4937798.8016], [535158.2908, 4937737.9841], [535201.6725, 4937695.0011], [535270.2511, 4937695.3149], [535397.501, 4937640.0234], [535407.77, 4937617.2113], [535438.4006, 4937586.8754]], [[535834.4605, 4937626.7854], [535864.8717, 4937642.172], [535867.2095, 4937685.374], [535856.9672, 4937703.1053], [535854.134, 4937766.592], [535833.6497, 4937802.0473], [535800.48, 4937834.9222], [535675.6864, 4937905.4599], [535647.7898, 4937897.7083], [535612.5538, 4937826.4363], [535617.9612, 4937755.336], [535641.0017, 4937714.8065], [535694.5433, 4937674.4154], [535725.0683, 4937664.3936], [535786.0642, 4937657.0582], [535834.4605, 4937626.7854]], [[532281.3759, 4939736.442], [532309.2684, 4939744.194], [532324.2812, 4939795.0633], [532367.3985, 4939807.9644], [532367.1911, 4939853.6849], [532356.8824, 4939884.1144], [532339.0052, 4939906.8859], [532298.2628, 4939927.0254], [532232.322, 4939906.3982], [532196.8696, 4939880.8431], [532189.3535, 4939860.4777], [532197.2833, 4939794.4748], [532217.73, 4939766.6282], [532281.3759, 4939736.442]], [[533300.1157, 4940797.7775], [533297.4099, 4940833.3323], [533210.8042, 4940886.2737], [533190.471, 4940888.7243], [533185.469, 4940870.918], [533205.9297, 4940840.527], [533224.0238, 4940774.57], [533234.2072, 4940767.002], [533269.7785, 4940764.6224], [533300.1157, 4940797.7775]], [[533317.9391, 4940787.694], [533320.8279, 4940711.5061], [533348.872, 4940688.7823], [533379.34, 4940691.4572], [533389.406, 4940711.8299], [533386.6709, 4940755.0048], [533368.7479, 4940785.3935], [533348.3726, 4940798.0038], [533317.9391, 4940787.694]]], \"spatialReference\": {\"wkid\": 26919, \"latestWkid\": 26919}}, \"attributes\": {\"OBJECTID_1\": 37, \"OBJECTID\": 1163, \"ComID\": 2679104, \"Permanent_\": \"2679104\", \"FDate\": 931046400000, \"Resolution\": 3, \"GNIS_ID\": \" \", \"GNIS_Name\": \"Branch Lake\", \"AreaSqKm\": 11.934, \"Elevation\": 0, \"ReachCode\": \"01050002003913\", \"FType\": 390, \"FCode\": 39004, \"Shape_Leng\": 0.395040976588, \"Shape__Area\": 11924720.5300293, \"Shape__Length\": 36788.4270866285, \"SHAPE\": {\"rings\": [[[535196.31, 4942162.8667], [535204.0161, 4942145.1204], [535264.8856, 4942165.7284], [535295.4687, 4942142.9972], [535293.2326, 4942076.9496], [535303.5083, 4942051.5898], [535344.3263, 4942011.1413], [535392.6802, 4941991.0478], [535430.6991, 4942009.007], [535456.1792, 4941991.3289], [535494.2882, 4941988.9681], [535514.6607, 4941978.9047], [535517.4236, 4941933.1905], [535542.9547, 4941905.3673], [535571.2054, 4941836.9174], [535601.7911, 4941814.2024], [535640.1423, 4941758.4942], [535637.7821, 4941720.3795], [535599.8127, 4941692.2663], [535541.5338, 4941661.5238], [535465.4021, 4941645.9321], [535359.051, 4941574.3232], [535242.3713, 4941538.2288], [535189.1631, 4941510.0424], [535133.5168, 4941456.457], [535093.1653, 4941397.8378], [535062.9152, 4941346.9013], [534969.1863, 4941290.5933], [534857.584, 4941257.0586], [534827.0561, 4941267.0768], [534727.5234, 4941368.2201], [534681.7328, 4941383.2447], [534656.3946, 4941370.438], [534651.4408, 4941342.4704], [534661.7256, 4941317.1244], [534751.1205, 4941210.8529], [534819.8258, 4941180.6966], [534840.2796, 4941152.8434], [534838.0132, 4941094.4162], [534815.2958, 4941061.28], [534784.871, 4941050.9856], [534766.8951, 4941094.0781], [534746.5482, 4941099.0787], [534733.8886, 4941088.8577], [534721.516, 4941020.2085], [534711.4303, 4941002.3885], [534706.6543, 4940936.3277], [534722.078, 4940895.754], [534722.4362, 4940822.0929], [534690.0986, 4940672.0832], [534696.1204, 4940466.3748], [534758.6564, 4940123.7673], [534776.7366, 4940057.7996], [534782.1104, 4939996.8661], [534767.0847, 4939951.0785], [534767.9241, 4939768.2034], [534757.8911, 4939740.2158], [534755.64, 4939676.7087], [534768.445, 4939656.4345], [534773.6606, 4939625.9813], [534763.66, 4939592.9286], [534764.033, 4939511.6401], [534797.7678, 4939354.3132], [534818.2932, 4939311.2271], [534876.994, 4939250.5437], [534889.9906, 4939187.0965], [534915.64, 4939133.8854], [535017.6845, 4939037.824], [535025.4084, 4939012.4648], [535040.7169, 4938997.2922], [535058.7722, 4938938.953], [535148.0108, 4938865.6999], [535166.0313, 4938814.9885], [535171.3885, 4938754.0553], [535194.6089, 4938675.4089], [535243.0521, 4938637.5265], [535268.7078, 4938579.2292], [535340.1122, 4938518.6118], [535365.8129, 4938455.2349], [535401.6815, 4938389.344], [535412.1516, 4938320.8187], [535384.5796, 4938239.4146], [535372.1887, 4938173.3045], [535349.3618, 4938165.5966], [535323.9055, 4938178.173], [535265.2205, 4938236.3197], [535224.3179, 4938292.0162], [535193.7606, 4938309.653], [535160.7391, 4938309.4958], [535161.1476, 4938220.6022], [535204.4816, 4938187.7794], [535334.6739, 4938046.1469], [535416.1576, 4938003.3363], [535461.7758, 4938026.4023], [535563.2609, 4938052.2708], [535659.8836, 4938029.8523], [535713.3441, 4938004.6867], [535766.9133, 4937954.1508], [535805.0969, 4937934.004], [535907.2015, 4937825.2489], [535912.6666, 4937741.4486], [535920.3796, 4937723.7182], [535971.4165, 4937670.6002], [535987.0285, 4937589.3891], [536055.9265, 4937521.1304], [536061.1126, 4937498.291], [536132.6393, 4937409.7196], [536155.5088, 4937407.2849], [536163.1023, 4937414.9476], [536165.4206, 4937463.2149], [536180.4976, 4937496.2981], [536175.2382, 4937536.9176], [536144.5222, 4937587.5777], [536121.0403, 4937724.634], [536090.3345, 4937772.7469], [536108.0201, 4937790.6113], [536194.3931, 4937791.0119], [536204.6452, 4937770.7336], [536204.8957, 4937717.4004], [536187.3008, 4937676.668], [536190.132, 4937613.1889], [536325.4327, 4937463.9621], [536350.8849, 4937453.9074], [536444.8794, 4937449.2591], [536603.052, 4937302.6698], [536684.8687, 4937183.6592], [536715.6886, 4937110.1414], [536716.1763, 4937105.3158], [536721.0289, 4937056.8223], [536701.139, 4936962.7557], [536704.711, 4936736.7224], [536712.4313, 4936716.438], [536720.4896, 4936622.4928], [536730.8013, 4936589.5078], [536792.0662, 4936523.7463], [536855.7586, 4936480.8748], [536899.1862, 4936427.7282], [536975.942, 4936306.1524], [537019.2293, 4936283.4942], [537047.1895, 4936281.0843], [537087.761, 4936296.5125], [537136.02, 4936296.737], [537179.3067, 4936271.5324], [537255.9075, 4936185.5277], [537309.4015, 4936152.755], [537327.1948, 4936150.2951], [537370.2111, 4936186.0525], [537390.4916, 4936193.7601], [537413.3711, 4936191.3373], [537487.1798, 4936158.6463], [537522.7465, 4936156.275], [537548.108, 4936164.0125], [537553.8726, 4936154.7816], [537635.1077, 4936024.7083], [537638.1272, 4935923.1146], [537653.4869, 4935897.7881], [537735.033, 4935839.7587], [537763.0334, 4935827.1769], [537798.5735, 4935832.4198], [537808.5362, 4935873.112], [537846.4133, 4935924.0831], [537874.3011, 4935934.3694], [537902.2717, 4935926.8756], [537948.1831, 4935886.4583], [538021.8415, 4935886.7863], [538064.8707, 4935920.0083], [538146.1699, 4935915.3024], [538141.1817, 4935894.9523], [538029.7461, 4935823.3155], [538017.1896, 4935792.7829], [538014.8642, 4935747.0475], [538040.4902, 4935696.3663], [538145.1745, 4935582.5588], [538193.9044, 4935478.6277], [538224.5855, 4935435.5973], [538331.7024, 4935339.573], [538337.1201, 4935268.4823], [538362.7805, 4935212.715], [538398.4414, 4935190.0209], [538439.3334, 4935136.862], [538495.3566, 4935104.1065], [538503.217, 4935050.789], [538482.9742, 4935035.4578], [538434.7703, 4935022.5454], [538343.2717, 4935034.8226], [538328.0999, 4935019.5145], [538323.5505, 4934905.1908], [538333.9516, 4934854.4431], [538324.0187, 4934803.5899], [538331.8938, 4934750.2945], [538370.2018, 4934704.7402], [538400.7539, 4934689.636], [538428.7057, 4934687.2245], [538497.18, 4934707.8626], [538563.3228, 4934687.8461], [538664.9958, 4934673.0777], [538708.1689, 4934673.2835], [538720.8246, 4934683.4972], [538720.59, 4934734.2977], [538705.2089, 4934764.7092], [538720.316, 4934795.2583], [538743.1397, 4934800.4378], [538827.029, 4934785.588], [538951.3296, 4934821.7246], [539042.8525, 4934804.3685], [539070.7134, 4934822.2726], [539060.1858, 4934900.9596], [539126.1309, 4934921.5817], [539151.3891, 4934952.1857], [539156.3755, 4934975.0619], [539196.8334, 4935013.356], [539240.0298, 4935008.4631], [539240.2027, 4934972.9027], [539301.5219, 4934894.4497], [539299.5091, 4934777.593], [539264.1325, 4934739.329], [539246.5731, 4934690.9905], [539231.4232, 4934673.1403], [539157.8933, 4934644.8585], [539158.1862, 4934578.8177], [539120.1909, 4934558.3269], [538993.2497, 4934545.0543], [538962.8058, 4934534.7553], [538932.4432, 4934511.7565], [538879.1692, 4934496.263], [538805.5512, 4934488.298], [538785.2814, 4934475.5132], [538729.9201, 4934363.4997], [538712.396, 4934307.5426], [538676.9732, 4934276.8946], [538623.6322, 4934276.6581], [538590.4971, 4934301.8988], [538580.1937, 4934334.8735], [538630.6448, 4934411.2952], [538630.436, 4934457.0156], [538615.069, 4934482.3546], [538579.3741, 4934512.6677], [538503.0994, 4934525.0185], [538399.0169, 4934511.8267], [538345.6045, 4934529.3727], [538312.4717, 4934554.6148], [538281.9483, 4934562.0918], [538215.9091, 4934561.7911], [538170.0324, 4934597.1414], [538185.1361, 4934625.1491], [538233.324, 4934643.1471], [538248.452, 4934666.0749], [538258.4094, 4934709.3152], [538258.1591, 4934765.1884], [538252.9888, 4934785.486], [538230.0308, 4934805.701], [538133.5799, 4934790.0257], [538075.4108, 4934736.4086], [538090.853, 4934693.2955], [538080.8304, 4934662.7704], [538045.3918, 4934634.6658], [537999.6624, 4934636.9969], [537780.8555, 4934717.2677], [537696.7255, 4934782.9241], [537597.5293, 4934810.4076], [537544.0105, 4934850.7981], [537465.0817, 4934891.0792], [537266.2241, 4935050.1883], [537146.5923, 4935102.9695], [537067.5266, 4935173.7283], [536927.6818, 4935206.1143], [536861.5208, 4935231.2053], [536774.7104, 4935329.8645], [536751.8099, 4935337.3771], [536706.1368, 4935327.0098], [536673.2709, 4935293.8471], [536658.2705, 4935242.9753], [536628.0151, 4935194.5723], [536595.3533, 4935115.6822], [536554.7965, 4935095.1845], [536529.3147, 4935115.3764], [536511.291, 4935168.6389], [536478.11, 4935201.5028], [536437.3563, 4935229.2516], [536406.5436, 4935297.6979], [536396.162, 4935345.9012], [536398.0149, 4935495.7767], [536379.997, 4935546.4921], [536313.3641, 4935675.7296], [536259.6811, 4935749.1434], [536180.5853, 4935827.5182], [536091.0687, 4935959.1851], [536034.601, 4936085.9271], [535812.2702, 4936379.5523], [535704.7796, 4936554.3215], [535497.8197, 4936817.5165], [535472.2227, 4936860.58], [535423.0819, 4937053.4023], [535399.9881, 4937101.5674], [535328.5216, 4937177.4319], [535249.161, 4937311.6761], [535185.3443, 4937379.9561], [535159.621, 4937450.9685], [535118.8193, 4937486.3381], [534976.2191, 4937561.8878], [534843.6416, 4937670.5008], [534802.7361, 4937728.7326], [534746.5676, 4937789.4302], [534723.4263, 4937852.8231], [534585.7558, 4937958.8666], [534557.646, 4937996.8401], [534537.0882, 4938047.5545], [534542.0859, 4938067.8944], [534567.3642, 4938093.4154], [534597.8199, 4938098.6285], [534641.1683, 4938060.7293], [534671.6044, 4938073.5778], [534671.4299, 4938109.1307], [534643.2327, 4938167.4241], [534668.3985, 4938215.7908], [534647.9628, 4938243.6373], [534627.6072, 4938248.6308], [534579.415, 4938235.6951], [534480.751, 4938148.8949], [534440.2015, 4938128.3955], [534384.313, 4938130.6756], [534335.9251, 4938158.3895], [534234.2809, 4938168.0785], [534180.777, 4938200.854], [534019.8969, 4938388.0698], [533930.6035, 4938474.0236], [533805.6361, 4938580.1352], [533749.4421, 4938650.9868], [533728.9297, 4938691.5361], [533698.3361, 4938714.2599], [533650.0294, 4938726.7387], [533599.2624, 4938718.8697], [533439.1506, 4938738.4579], [533373.1723, 4938725.4615], [533332.6833, 4938692.254], [533262.0029, 4938595.4118], [533105.1804, 4938452.4448], [533038.5581, 4938418.7503], [533034.2201, 4938416.5583], [532932.5822, 4938426.2529], [532907.1006, 4938443.9187], [532911.8707, 4938509.9778], [532924.3218, 4938565.9155], [532926.3665, 4938672.6095], [532950.7434, 4938893.6987], [532947.7734, 4938987.6742], [532940.0905, 4939000.3281], [532937.3526, 4939043.5031], [532909.1486, 4939101.7817], [532850.5108, 4939147.2351], [532786.9388, 4939162.1756], [532763.8025, 4939223.0428], [532766.016, 4939291.6289], [532740.5435, 4939309.2955], [532671.992, 4939303.906], [532631.2223, 4939331.6488], [532605.8518, 4939323.9229], [532583.1357, 4939293.3349], [532534.8985, 4939288.027], [532494.0708, 4939328.4781], [532460.8063, 4939384.208], [532406.7631, 4939533.8245], [532388.8615, 4939559.1358], [532338.127, 4939543.6787], [532163.3416, 4939441.2638], [532125.2297, 4939443.6221], [532066.4602, 4939519.5555], [532058.6822, 4939555.0855], [532035.6713, 4939587.9927], [532027.8778, 4939623.5228], [532030.2067, 4939669.2484], [532050.3002, 4939720.1422], [532085.8011, 4939733.0037], [532105.9663, 4939766.1174], [532105.5193, 4939862.6384], [532097.7761, 4939888.0009], [532023.7639, 4939966.4066], [532005.8327, 4939999.3391], [532003.0061, 4940062.8347], [532023.1833, 4940093.4007], [532099.0533, 4940164.8694], [532111.6128, 4940195.4127], [532108.971, 4940218.2604], [532027.4919, 4940258.5277], [532014.7093, 4940276.2451], [532062.5613, 4940365.3703], [532105.9367, 4940322.3742], [532128.7722, 4940327.5677], [532141.1705, 4940393.6641], [532166.5751, 4940393.7829], [532199.6994, 4940371.0868], [532281.536, 4940249.5332], [532332.541, 4940206.5766], [532378.3491, 4940186.4701], [532411.3714, 4940186.6206], [532431.369, 4940257.8358], [532462.9126, 4940578.0379], [532493.1603, 4940628.9619], [532553.9419, 4940667.3391], [532571.581, 4940697.909], [532566.1262, 4940779.1571], [532558.4792, 4940784.2062], [532555.8307, 4940807.0537], [532540.4707, 4940832.3848], [532530.0486, 4940890.7619], [532542.3299, 4940982.2522], [532567.5585, 4941017.9256], [532603.0159, 4941040.9576], [532633.4569, 4941048.7091], [532727.5234, 4941031.3665], [532801.3761, 4940991.0619], [532885.3274, 4940960.9698], [532951.5424, 4940923.1756], [533063.52, 4940877.9585], [533093.9534, 4940888.267], [533123.9091, 4941000.1548], [533121.1421, 4941050.95], [533100.6228, 4941094.034], [533052.0832, 4941154.7852], [533057.0412, 4941180.2041], [533092.2809, 4941251.4847], [533104.927, 4941261.7024], [533148.1761, 4941246.661], [533209.2996, 4941211.3834], [533239.8148, 4941206.4451], [533369.2954, 4941219.7306], [533376.7959, 4941245.1703], [533366.4009, 4941295.9186], [533368.7457, 4941336.5723], [533386.4422, 4941356.9695], [533589.6731, 4941350.29], [533630.3579, 4941340.3187], [533693.8022, 4941353.3123], [533805.5467, 4941356.3612], [533846.0882, 4941376.8643], [533848.5629, 4941392.1179], [533868.7136, 4941430.3248], [533899.1433, 4941440.615], [533960.1759, 4941423.1099], [533990.6668, 4941420.7151], [534031.2848, 4941428.5267], [534084.7801, 4941393.2172], [534153.6977, 4941319.8659], [534222.3717, 4941299.8635], [534280.8031, 4941297.5883], [534306.1908, 4941300.2407], [534346.6797, 4941333.4472], [534381.9584, 4941394.5748], [534409.7133, 4941435.3344], [534406.8443, 4941506.4346], [534378.7511, 4941539.3436], [534388.6255, 4941602.8839], [534337.6175, 4941645.8317], [534345.0868, 4941676.3452], [534367.7991, 4941709.465], [534517.2007, 4941811.746], [534583.2916, 4941799.3614], [534616.2946, 4941804.5885], [534646.6827, 4941825.0498], [534677.1971, 4941815.0381], [534707.648, 4941822.7847], [534722.8225, 4941838.0993], [534743.145, 4941838.1936], [534781.3594, 4941810.443], [534814.6941, 4941747.09], [534881.0705, 4941671.1926], [534931.8479, 4941676.5097], [535063.3598, 4941801.5679], [535134.4224, 4941814.6021], [535149.5993, 4941827.3703], [535164.6591, 4941865.5463], [535164.5507, 4941888.4067], [535141.4873, 4941931.4706], [535077.5819, 4942022.6195], [535069.8401, 4942047.986], [535100.1175, 4942091.3024], [535107.434, 4942159.9177], [535122.6239, 4942170.1531], [535142.9899, 4942160.0885], [535196.31, 4942162.8667]], [[535438.4006, 4937586.8754], [535461.2605, 4937586.9783], [535473.9188, 4937594.6531], [535476.2401, 4937640.38], [535506.5984, 4937668.4578], [535513.7598, 4937767.5606], [535467.8365, 4937810.535], [535452.4706, 4937838.3993], [535396.3663, 4937886.3987], [535355.3363, 4937972.5747], [535322.1562, 4938007.9846], [535258.5329, 4938033.0907], [535207.7621, 4938025.2387], [535177.3788, 4938004.7751], [535139.6333, 4937930.9446], [535129.6796, 4937885.1689], [535127.5287, 4937798.8016], [535158.2908, 4937737.9841], [535201.6725, 4937695.0011], [535270.2511, 4937695.3149], [535397.501, 4937640.0234], [535407.77, 4937617.2113], [535438.4006, 4937586.8754]], [[535834.4605, 4937626.7854], [535864.8717, 4937642.172], [535867.2095, 4937685.374], [535856.9672, 4937703.1053], [535854.134, 4937766.592], [535833.6497, 4937802.0473], [535800.48, 4937834.9222], [535675.6864, 4937905.4599], [535647.7898, 4937897.7083], [535612.5538, 4937826.4363], [535617.9612, 4937755.336], [535641.0017, 4937714.8065], [535694.5433, 4937674.4154], [535725.0683, 4937664.3936], [535786.0642, 4937657.0582], [535834.4605, 4937626.7854]], [[532281.3759, 4939736.442], [532309.2684, 4939744.194], [532324.2812, 4939795.0633], [532367.3985, 4939807.9644], [532367.1911, 4939853.6849], [532356.8824, 4939884.1144], [532339.0052, 4939906.8859], [532298.2628, 4939927.0254], [532232.322, 4939906.3982], [532196.8696, 4939880.8431], [532189.3535, 4939860.4777], [532197.2833, 4939794.4748], [532217.73, 4939766.6282], [532281.3759, 4939736.442]], [[533300.1157, 4940797.7775], [533297.4099, 4940833.3323], [533210.8042, 4940886.2737], [533190.471, 4940888.7243], [533185.469, 4940870.918], [533205.9297, 4940840.527], [533224.0238, 4940774.57], [533234.2072, 4940767.002], [533269.7785, 4940764.6224], [533300.1157, 4940797.7775]], [[533317.9391, 4940787.694], [533320.8279, 4940711.5061], [533348.872, 4940688.7823], [533379.34, 4940691.4572], [533389.406, 4940711.8299], [533386.6709, 4940755.0048], [533368.7479, 4940785.3935], [533348.3726, 4940798.0038], [533317.9391, 4940787.694]]], \"spatialReference\": {\"wkid\": 26919, \"latestWkid\": 26919}}}}], \"objectIdFieldName\": \"OBJECTID_1\", \"globalIdFieldName\": \"\", \"spatialReference\": {\"wkid\": 26919, \"latestWkid\": 26919}, \"geometryType\": \"esriGeometryPolygon\", \"fields\": [{\"name\": \"OBJECTID_1\", \"type\": \"esriFieldTypeOID\", \"alias\": \"OBJECTID_1\", \"sqlType\": \"sqlTypeOther\", \"domain\": null, \"defaultValue\": null}, {\"name\": \"OBJECTID\", \"type\": \"esriFieldTypeInteger\", \"alias\": \"OBJECTID\", \"sqlType\": \"sqlTypeOther\", \"domain\": null, \"defaultValue\": null}, {\"name\": \"ComID\", \"type\": \"esriFieldTypeInteger\", \"alias\": \"ComID\", \"sqlType\": \"sqlTypeOther\", \"domain\": null, \"defaultValue\": null}, {\"name\": \"Permanent_\", \"type\": \"esriFieldTypeString\", \"alias\": \"Permanent_\", \"sqlType\": \"sqlTypeOther\", \"length\": 40, \"domain\": null, \"defaultValue\": null}, {\"name\": \"FDate\", \"type\": \"esriFieldTypeDate\", \"alias\": \"FDate\", \"sqlType\": \"sqlTypeOther\", \"length\": 8, \"domain\": null, \"defaultValue\": null}, {\"name\": \"Resolution\", \"type\": \"esriFieldTypeInteger\", \"alias\": \"Resolution\", \"sqlType\": \"sqlTypeOther\", \"domain\": null, \"defaultValue\": null}, {\"name\": \"GNIS_ID\", \"type\": \"esriFieldTypeString\", \"alias\": \"GNIS_ID\", \"sqlType\": \"sqlTypeOther\", \"length\": 10, \"domain\": null, \"defaultValue\": null}, {\"name\": \"GNIS_Name\", \"type\": \"esriFieldTypeString\", \"alias\": \"GNIS_Name\", \"sqlType\": \"sqlTypeOther\", \"length\": 65, \"domain\": null, \"defaultValue\": null}, {\"name\": \"AreaSqKm\", \"type\": \"esriFieldTypeDouble\", \"alias\": \"AreaSqKm\", \"sqlType\": \"sqlTypeOther\", \"domain\": null, \"defaultValue\": null}, {\"name\": \"Elevation\", \"type\": \"esriFieldTypeDouble\", \"alias\": \"Elevation\", \"sqlType\": \"sqlTypeOther\", \"domain\": null, \"defaultValue\": null}, {\"name\": \"ReachCode\", \"type\": \"esriFieldTypeString\", \"alias\": \"ReachCode\", \"sqlType\": \"sqlTypeOther\", \"length\": 14, \"domain\": null, \"defaultValue\": null}, {\"name\": \"FType\", \"type\": \"esriFieldTypeInteger\", \"alias\": \"FType\", \"sqlType\": \"sqlTypeOther\", \"domain\": null, \"defaultValue\": null}, {\"name\": \"FCode\", \"type\": \"esriFieldTypeInteger\", \"alias\": \"FCode\", \"sqlType\": \"sqlTypeOther\", \"domain\": null, \"defaultValue\": null}, {\"name\": \"Shape_Leng\", \"type\": \"esriFieldTypeDouble\", \"alias\": \"Shape_Leng\", \"sqlType\": \"sqlTypeOther\", \"domain\": null, \"defaultValue\": null}, {\"name\": \"Shape__Area\", \"type\": \"esriFieldTypeDouble\", \"alias\": \"Shape__Area\", \"sqlType\": \"sqlTypeDouble\", \"domain\": null, \"defaultValue\": null}, {\"name\": \"Shape__Length\", \"type\": \"esriFieldTypeDouble\", \"alias\": \"Shape__Length\", \"sqlType\": \"sqlTypeDouble\", \"domain\": null, \"defaultValue\": null}]}\n"
     ]
    }
   ],
   "source": [
    "print(result)"
   ]
  },
  {
   "cell_type": "code",
   "execution_count": 24,
   "metadata": {},
   "outputs": [
    {
     "data": {
      "text/plain": [
       "{\"geometry\": {\"rings\": [[[535196.31, 4942162.8667], [535204.0161, 4942145.1204], [535264.8856, 4942165.7284], [535295.4687, 4942142.9972], [535293.2326, 4942076.9496], [535303.5083, 4942051.5898], [535344.3263, 4942011.1413], [535392.6802, 4941991.0478], [535430.6991, 4942009.007], [535456.1792, 4941991.3289], [535494.2882, 4941988.9681], [535514.6607, 4941978.9047], [535517.4236, 4941933.1905], [535542.9547, 4941905.3673], [535571.2054, 4941836.9174], [535601.7911, 4941814.2024], [535640.1423, 4941758.4942], [535637.7821, 4941720.3795], [535599.8127, 4941692.2663], [535541.5338, 4941661.5238], [535465.4021, 4941645.9321], [535359.051, 4941574.3232], [535242.3713, 4941538.2288], [535189.1631, 4941510.0424], [535133.5168, 4941456.457], [535093.1653, 4941397.8378], [535062.9152, 4941346.9013], [534969.1863, 4941290.5933], [534857.584, 4941257.0586], [534827.0561, 4941267.0768], [534727.5234, 4941368.2201], [534681.7328, 4941383.2447], [534656.3946, 4941370.438], [534651.4408, 4941342.4704], [534661.7256, 4941317.1244], [534751.1205, 4941210.8529], [534819.8258, 4941180.6966], [534840.2796, 4941152.8434], [534838.0132, 4941094.4162], [534815.2958, 4941061.28], [534784.871, 4941050.9856], [534766.8951, 4941094.0781], [534746.5482, 4941099.0787], [534733.8886, 4941088.8577], [534721.516, 4941020.2085], [534711.4303, 4941002.3885], [534706.6543, 4940936.3277], [534722.078, 4940895.754], [534722.4362, 4940822.0929], [534690.0986, 4940672.0832], [534696.1204, 4940466.3748], [534758.6564, 4940123.7673], [534776.7366, 4940057.7996], [534782.1104, 4939996.8661], [534767.0847, 4939951.0785], [534767.9241, 4939768.2034], [534757.8911, 4939740.2158], [534755.64, 4939676.7087], [534768.445, 4939656.4345], [534773.6606, 4939625.9813], [534763.66, 4939592.9286], [534764.033, 4939511.6401], [534797.7678, 4939354.3132], [534818.2932, 4939311.2271], [534876.994, 4939250.5437], [534889.9906, 4939187.0965], [534915.64, 4939133.8854], [535017.6845, 4939037.824], [535025.4084, 4939012.4648], [535040.7169, 4938997.2922], [535058.7722, 4938938.953], [535148.0108, 4938865.6999], [535166.0313, 4938814.9885], [535171.3885, 4938754.0553], [535194.6089, 4938675.4089], [535243.0521, 4938637.5265], [535268.7078, 4938579.2292], [535340.1122, 4938518.6118], [535365.8129, 4938455.2349], [535401.6815, 4938389.344], [535412.1516, 4938320.8187], [535384.5796, 4938239.4146], [535372.1887, 4938173.3045], [535349.3618, 4938165.5966], [535323.9055, 4938178.173], [535265.2205, 4938236.3197], [535224.3179, 4938292.0162], [535193.7606, 4938309.653], [535160.7391, 4938309.4958], [535161.1476, 4938220.6022], [535204.4816, 4938187.7794], [535334.6739, 4938046.1469], [535416.1576, 4938003.3363], [535461.7758, 4938026.4023], [535563.2609, 4938052.2708], [535659.8836, 4938029.8523], [535713.3441, 4938004.6867], [535766.9133, 4937954.1508], [535805.0969, 4937934.004], [535907.2015, 4937825.2489], [535912.6666, 4937741.4486], [535920.3796, 4937723.7182], [535971.4165, 4937670.6002], [535987.0285, 4937589.3891], [536055.9265, 4937521.1304], [536061.1126, 4937498.291], [536132.6393, 4937409.7196], [536155.5088, 4937407.2849], [536163.1023, 4937414.9476], [536165.4206, 4937463.2149], [536180.4976, 4937496.2981], [536175.2382, 4937536.9176], [536144.5222, 4937587.5777], [536121.0403, 4937724.634], [536090.3345, 4937772.7469], [536108.0201, 4937790.6113], [536194.3931, 4937791.0119], [536204.6452, 4937770.7336], [536204.8957, 4937717.4004], [536187.3008, 4937676.668], [536190.132, 4937613.1889], [536325.4327, 4937463.9621], [536350.8849, 4937453.9074], [536444.8794, 4937449.2591], [536603.052, 4937302.6698], [536684.8687, 4937183.6592], [536715.6886, 4937110.1414], [536716.1763, 4937105.3158], [536721.0289, 4937056.8223], [536701.139, 4936962.7557], [536704.711, 4936736.7224], [536712.4313, 4936716.438], [536720.4896, 4936622.4928], [536730.8013, 4936589.5078], [536792.0662, 4936523.7463], [536855.7586, 4936480.8748], [536899.1862, 4936427.7282], [536975.942, 4936306.1524], [537019.2293, 4936283.4942], [537047.1895, 4936281.0843], [537087.761, 4936296.5125], [537136.02, 4936296.737], [537179.3067, 4936271.5324], [537255.9075, 4936185.5277], [537309.4015, 4936152.755], [537327.1948, 4936150.2951], [537370.2111, 4936186.0525], [537390.4916, 4936193.7601], [537413.3711, 4936191.3373], [537487.1798, 4936158.6463], [537522.7465, 4936156.275], [537548.108, 4936164.0125], [537553.8726, 4936154.7816], [537635.1077, 4936024.7083], [537638.1272, 4935923.1146], [537653.4869, 4935897.7881], [537735.033, 4935839.7587], [537763.0334, 4935827.1769], [537798.5735, 4935832.4198], [537808.5362, 4935873.112], [537846.4133, 4935924.0831], [537874.3011, 4935934.3694], [537902.2717, 4935926.8756], [537948.1831, 4935886.4583], [538021.8415, 4935886.7863], [538064.8707, 4935920.0083], [538146.1699, 4935915.3024], [538141.1817, 4935894.9523], [538029.7461, 4935823.3155], [538017.1896, 4935792.7829], [538014.8642, 4935747.0475], [538040.4902, 4935696.3663], [538145.1745, 4935582.5588], [538193.9044, 4935478.6277], [538224.5855, 4935435.5973], [538331.7024, 4935339.573], [538337.1201, 4935268.4823], [538362.7805, 4935212.715], [538398.4414, 4935190.0209], [538439.3334, 4935136.862], [538495.3566, 4935104.1065], [538503.217, 4935050.789], [538482.9742, 4935035.4578], [538434.7703, 4935022.5454], [538343.2717, 4935034.8226], [538328.0999, 4935019.5145], [538323.5505, 4934905.1908], [538333.9516, 4934854.4431], [538324.0187, 4934803.5899], [538331.8938, 4934750.2945], [538370.2018, 4934704.7402], [538400.7539, 4934689.636], [538428.7057, 4934687.2245], [538497.18, 4934707.8626], [538563.3228, 4934687.8461], [538664.9958, 4934673.0777], [538708.1689, 4934673.2835], [538720.8246, 4934683.4972], [538720.59, 4934734.2977], [538705.2089, 4934764.7092], [538720.316, 4934795.2583], [538743.1397, 4934800.4378], [538827.029, 4934785.588], [538951.3296, 4934821.7246], [539042.8525, 4934804.3685], [539070.7134, 4934822.2726], [539060.1858, 4934900.9596], [539126.1309, 4934921.5817], [539151.3891, 4934952.1857], [539156.3755, 4934975.0619], [539196.8334, 4935013.356], [539240.0298, 4935008.4631], [539240.2027, 4934972.9027], [539301.5219, 4934894.4497], [539299.5091, 4934777.593], [539264.1325, 4934739.329], [539246.5731, 4934690.9905], [539231.4232, 4934673.1403], [539157.8933, 4934644.8585], [539158.1862, 4934578.8177], [539120.1909, 4934558.3269], [538993.2497, 4934545.0543], [538962.8058, 4934534.7553], [538932.4432, 4934511.7565], [538879.1692, 4934496.263], [538805.5512, 4934488.298], [538785.2814, 4934475.5132], [538729.9201, 4934363.4997], [538712.396, 4934307.5426], [538676.9732, 4934276.8946], [538623.6322, 4934276.6581], [538590.4971, 4934301.8988], [538580.1937, 4934334.8735], [538630.6448, 4934411.2952], [538630.436, 4934457.0156], [538615.069, 4934482.3546], [538579.3741, 4934512.6677], [538503.0994, 4934525.0185], [538399.0169, 4934511.8267], [538345.6045, 4934529.3727], [538312.4717, 4934554.6148], [538281.9483, 4934562.0918], [538215.9091, 4934561.7911], [538170.0324, 4934597.1414], [538185.1361, 4934625.1491], [538233.324, 4934643.1471], [538248.452, 4934666.0749], [538258.4094, 4934709.3152], [538258.1591, 4934765.1884], [538252.9888, 4934785.486], [538230.0308, 4934805.701], [538133.5799, 4934790.0257], [538075.4108, 4934736.4086], [538090.853, 4934693.2955], [538080.8304, 4934662.7704], [538045.3918, 4934634.6658], [537999.6624, 4934636.9969], [537780.8555, 4934717.2677], [537696.7255, 4934782.9241], [537597.5293, 4934810.4076], [537544.0105, 4934850.7981], [537465.0817, 4934891.0792], [537266.2241, 4935050.1883], [537146.5923, 4935102.9695], [537067.5266, 4935173.7283], [536927.6818, 4935206.1143], [536861.5208, 4935231.2053], [536774.7104, 4935329.8645], [536751.8099, 4935337.3771], [536706.1368, 4935327.0098], [536673.2709, 4935293.8471], [536658.2705, 4935242.9753], [536628.0151, 4935194.5723], [536595.3533, 4935115.6822], [536554.7965, 4935095.1845], [536529.3147, 4935115.3764], [536511.291, 4935168.6389], [536478.11, 4935201.5028], [536437.3563, 4935229.2516], [536406.5436, 4935297.6979], [536396.162, 4935345.9012], [536398.0149, 4935495.7767], [536379.997, 4935546.4921], [536313.3641, 4935675.7296], [536259.6811, 4935749.1434], [536180.5853, 4935827.5182], [536091.0687, 4935959.1851], [536034.601, 4936085.9271], [535812.2702, 4936379.5523], [535704.7796, 4936554.3215], [535497.8197, 4936817.5165], [535472.2227, 4936860.58], [535423.0819, 4937053.4023], [535399.9881, 4937101.5674], [535328.5216, 4937177.4319], [535249.161, 4937311.6761], [535185.3443, 4937379.9561], [535159.621, 4937450.9685], [535118.8193, 4937486.3381], [534976.2191, 4937561.8878], [534843.6416, 4937670.5008], [534802.7361, 4937728.7326], [534746.5676, 4937789.4302], [534723.4263, 4937852.8231], [534585.7558, 4937958.8666], [534557.646, 4937996.8401], [534537.0882, 4938047.5545], [534542.0859, 4938067.8944], [534567.3642, 4938093.4154], [534597.8199, 4938098.6285], [534641.1683, 4938060.7293], [534671.6044, 4938073.5778], [534671.4299, 4938109.1307], [534643.2327, 4938167.4241], [534668.3985, 4938215.7908], [534647.9628, 4938243.6373], [534627.6072, 4938248.6308], [534579.415, 4938235.6951], [534480.751, 4938148.8949], [534440.2015, 4938128.3955], [534384.313, 4938130.6756], [534335.9251, 4938158.3895], [534234.2809, 4938168.0785], [534180.777, 4938200.854], [534019.8969, 4938388.0698], [533930.6035, 4938474.0236], [533805.6361, 4938580.1352], [533749.4421, 4938650.9868], [533728.9297, 4938691.5361], [533698.3361, 4938714.2599], [533650.0294, 4938726.7387], [533599.2624, 4938718.8697], [533439.1506, 4938738.4579], [533373.1723, 4938725.4615], [533332.6833, 4938692.254], [533262.0029, 4938595.4118], [533105.1804, 4938452.4448], [533038.5581, 4938418.7503], [533034.2201, 4938416.5583], [532932.5822, 4938426.2529], [532907.1006, 4938443.9187], [532911.8707, 4938509.9778], [532924.3218, 4938565.9155], [532926.3665, 4938672.6095], [532950.7434, 4938893.6987], [532947.7734, 4938987.6742], [532940.0905, 4939000.3281], [532937.3526, 4939043.5031], [532909.1486, 4939101.7817], [532850.5108, 4939147.2351], [532786.9388, 4939162.1756], [532763.8025, 4939223.0428], [532766.016, 4939291.6289], [532740.5435, 4939309.2955], [532671.992, 4939303.906], [532631.2223, 4939331.6488], [532605.8518, 4939323.9229], [532583.1357, 4939293.3349], [532534.8985, 4939288.027], [532494.0708, 4939328.4781], [532460.8063, 4939384.208], [532406.7631, 4939533.8245], [532388.8615, 4939559.1358], [532338.127, 4939543.6787], [532163.3416, 4939441.2638], [532125.2297, 4939443.6221], [532066.4602, 4939519.5555], [532058.6822, 4939555.0855], [532035.6713, 4939587.9927], [532027.8778, 4939623.5228], [532030.2067, 4939669.2484], [532050.3002, 4939720.1422], [532085.8011, 4939733.0037], [532105.9663, 4939766.1174], [532105.5193, 4939862.6384], [532097.7761, 4939888.0009], [532023.7639, 4939966.4066], [532005.8327, 4939999.3391], [532003.0061, 4940062.8347], [532023.1833, 4940093.4007], [532099.0533, 4940164.8694], [532111.6128, 4940195.4127], [532108.971, 4940218.2604], [532027.4919, 4940258.5277], [532014.7093, 4940276.2451], [532062.5613, 4940365.3703], [532105.9367, 4940322.3742], [532128.7722, 4940327.5677], [532141.1705, 4940393.6641], [532166.5751, 4940393.7829], [532199.6994, 4940371.0868], [532281.536, 4940249.5332], [532332.541, 4940206.5766], [532378.3491, 4940186.4701], [532411.3714, 4940186.6206], [532431.369, 4940257.8358], [532462.9126, 4940578.0379], [532493.1603, 4940628.9619], [532553.9419, 4940667.3391], [532571.581, 4940697.909], [532566.1262, 4940779.1571], [532558.4792, 4940784.2062], [532555.8307, 4940807.0537], [532540.4707, 4940832.3848], [532530.0486, 4940890.7619], [532542.3299, 4940982.2522], [532567.5585, 4941017.9256], [532603.0159, 4941040.9576], [532633.4569, 4941048.7091], [532727.5234, 4941031.3665], [532801.3761, 4940991.0619], [532885.3274, 4940960.9698], [532951.5424, 4940923.1756], [533063.52, 4940877.9585], [533093.9534, 4940888.267], [533123.9091, 4941000.1548], [533121.1421, 4941050.95], [533100.6228, 4941094.034], [533052.0832, 4941154.7852], [533057.0412, 4941180.2041], [533092.2809, 4941251.4847], [533104.927, 4941261.7024], [533148.1761, 4941246.661], [533209.2996, 4941211.3834], [533239.8148, 4941206.4451], [533369.2954, 4941219.7306], [533376.7959, 4941245.1703], [533366.4009, 4941295.9186], [533368.7457, 4941336.5723], [533386.4422, 4941356.9695], [533589.6731, 4941350.29], [533630.3579, 4941340.3187], [533693.8022, 4941353.3123], [533805.5467, 4941356.3612], [533846.0882, 4941376.8643], [533848.5629, 4941392.1179], [533868.7136, 4941430.3248], [533899.1433, 4941440.615], [533960.1759, 4941423.1099], [533990.6668, 4941420.7151], [534031.2848, 4941428.5267], [534084.7801, 4941393.2172], [534153.6977, 4941319.8659], [534222.3717, 4941299.8635], [534280.8031, 4941297.5883], [534306.1908, 4941300.2407], [534346.6797, 4941333.4472], [534381.9584, 4941394.5748], [534409.7133, 4941435.3344], [534406.8443, 4941506.4346], [534378.7511, 4941539.3436], [534388.6255, 4941602.8839], [534337.6175, 4941645.8317], [534345.0868, 4941676.3452], [534367.7991, 4941709.465], [534517.2007, 4941811.746], [534583.2916, 4941799.3614], [534616.2946, 4941804.5885], [534646.6827, 4941825.0498], [534677.1971, 4941815.0381], [534707.648, 4941822.7847], [534722.8225, 4941838.0993], [534743.145, 4941838.1936], [534781.3594, 4941810.443], [534814.6941, 4941747.09], [534881.0705, 4941671.1926], [534931.8479, 4941676.5097], [535063.3598, 4941801.5679], [535134.4224, 4941814.6021], [535149.5993, 4941827.3703], [535164.6591, 4941865.5463], [535164.5507, 4941888.4067], [535141.4873, 4941931.4706], [535077.5819, 4942022.6195], [535069.8401, 4942047.986], [535100.1175, 4942091.3024], [535107.434, 4942159.9177], [535122.6239, 4942170.1531], [535142.9899, 4942160.0885], [535196.31, 4942162.8667]], [[535438.4006, 4937586.8754], [535461.2605, 4937586.9783], [535473.9188, 4937594.6531], [535476.2401, 4937640.38], [535506.5984, 4937668.4578], [535513.7598, 4937767.5606], [535467.8365, 4937810.535], [535452.4706, 4937838.3993], [535396.3663, 4937886.3987], [535355.3363, 4937972.5747], [535322.1562, 4938007.9846], [535258.5329, 4938033.0907], [535207.7621, 4938025.2387], [535177.3788, 4938004.7751], [535139.6333, 4937930.9446], [535129.6796, 4937885.1689], [535127.5287, 4937798.8016], [535158.2908, 4937737.9841], [535201.6725, 4937695.0011], [535270.2511, 4937695.3149], [535397.501, 4937640.0234], [535407.77, 4937617.2113], [535438.4006, 4937586.8754]], [[535834.4605, 4937626.7854], [535864.8717, 4937642.172], [535867.2095, 4937685.374], [535856.9672, 4937703.1053], [535854.134, 4937766.592], [535833.6497, 4937802.0473], [535800.48, 4937834.9222], [535675.6864, 4937905.4599], [535647.7898, 4937897.7083], [535612.5538, 4937826.4363], [535617.9612, 4937755.336], [535641.0017, 4937714.8065], [535694.5433, 4937674.4154], [535725.0683, 4937664.3936], [535786.0642, 4937657.0582], [535834.4605, 4937626.7854]], [[532281.3759, 4939736.442], [532309.2684, 4939744.194], [532324.2812, 4939795.0633], [532367.3985, 4939807.9644], [532367.1911, 4939853.6849], [532356.8824, 4939884.1144], [532339.0052, 4939906.8859], [532298.2628, 4939927.0254], [532232.322, 4939906.3982], [532196.8696, 4939880.8431], [532189.3535, 4939860.4777], [532197.2833, 4939794.4748], [532217.73, 4939766.6282], [532281.3759, 4939736.442]], [[533300.1157, 4940797.7775], [533297.4099, 4940833.3323], [533210.8042, 4940886.2737], [533190.471, 4940888.7243], [533185.469, 4940870.918], [533205.9297, 4940840.527], [533224.0238, 4940774.57], [533234.2072, 4940767.002], [533269.7785, 4940764.6224], [533300.1157, 4940797.7775]], [[533317.9391, 4940787.694], [533320.8279, 4940711.5061], [533348.872, 4940688.7823], [533379.34, 4940691.4572], [533389.406, 4940711.8299], [533386.6709, 4940755.0048], [533368.7479, 4940785.3935], [533348.3726, 4940798.0038], [533317.9391, 4940787.694]]], \"spatialReference\": {\"wkid\": 26919, \"latestWkid\": 26919}}, \"attributes\": {\"OBJECTID_1\": 37, \"OBJECTID\": 1163, \"ComID\": 2679104, \"Permanent_\": \"2679104\", \"FDate\": 931046400000, \"Resolution\": 3, \"GNIS_ID\": \" \", \"GNIS_Name\": \"Branch Lake\", \"AreaSqKm\": 11.934, \"Elevation\": 0, \"ReachCode\": \"01050002003913\", \"FType\": 390, \"FCode\": 39004, \"Shape_Leng\": 0.395040976588, \"Shape__Area\": 11924720.5300293, \"Shape__Length\": 36788.4270866285, \"SHAPE\": {\"rings\": [[[535196.31, 4942162.8667], [535204.0161, 4942145.1204], [535264.8856, 4942165.7284], [535295.4687, 4942142.9972], [535293.2326, 4942076.9496], [535303.5083, 4942051.5898], [535344.3263, 4942011.1413], [535392.6802, 4941991.0478], [535430.6991, 4942009.007], [535456.1792, 4941991.3289], [535494.2882, 4941988.9681], [535514.6607, 4941978.9047], [535517.4236, 4941933.1905], [535542.9547, 4941905.3673], [535571.2054, 4941836.9174], [535601.7911, 4941814.2024], [535640.1423, 4941758.4942], [535637.7821, 4941720.3795], [535599.8127, 4941692.2663], [535541.5338, 4941661.5238], [535465.4021, 4941645.9321], [535359.051, 4941574.3232], [535242.3713, 4941538.2288], [535189.1631, 4941510.0424], [535133.5168, 4941456.457], [535093.1653, 4941397.8378], [535062.9152, 4941346.9013], [534969.1863, 4941290.5933], [534857.584, 4941257.0586], [534827.0561, 4941267.0768], [534727.5234, 4941368.2201], [534681.7328, 4941383.2447], [534656.3946, 4941370.438], [534651.4408, 4941342.4704], [534661.7256, 4941317.1244], [534751.1205, 4941210.8529], [534819.8258, 4941180.6966], [534840.2796, 4941152.8434], [534838.0132, 4941094.4162], [534815.2958, 4941061.28], [534784.871, 4941050.9856], [534766.8951, 4941094.0781], [534746.5482, 4941099.0787], [534733.8886, 4941088.8577], [534721.516, 4941020.2085], [534711.4303, 4941002.3885], [534706.6543, 4940936.3277], [534722.078, 4940895.754], [534722.4362, 4940822.0929], [534690.0986, 4940672.0832], [534696.1204, 4940466.3748], [534758.6564, 4940123.7673], [534776.7366, 4940057.7996], [534782.1104, 4939996.8661], [534767.0847, 4939951.0785], [534767.9241, 4939768.2034], [534757.8911, 4939740.2158], [534755.64, 4939676.7087], [534768.445, 4939656.4345], [534773.6606, 4939625.9813], [534763.66, 4939592.9286], [534764.033, 4939511.6401], [534797.7678, 4939354.3132], [534818.2932, 4939311.2271], [534876.994, 4939250.5437], [534889.9906, 4939187.0965], [534915.64, 4939133.8854], [535017.6845, 4939037.824], [535025.4084, 4939012.4648], [535040.7169, 4938997.2922], [535058.7722, 4938938.953], [535148.0108, 4938865.6999], [535166.0313, 4938814.9885], [535171.3885, 4938754.0553], [535194.6089, 4938675.4089], [535243.0521, 4938637.5265], [535268.7078, 4938579.2292], [535340.1122, 4938518.6118], [535365.8129, 4938455.2349], [535401.6815, 4938389.344], [535412.1516, 4938320.8187], [535384.5796, 4938239.4146], [535372.1887, 4938173.3045], [535349.3618, 4938165.5966], [535323.9055, 4938178.173], [535265.2205, 4938236.3197], [535224.3179, 4938292.0162], [535193.7606, 4938309.653], [535160.7391, 4938309.4958], [535161.1476, 4938220.6022], [535204.4816, 4938187.7794], [535334.6739, 4938046.1469], [535416.1576, 4938003.3363], [535461.7758, 4938026.4023], [535563.2609, 4938052.2708], [535659.8836, 4938029.8523], [535713.3441, 4938004.6867], [535766.9133, 4937954.1508], [535805.0969, 4937934.004], [535907.2015, 4937825.2489], [535912.6666, 4937741.4486], [535920.3796, 4937723.7182], [535971.4165, 4937670.6002], [535987.0285, 4937589.3891], [536055.9265, 4937521.1304], [536061.1126, 4937498.291], [536132.6393, 4937409.7196], [536155.5088, 4937407.2849], [536163.1023, 4937414.9476], [536165.4206, 4937463.2149], [536180.4976, 4937496.2981], [536175.2382, 4937536.9176], [536144.5222, 4937587.5777], [536121.0403, 4937724.634], [536090.3345, 4937772.7469], [536108.0201, 4937790.6113], [536194.3931, 4937791.0119], [536204.6452, 4937770.7336], [536204.8957, 4937717.4004], [536187.3008, 4937676.668], [536190.132, 4937613.1889], [536325.4327, 4937463.9621], [536350.8849, 4937453.9074], [536444.8794, 4937449.2591], [536603.052, 4937302.6698], [536684.8687, 4937183.6592], [536715.6886, 4937110.1414], [536716.1763, 4937105.3158], [536721.0289, 4937056.8223], [536701.139, 4936962.7557], [536704.711, 4936736.7224], [536712.4313, 4936716.438], [536720.4896, 4936622.4928], [536730.8013, 4936589.5078], [536792.0662, 4936523.7463], [536855.7586, 4936480.8748], [536899.1862, 4936427.7282], [536975.942, 4936306.1524], [537019.2293, 4936283.4942], [537047.1895, 4936281.0843], [537087.761, 4936296.5125], [537136.02, 4936296.737], [537179.3067, 4936271.5324], [537255.9075, 4936185.5277], [537309.4015, 4936152.755], [537327.1948, 4936150.2951], [537370.2111, 4936186.0525], [537390.4916, 4936193.7601], [537413.3711, 4936191.3373], [537487.1798, 4936158.6463], [537522.7465, 4936156.275], [537548.108, 4936164.0125], [537553.8726, 4936154.7816], [537635.1077, 4936024.7083], [537638.1272, 4935923.1146], [537653.4869, 4935897.7881], [537735.033, 4935839.7587], [537763.0334, 4935827.1769], [537798.5735, 4935832.4198], [537808.5362, 4935873.112], [537846.4133, 4935924.0831], [537874.3011, 4935934.3694], [537902.2717, 4935926.8756], [537948.1831, 4935886.4583], [538021.8415, 4935886.7863], [538064.8707, 4935920.0083], [538146.1699, 4935915.3024], [538141.1817, 4935894.9523], [538029.7461, 4935823.3155], [538017.1896, 4935792.7829], [538014.8642, 4935747.0475], [538040.4902, 4935696.3663], [538145.1745, 4935582.5588], [538193.9044, 4935478.6277], [538224.5855, 4935435.5973], [538331.7024, 4935339.573], [538337.1201, 4935268.4823], [538362.7805, 4935212.715], [538398.4414, 4935190.0209], [538439.3334, 4935136.862], [538495.3566, 4935104.1065], [538503.217, 4935050.789], [538482.9742, 4935035.4578], [538434.7703, 4935022.5454], [538343.2717, 4935034.8226], [538328.0999, 4935019.5145], [538323.5505, 4934905.1908], [538333.9516, 4934854.4431], [538324.0187, 4934803.5899], [538331.8938, 4934750.2945], [538370.2018, 4934704.7402], [538400.7539, 4934689.636], [538428.7057, 4934687.2245], [538497.18, 4934707.8626], [538563.3228, 4934687.8461], [538664.9958, 4934673.0777], [538708.1689, 4934673.2835], [538720.8246, 4934683.4972], [538720.59, 4934734.2977], [538705.2089, 4934764.7092], [538720.316, 4934795.2583], [538743.1397, 4934800.4378], [538827.029, 4934785.588], [538951.3296, 4934821.7246], [539042.8525, 4934804.3685], [539070.7134, 4934822.2726], [539060.1858, 4934900.9596], [539126.1309, 4934921.5817], [539151.3891, 4934952.1857], [539156.3755, 4934975.0619], [539196.8334, 4935013.356], [539240.0298, 4935008.4631], [539240.2027, 4934972.9027], [539301.5219, 4934894.4497], [539299.5091, 4934777.593], [539264.1325, 4934739.329], [539246.5731, 4934690.9905], [539231.4232, 4934673.1403], [539157.8933, 4934644.8585], [539158.1862, 4934578.8177], [539120.1909, 4934558.3269], [538993.2497, 4934545.0543], [538962.8058, 4934534.7553], [538932.4432, 4934511.7565], [538879.1692, 4934496.263], [538805.5512, 4934488.298], [538785.2814, 4934475.5132], [538729.9201, 4934363.4997], [538712.396, 4934307.5426], [538676.9732, 4934276.8946], [538623.6322, 4934276.6581], [538590.4971, 4934301.8988], [538580.1937, 4934334.8735], [538630.6448, 4934411.2952], [538630.436, 4934457.0156], [538615.069, 4934482.3546], [538579.3741, 4934512.6677], [538503.0994, 4934525.0185], [538399.0169, 4934511.8267], [538345.6045, 4934529.3727], [538312.4717, 4934554.6148], [538281.9483, 4934562.0918], [538215.9091, 4934561.7911], [538170.0324, 4934597.1414], [538185.1361, 4934625.1491], [538233.324, 4934643.1471], [538248.452, 4934666.0749], [538258.4094, 4934709.3152], [538258.1591, 4934765.1884], [538252.9888, 4934785.486], [538230.0308, 4934805.701], [538133.5799, 4934790.0257], [538075.4108, 4934736.4086], [538090.853, 4934693.2955], [538080.8304, 4934662.7704], [538045.3918, 4934634.6658], [537999.6624, 4934636.9969], [537780.8555, 4934717.2677], [537696.7255, 4934782.9241], [537597.5293, 4934810.4076], [537544.0105, 4934850.7981], [537465.0817, 4934891.0792], [537266.2241, 4935050.1883], [537146.5923, 4935102.9695], [537067.5266, 4935173.7283], [536927.6818, 4935206.1143], [536861.5208, 4935231.2053], [536774.7104, 4935329.8645], [536751.8099, 4935337.3771], [536706.1368, 4935327.0098], [536673.2709, 4935293.8471], [536658.2705, 4935242.9753], [536628.0151, 4935194.5723], [536595.3533, 4935115.6822], [536554.7965, 4935095.1845], [536529.3147, 4935115.3764], [536511.291, 4935168.6389], [536478.11, 4935201.5028], [536437.3563, 4935229.2516], [536406.5436, 4935297.6979], [536396.162, 4935345.9012], [536398.0149, 4935495.7767], [536379.997, 4935546.4921], [536313.3641, 4935675.7296], [536259.6811, 4935749.1434], [536180.5853, 4935827.5182], [536091.0687, 4935959.1851], [536034.601, 4936085.9271], [535812.2702, 4936379.5523], [535704.7796, 4936554.3215], [535497.8197, 4936817.5165], [535472.2227, 4936860.58], [535423.0819, 4937053.4023], [535399.9881, 4937101.5674], [535328.5216, 4937177.4319], [535249.161, 4937311.6761], [535185.3443, 4937379.9561], [535159.621, 4937450.9685], [535118.8193, 4937486.3381], [534976.2191, 4937561.8878], [534843.6416, 4937670.5008], [534802.7361, 4937728.7326], [534746.5676, 4937789.4302], [534723.4263, 4937852.8231], [534585.7558, 4937958.8666], [534557.646, 4937996.8401], [534537.0882, 4938047.5545], [534542.0859, 4938067.8944], [534567.3642, 4938093.4154], [534597.8199, 4938098.6285], [534641.1683, 4938060.7293], [534671.6044, 4938073.5778], [534671.4299, 4938109.1307], [534643.2327, 4938167.4241], [534668.3985, 4938215.7908], [534647.9628, 4938243.6373], [534627.6072, 4938248.6308], [534579.415, 4938235.6951], [534480.751, 4938148.8949], [534440.2015, 4938128.3955], [534384.313, 4938130.6756], [534335.9251, 4938158.3895], [534234.2809, 4938168.0785], [534180.777, 4938200.854], [534019.8969, 4938388.0698], [533930.6035, 4938474.0236], [533805.6361, 4938580.1352], [533749.4421, 4938650.9868], [533728.9297, 4938691.5361], [533698.3361, 4938714.2599], [533650.0294, 4938726.7387], [533599.2624, 4938718.8697], [533439.1506, 4938738.4579], [533373.1723, 4938725.4615], [533332.6833, 4938692.254], [533262.0029, 4938595.4118], [533105.1804, 4938452.4448], [533038.5581, 4938418.7503], [533034.2201, 4938416.5583], [532932.5822, 4938426.2529], [532907.1006, 4938443.9187], [532911.8707, 4938509.9778], [532924.3218, 4938565.9155], [532926.3665, 4938672.6095], [532950.7434, 4938893.6987], [532947.7734, 4938987.6742], [532940.0905, 4939000.3281], [532937.3526, 4939043.5031], [532909.1486, 4939101.7817], [532850.5108, 4939147.2351], [532786.9388, 4939162.1756], [532763.8025, 4939223.0428], [532766.016, 4939291.6289], [532740.5435, 4939309.2955], [532671.992, 4939303.906], [532631.2223, 4939331.6488], [532605.8518, 4939323.9229], [532583.1357, 4939293.3349], [532534.8985, 4939288.027], [532494.0708, 4939328.4781], [532460.8063, 4939384.208], [532406.7631, 4939533.8245], [532388.8615, 4939559.1358], [532338.127, 4939543.6787], [532163.3416, 4939441.2638], [532125.2297, 4939443.6221], [532066.4602, 4939519.5555], [532058.6822, 4939555.0855], [532035.6713, 4939587.9927], [532027.8778, 4939623.5228], [532030.2067, 4939669.2484], [532050.3002, 4939720.1422], [532085.8011, 4939733.0037], [532105.9663, 4939766.1174], [532105.5193, 4939862.6384], [532097.7761, 4939888.0009], [532023.7639, 4939966.4066], [532005.8327, 4939999.3391], [532003.0061, 4940062.8347], [532023.1833, 4940093.4007], [532099.0533, 4940164.8694], [532111.6128, 4940195.4127], [532108.971, 4940218.2604], [532027.4919, 4940258.5277], [532014.7093, 4940276.2451], [532062.5613, 4940365.3703], [532105.9367, 4940322.3742], [532128.7722, 4940327.5677], [532141.1705, 4940393.6641], [532166.5751, 4940393.7829], [532199.6994, 4940371.0868], [532281.536, 4940249.5332], [532332.541, 4940206.5766], [532378.3491, 4940186.4701], [532411.3714, 4940186.6206], [532431.369, 4940257.8358], [532462.9126, 4940578.0379], [532493.1603, 4940628.9619], [532553.9419, 4940667.3391], [532571.581, 4940697.909], [532566.1262, 4940779.1571], [532558.4792, 4940784.2062], [532555.8307, 4940807.0537], [532540.4707, 4940832.3848], [532530.0486, 4940890.7619], [532542.3299, 4940982.2522], [532567.5585, 4941017.9256], [532603.0159, 4941040.9576], [532633.4569, 4941048.7091], [532727.5234, 4941031.3665], [532801.3761, 4940991.0619], [532885.3274, 4940960.9698], [532951.5424, 4940923.1756], [533063.52, 4940877.9585], [533093.9534, 4940888.267], [533123.9091, 4941000.1548], [533121.1421, 4941050.95], [533100.6228, 4941094.034], [533052.0832, 4941154.7852], [533057.0412, 4941180.2041], [533092.2809, 4941251.4847], [533104.927, 4941261.7024], [533148.1761, 4941246.661], [533209.2996, 4941211.3834], [533239.8148, 4941206.4451], [533369.2954, 4941219.7306], [533376.7959, 4941245.1703], [533366.4009, 4941295.9186], [533368.7457, 4941336.5723], [533386.4422, 4941356.9695], [533589.6731, 4941350.29], [533630.3579, 4941340.3187], [533693.8022, 4941353.3123], [533805.5467, 4941356.3612], [533846.0882, 4941376.8643], [533848.5629, 4941392.1179], [533868.7136, 4941430.3248], [533899.1433, 4941440.615], [533960.1759, 4941423.1099], [533990.6668, 4941420.7151], [534031.2848, 4941428.5267], [534084.7801, 4941393.2172], [534153.6977, 4941319.8659], [534222.3717, 4941299.8635], [534280.8031, 4941297.5883], [534306.1908, 4941300.2407], [534346.6797, 4941333.4472], [534381.9584, 4941394.5748], [534409.7133, 4941435.3344], [534406.8443, 4941506.4346], [534378.7511, 4941539.3436], [534388.6255, 4941602.8839], [534337.6175, 4941645.8317], [534345.0868, 4941676.3452], [534367.7991, 4941709.465], [534517.2007, 4941811.746], [534583.2916, 4941799.3614], [534616.2946, 4941804.5885], [534646.6827, 4941825.0498], [534677.1971, 4941815.0381], [534707.648, 4941822.7847], [534722.8225, 4941838.0993], [534743.145, 4941838.1936], [534781.3594, 4941810.443], [534814.6941, 4941747.09], [534881.0705, 4941671.1926], [534931.8479, 4941676.5097], [535063.3598, 4941801.5679], [535134.4224, 4941814.6021], [535149.5993, 4941827.3703], [535164.6591, 4941865.5463], [535164.5507, 4941888.4067], [535141.4873, 4941931.4706], [535077.5819, 4942022.6195], [535069.8401, 4942047.986], [535100.1175, 4942091.3024], [535107.434, 4942159.9177], [535122.6239, 4942170.1531], [535142.9899, 4942160.0885], [535196.31, 4942162.8667]], [[535438.4006, 4937586.8754], [535461.2605, 4937586.9783], [535473.9188, 4937594.6531], [535476.2401, 4937640.38], [535506.5984, 4937668.4578], [535513.7598, 4937767.5606], [535467.8365, 4937810.535], [535452.4706, 4937838.3993], [535396.3663, 4937886.3987], [535355.3363, 4937972.5747], [535322.1562, 4938007.9846], [535258.5329, 4938033.0907], [535207.7621, 4938025.2387], [535177.3788, 4938004.7751], [535139.6333, 4937930.9446], [535129.6796, 4937885.1689], [535127.5287, 4937798.8016], [535158.2908, 4937737.9841], [535201.6725, 4937695.0011], [535270.2511, 4937695.3149], [535397.501, 4937640.0234], [535407.77, 4937617.2113], [535438.4006, 4937586.8754]], [[535834.4605, 4937626.7854], [535864.8717, 4937642.172], [535867.2095, 4937685.374], [535856.9672, 4937703.1053], [535854.134, 4937766.592], [535833.6497, 4937802.0473], [535800.48, 4937834.9222], [535675.6864, 4937905.4599], [535647.7898, 4937897.7083], [535612.5538, 4937826.4363], [535617.9612, 4937755.336], [535641.0017, 4937714.8065], [535694.5433, 4937674.4154], [535725.0683, 4937664.3936], [535786.0642, 4937657.0582], [535834.4605, 4937626.7854]], [[532281.3759, 4939736.442], [532309.2684, 4939744.194], [532324.2812, 4939795.0633], [532367.3985, 4939807.9644], [532367.1911, 4939853.6849], [532356.8824, 4939884.1144], [532339.0052, 4939906.8859], [532298.2628, 4939927.0254], [532232.322, 4939906.3982], [532196.8696, 4939880.8431], [532189.3535, 4939860.4777], [532197.2833, 4939794.4748], [532217.73, 4939766.6282], [532281.3759, 4939736.442]], [[533300.1157, 4940797.7775], [533297.4099, 4940833.3323], [533210.8042, 4940886.2737], [533190.471, 4940888.7243], [533185.469, 4940870.918], [533205.9297, 4940840.527], [533224.0238, 4940774.57], [533234.2072, 4940767.002], [533269.7785, 4940764.6224], [533300.1157, 4940797.7775]], [[533317.9391, 4940787.694], [533320.8279, 4940711.5061], [533348.872, 4940688.7823], [533379.34, 4940691.4572], [533389.406, 4940711.8299], [533386.6709, 4940755.0048], [533368.7479, 4940785.3935], [533348.3726, 4940798.0038], [533317.9391, 4940787.694]]], \"spatialReference\": {\"wkid\": 26919, \"latestWkid\": 26919}}}}"
      ]
     },
     "execution_count": 24,
     "metadata": {},
     "output_type": "execute_result"
    }
   ],
   "source": [
    "result.features[2]"
   ]
  },
  {
   "cell_type": "code",
   "execution_count": 25,
   "metadata": {},
   "outputs": [
    {
     "data": {
      "text/plain": [
       "{'rings': [[[535196.31, 4942162.8667],\n",
       "   [535204.0161, 4942145.1204],\n",
       "   [535264.8856, 4942165.7284],\n",
       "   [535295.4687, 4942142.9972],\n",
       "   [535293.2326, 4942076.9496],\n",
       "   [535303.5083, 4942051.5898],\n",
       "   [535344.3263, 4942011.1413],\n",
       "   [535392.6802, 4941991.0478],\n",
       "   [535430.6991, 4942009.007],\n",
       "   [535456.1792, 4941991.3289],\n",
       "   [535494.2882, 4941988.9681],\n",
       "   [535514.6607, 4941978.9047],\n",
       "   [535517.4236, 4941933.1905],\n",
       "   [535542.9547, 4941905.3673],\n",
       "   [535571.2054, 4941836.9174],\n",
       "   [535601.7911, 4941814.2024],\n",
       "   [535640.1423, 4941758.4942],\n",
       "   [535637.7821, 4941720.3795],\n",
       "   [535599.8127, 4941692.2663],\n",
       "   [535541.5338, 4941661.5238],\n",
       "   [535465.4021, 4941645.9321],\n",
       "   [535359.051, 4941574.3232],\n",
       "   [535242.3713, 4941538.2288],\n",
       "   [535189.1631, 4941510.0424],\n",
       "   [535133.5168, 4941456.457],\n",
       "   [535093.1653, 4941397.8378],\n",
       "   [535062.9152, 4941346.9013],\n",
       "   [534969.1863, 4941290.5933],\n",
       "   [534857.584, 4941257.0586],\n",
       "   [534827.0561, 4941267.0768],\n",
       "   [534727.5234, 4941368.2201],\n",
       "   [534681.7328, 4941383.2447],\n",
       "   [534656.3946, 4941370.438],\n",
       "   [534651.4408, 4941342.4704],\n",
       "   [534661.7256, 4941317.1244],\n",
       "   [534751.1205, 4941210.8529],\n",
       "   [534819.8258, 4941180.6966],\n",
       "   [534840.2796, 4941152.8434],\n",
       "   [534838.0132, 4941094.4162],\n",
       "   [534815.2958, 4941061.28],\n",
       "   [534784.871, 4941050.9856],\n",
       "   [534766.8951, 4941094.0781],\n",
       "   [534746.5482, 4941099.0787],\n",
       "   [534733.8886, 4941088.8577],\n",
       "   [534721.516, 4941020.2085],\n",
       "   [534711.4303, 4941002.3885],\n",
       "   [534706.6543, 4940936.3277],\n",
       "   [534722.078, 4940895.754],\n",
       "   [534722.4362, 4940822.0929],\n",
       "   [534690.0986, 4940672.0832],\n",
       "   [534696.1204, 4940466.3748],\n",
       "   [534758.6564, 4940123.7673],\n",
       "   [534776.7366, 4940057.7996],\n",
       "   [534782.1104, 4939996.8661],\n",
       "   [534767.0847, 4939951.0785],\n",
       "   [534767.9241, 4939768.2034],\n",
       "   [534757.8911, 4939740.2158],\n",
       "   [534755.64, 4939676.7087],\n",
       "   [534768.445, 4939656.4345],\n",
       "   [534773.6606, 4939625.9813],\n",
       "   [534763.66, 4939592.9286],\n",
       "   [534764.033, 4939511.6401],\n",
       "   [534797.7678, 4939354.3132],\n",
       "   [534818.2932, 4939311.2271],\n",
       "   [534876.994, 4939250.5437],\n",
       "   [534889.9906, 4939187.0965],\n",
       "   [534915.64, 4939133.8854],\n",
       "   [535017.6845, 4939037.824],\n",
       "   [535025.4084, 4939012.4648],\n",
       "   [535040.7169, 4938997.2922],\n",
       "   [535058.7722, 4938938.953],\n",
       "   [535148.0108, 4938865.6999],\n",
       "   [535166.0313, 4938814.9885],\n",
       "   [535171.3885, 4938754.0553],\n",
       "   [535194.6089, 4938675.4089],\n",
       "   [535243.0521, 4938637.5265],\n",
       "   [535268.7078, 4938579.2292],\n",
       "   [535340.1122, 4938518.6118],\n",
       "   [535365.8129, 4938455.2349],\n",
       "   [535401.6815, 4938389.344],\n",
       "   [535412.1516, 4938320.8187],\n",
       "   [535384.5796, 4938239.4146],\n",
       "   [535372.1887, 4938173.3045],\n",
       "   [535349.3618, 4938165.5966],\n",
       "   [535323.9055, 4938178.173],\n",
       "   [535265.2205, 4938236.3197],\n",
       "   [535224.3179, 4938292.0162],\n",
       "   [535193.7606, 4938309.653],\n",
       "   [535160.7391, 4938309.4958],\n",
       "   [535161.1476, 4938220.6022],\n",
       "   [535204.4816, 4938187.7794],\n",
       "   [535334.6739, 4938046.1469],\n",
       "   [535416.1576, 4938003.3363],\n",
       "   [535461.7758, 4938026.4023],\n",
       "   [535563.2609, 4938052.2708],\n",
       "   [535659.8836, 4938029.8523],\n",
       "   [535713.3441, 4938004.6867],\n",
       "   [535766.9133, 4937954.1508],\n",
       "   [535805.0969, 4937934.004],\n",
       "   [535907.2015, 4937825.2489],\n",
       "   [535912.6666, 4937741.4486],\n",
       "   [535920.3796, 4937723.7182],\n",
       "   [535971.4165, 4937670.6002],\n",
       "   [535987.0285, 4937589.3891],\n",
       "   [536055.9265, 4937521.1304],\n",
       "   [536061.1126, 4937498.291],\n",
       "   [536132.6393, 4937409.7196],\n",
       "   [536155.5088, 4937407.2849],\n",
       "   [536163.1023, 4937414.9476],\n",
       "   [536165.4206, 4937463.2149],\n",
       "   [536180.4976, 4937496.2981],\n",
       "   [536175.2382, 4937536.9176],\n",
       "   [536144.5222, 4937587.5777],\n",
       "   [536121.0403, 4937724.634],\n",
       "   [536090.3345, 4937772.7469],\n",
       "   [536108.0201, 4937790.6113],\n",
       "   [536194.3931, 4937791.0119],\n",
       "   [536204.6452, 4937770.7336],\n",
       "   [536204.8957, 4937717.4004],\n",
       "   [536187.3008, 4937676.668],\n",
       "   [536190.132, 4937613.1889],\n",
       "   [536325.4327, 4937463.9621],\n",
       "   [536350.8849, 4937453.9074],\n",
       "   [536444.8794, 4937449.2591],\n",
       "   [536603.052, 4937302.6698],\n",
       "   [536684.8687, 4937183.6592],\n",
       "   [536715.6886, 4937110.1414],\n",
       "   [536716.1763, 4937105.3158],\n",
       "   [536721.0289, 4937056.8223],\n",
       "   [536701.139, 4936962.7557],\n",
       "   [536704.711, 4936736.7224],\n",
       "   [536712.4313, 4936716.438],\n",
       "   [536720.4896, 4936622.4928],\n",
       "   [536730.8013, 4936589.5078],\n",
       "   [536792.0662, 4936523.7463],\n",
       "   [536855.7586, 4936480.8748],\n",
       "   [536899.1862, 4936427.7282],\n",
       "   [536975.942, 4936306.1524],\n",
       "   [537019.2293, 4936283.4942],\n",
       "   [537047.1895, 4936281.0843],\n",
       "   [537087.761, 4936296.5125],\n",
       "   [537136.02, 4936296.737],\n",
       "   [537179.3067, 4936271.5324],\n",
       "   [537255.9075, 4936185.5277],\n",
       "   [537309.4015, 4936152.755],\n",
       "   [537327.1948, 4936150.2951],\n",
       "   [537370.2111, 4936186.0525],\n",
       "   [537390.4916, 4936193.7601],\n",
       "   [537413.3711, 4936191.3373],\n",
       "   [537487.1798, 4936158.6463],\n",
       "   [537522.7465, 4936156.275],\n",
       "   [537548.108, 4936164.0125],\n",
       "   [537553.8726, 4936154.7816],\n",
       "   [537635.1077, 4936024.7083],\n",
       "   [537638.1272, 4935923.1146],\n",
       "   [537653.4869, 4935897.7881],\n",
       "   [537735.033, 4935839.7587],\n",
       "   [537763.0334, 4935827.1769],\n",
       "   [537798.5735, 4935832.4198],\n",
       "   [537808.5362, 4935873.112],\n",
       "   [537846.4133, 4935924.0831],\n",
       "   [537874.3011, 4935934.3694],\n",
       "   [537902.2717, 4935926.8756],\n",
       "   [537948.1831, 4935886.4583],\n",
       "   [538021.8415, 4935886.7863],\n",
       "   [538064.8707, 4935920.0083],\n",
       "   [538146.1699, 4935915.3024],\n",
       "   [538141.1817, 4935894.9523],\n",
       "   [538029.7461, 4935823.3155],\n",
       "   [538017.1896, 4935792.7829],\n",
       "   [538014.8642, 4935747.0475],\n",
       "   [538040.4902, 4935696.3663],\n",
       "   [538145.1745, 4935582.5588],\n",
       "   [538193.9044, 4935478.6277],\n",
       "   [538224.5855, 4935435.5973],\n",
       "   [538331.7024, 4935339.573],\n",
       "   [538337.1201, 4935268.4823],\n",
       "   [538362.7805, 4935212.715],\n",
       "   [538398.4414, 4935190.0209],\n",
       "   [538439.3334, 4935136.862],\n",
       "   [538495.3566, 4935104.1065],\n",
       "   [538503.217, 4935050.789],\n",
       "   [538482.9742, 4935035.4578],\n",
       "   [538434.7703, 4935022.5454],\n",
       "   [538343.2717, 4935034.8226],\n",
       "   [538328.0999, 4935019.5145],\n",
       "   [538323.5505, 4934905.1908],\n",
       "   [538333.9516, 4934854.4431],\n",
       "   [538324.0187, 4934803.5899],\n",
       "   [538331.8938, 4934750.2945],\n",
       "   [538370.2018, 4934704.7402],\n",
       "   [538400.7539, 4934689.636],\n",
       "   [538428.7057, 4934687.2245],\n",
       "   [538497.18, 4934707.8626],\n",
       "   [538563.3228, 4934687.8461],\n",
       "   [538664.9958, 4934673.0777],\n",
       "   [538708.1689, 4934673.2835],\n",
       "   [538720.8246, 4934683.4972],\n",
       "   [538720.59, 4934734.2977],\n",
       "   [538705.2089, 4934764.7092],\n",
       "   [538720.316, 4934795.2583],\n",
       "   [538743.1397, 4934800.4378],\n",
       "   [538827.029, 4934785.588],\n",
       "   [538951.3296, 4934821.7246],\n",
       "   [539042.8525, 4934804.3685],\n",
       "   [539070.7134, 4934822.2726],\n",
       "   [539060.1858, 4934900.9596],\n",
       "   [539126.1309, 4934921.5817],\n",
       "   [539151.3891, 4934952.1857],\n",
       "   [539156.3755, 4934975.0619],\n",
       "   [539196.8334, 4935013.356],\n",
       "   [539240.0298, 4935008.4631],\n",
       "   [539240.2027, 4934972.9027],\n",
       "   [539301.5219, 4934894.4497],\n",
       "   [539299.5091, 4934777.593],\n",
       "   [539264.1325, 4934739.329],\n",
       "   [539246.5731, 4934690.9905],\n",
       "   [539231.4232, 4934673.1403],\n",
       "   [539157.8933, 4934644.8585],\n",
       "   [539158.1862, 4934578.8177],\n",
       "   [539120.1909, 4934558.3269],\n",
       "   [538993.2497, 4934545.0543],\n",
       "   [538962.8058, 4934534.7553],\n",
       "   [538932.4432, 4934511.7565],\n",
       "   [538879.1692, 4934496.263],\n",
       "   [538805.5512, 4934488.298],\n",
       "   [538785.2814, 4934475.5132],\n",
       "   [538729.9201, 4934363.4997],\n",
       "   [538712.396, 4934307.5426],\n",
       "   [538676.9732, 4934276.8946],\n",
       "   [538623.6322, 4934276.6581],\n",
       "   [538590.4971, 4934301.8988],\n",
       "   [538580.1937, 4934334.8735],\n",
       "   [538630.6448, 4934411.2952],\n",
       "   [538630.436, 4934457.0156],\n",
       "   [538615.069, 4934482.3546],\n",
       "   [538579.3741, 4934512.6677],\n",
       "   [538503.0994, 4934525.0185],\n",
       "   [538399.0169, 4934511.8267],\n",
       "   [538345.6045, 4934529.3727],\n",
       "   [538312.4717, 4934554.6148],\n",
       "   [538281.9483, 4934562.0918],\n",
       "   [538215.9091, 4934561.7911],\n",
       "   [538170.0324, 4934597.1414],\n",
       "   [538185.1361, 4934625.1491],\n",
       "   [538233.324, 4934643.1471],\n",
       "   [538248.452, 4934666.0749],\n",
       "   [538258.4094, 4934709.3152],\n",
       "   [538258.1591, 4934765.1884],\n",
       "   [538252.9888, 4934785.486],\n",
       "   [538230.0308, 4934805.701],\n",
       "   [538133.5799, 4934790.0257],\n",
       "   [538075.4108, 4934736.4086],\n",
       "   [538090.853, 4934693.2955],\n",
       "   [538080.8304, 4934662.7704],\n",
       "   [538045.3918, 4934634.6658],\n",
       "   [537999.6624, 4934636.9969],\n",
       "   [537780.8555, 4934717.2677],\n",
       "   [537696.7255, 4934782.9241],\n",
       "   [537597.5293, 4934810.4076],\n",
       "   [537544.0105, 4934850.7981],\n",
       "   [537465.0817, 4934891.0792],\n",
       "   [537266.2241, 4935050.1883],\n",
       "   [537146.5923, 4935102.9695],\n",
       "   [537067.5266, 4935173.7283],\n",
       "   [536927.6818, 4935206.1143],\n",
       "   [536861.5208, 4935231.2053],\n",
       "   [536774.7104, 4935329.8645],\n",
       "   [536751.8099, 4935337.3771],\n",
       "   [536706.1368, 4935327.0098],\n",
       "   [536673.2709, 4935293.8471],\n",
       "   [536658.2705, 4935242.9753],\n",
       "   [536628.0151, 4935194.5723],\n",
       "   [536595.3533, 4935115.6822],\n",
       "   [536554.7965, 4935095.1845],\n",
       "   [536529.3147, 4935115.3764],\n",
       "   [536511.291, 4935168.6389],\n",
       "   [536478.11, 4935201.5028],\n",
       "   [536437.3563, 4935229.2516],\n",
       "   [536406.5436, 4935297.6979],\n",
       "   [536396.162, 4935345.9012],\n",
       "   [536398.0149, 4935495.7767],\n",
       "   [536379.997, 4935546.4921],\n",
       "   [536313.3641, 4935675.7296],\n",
       "   [536259.6811, 4935749.1434],\n",
       "   [536180.5853, 4935827.5182],\n",
       "   [536091.0687, 4935959.1851],\n",
       "   [536034.601, 4936085.9271],\n",
       "   [535812.2702, 4936379.5523],\n",
       "   [535704.7796, 4936554.3215],\n",
       "   [535497.8197, 4936817.5165],\n",
       "   [535472.2227, 4936860.58],\n",
       "   [535423.0819, 4937053.4023],\n",
       "   [535399.9881, 4937101.5674],\n",
       "   [535328.5216, 4937177.4319],\n",
       "   [535249.161, 4937311.6761],\n",
       "   [535185.3443, 4937379.9561],\n",
       "   [535159.621, 4937450.9685],\n",
       "   [535118.8193, 4937486.3381],\n",
       "   [534976.2191, 4937561.8878],\n",
       "   [534843.6416, 4937670.5008],\n",
       "   [534802.7361, 4937728.7326],\n",
       "   [534746.5676, 4937789.4302],\n",
       "   [534723.4263, 4937852.8231],\n",
       "   [534585.7558, 4937958.8666],\n",
       "   [534557.646, 4937996.8401],\n",
       "   [534537.0882, 4938047.5545],\n",
       "   [534542.0859, 4938067.8944],\n",
       "   [534567.3642, 4938093.4154],\n",
       "   [534597.8199, 4938098.6285],\n",
       "   [534641.1683, 4938060.7293],\n",
       "   [534671.6044, 4938073.5778],\n",
       "   [534671.4299, 4938109.1307],\n",
       "   [534643.2327, 4938167.4241],\n",
       "   [534668.3985, 4938215.7908],\n",
       "   [534647.9628, 4938243.6373],\n",
       "   [534627.6072, 4938248.6308],\n",
       "   [534579.415, 4938235.6951],\n",
       "   [534480.751, 4938148.8949],\n",
       "   [534440.2015, 4938128.3955],\n",
       "   [534384.313, 4938130.6756],\n",
       "   [534335.9251, 4938158.3895],\n",
       "   [534234.2809, 4938168.0785],\n",
       "   [534180.777, 4938200.854],\n",
       "   [534019.8969, 4938388.0698],\n",
       "   [533930.6035, 4938474.0236],\n",
       "   [533805.6361, 4938580.1352],\n",
       "   [533749.4421, 4938650.9868],\n",
       "   [533728.9297, 4938691.5361],\n",
       "   [533698.3361, 4938714.2599],\n",
       "   [533650.0294, 4938726.7387],\n",
       "   [533599.2624, 4938718.8697],\n",
       "   [533439.1506, 4938738.4579],\n",
       "   [533373.1723, 4938725.4615],\n",
       "   [533332.6833, 4938692.254],\n",
       "   [533262.0029, 4938595.4118],\n",
       "   [533105.1804, 4938452.4448],\n",
       "   [533038.5581, 4938418.7503],\n",
       "   [533034.2201, 4938416.5583],\n",
       "   [532932.5822, 4938426.2529],\n",
       "   [532907.1006, 4938443.9187],\n",
       "   [532911.8707, 4938509.9778],\n",
       "   [532924.3218, 4938565.9155],\n",
       "   [532926.3665, 4938672.6095],\n",
       "   [532950.7434, 4938893.6987],\n",
       "   [532947.7734, 4938987.6742],\n",
       "   [532940.0905, 4939000.3281],\n",
       "   [532937.3526, 4939043.5031],\n",
       "   [532909.1486, 4939101.7817],\n",
       "   [532850.5108, 4939147.2351],\n",
       "   [532786.9388, 4939162.1756],\n",
       "   [532763.8025, 4939223.0428],\n",
       "   [532766.016, 4939291.6289],\n",
       "   [532740.5435, 4939309.2955],\n",
       "   [532671.992, 4939303.906],\n",
       "   [532631.2223, 4939331.6488],\n",
       "   [532605.8518, 4939323.9229],\n",
       "   [532583.1357, 4939293.3349],\n",
       "   [532534.8985, 4939288.027],\n",
       "   [532494.0708, 4939328.4781],\n",
       "   [532460.8063, 4939384.208],\n",
       "   [532406.7631, 4939533.8245],\n",
       "   [532388.8615, 4939559.1358],\n",
       "   [532338.127, 4939543.6787],\n",
       "   [532163.3416, 4939441.2638],\n",
       "   [532125.2297, 4939443.6221],\n",
       "   [532066.4602, 4939519.5555],\n",
       "   [532058.6822, 4939555.0855],\n",
       "   [532035.6713, 4939587.9927],\n",
       "   [532027.8778, 4939623.5228],\n",
       "   [532030.2067, 4939669.2484],\n",
       "   [532050.3002, 4939720.1422],\n",
       "   [532085.8011, 4939733.0037],\n",
       "   [532105.9663, 4939766.1174],\n",
       "   [532105.5193, 4939862.6384],\n",
       "   [532097.7761, 4939888.0009],\n",
       "   [532023.7639, 4939966.4066],\n",
       "   [532005.8327, 4939999.3391],\n",
       "   [532003.0061, 4940062.8347],\n",
       "   [532023.1833, 4940093.4007],\n",
       "   [532099.0533, 4940164.8694],\n",
       "   [532111.6128, 4940195.4127],\n",
       "   [532108.971, 4940218.2604],\n",
       "   [532027.4919, 4940258.5277],\n",
       "   [532014.7093, 4940276.2451],\n",
       "   [532062.5613, 4940365.3703],\n",
       "   [532105.9367, 4940322.3742],\n",
       "   [532128.7722, 4940327.5677],\n",
       "   [532141.1705, 4940393.6641],\n",
       "   [532166.5751, 4940393.7829],\n",
       "   [532199.6994, 4940371.0868],\n",
       "   [532281.536, 4940249.5332],\n",
       "   [532332.541, 4940206.5766],\n",
       "   [532378.3491, 4940186.4701],\n",
       "   [532411.3714, 4940186.6206],\n",
       "   [532431.369, 4940257.8358],\n",
       "   [532462.9126, 4940578.0379],\n",
       "   [532493.1603, 4940628.9619],\n",
       "   [532553.9419, 4940667.3391],\n",
       "   [532571.581, 4940697.909],\n",
       "   [532566.1262, 4940779.1571],\n",
       "   [532558.4792, 4940784.2062],\n",
       "   [532555.8307, 4940807.0537],\n",
       "   [532540.4707, 4940832.3848],\n",
       "   [532530.0486, 4940890.7619],\n",
       "   [532542.3299, 4940982.2522],\n",
       "   [532567.5585, 4941017.9256],\n",
       "   [532603.0159, 4941040.9576],\n",
       "   [532633.4569, 4941048.7091],\n",
       "   [532727.5234, 4941031.3665],\n",
       "   [532801.3761, 4940991.0619],\n",
       "   [532885.3274, 4940960.9698],\n",
       "   [532951.5424, 4940923.1756],\n",
       "   [533063.52, 4940877.9585],\n",
       "   [533093.9534, 4940888.267],\n",
       "   [533123.9091, 4941000.1548],\n",
       "   [533121.1421, 4941050.95],\n",
       "   [533100.6228, 4941094.034],\n",
       "   [533052.0832, 4941154.7852],\n",
       "   [533057.0412, 4941180.2041],\n",
       "   [533092.2809, 4941251.4847],\n",
       "   [533104.927, 4941261.7024],\n",
       "   [533148.1761, 4941246.661],\n",
       "   [533209.2996, 4941211.3834],\n",
       "   [533239.8148, 4941206.4451],\n",
       "   [533369.2954, 4941219.7306],\n",
       "   [533376.7959, 4941245.1703],\n",
       "   [533366.4009, 4941295.9186],\n",
       "   [533368.7457, 4941336.5723],\n",
       "   [533386.4422, 4941356.9695],\n",
       "   [533589.6731, 4941350.29],\n",
       "   [533630.3579, 4941340.3187],\n",
       "   [533693.8022, 4941353.3123],\n",
       "   [533805.5467, 4941356.3612],\n",
       "   [533846.0882, 4941376.8643],\n",
       "   [533848.5629, 4941392.1179],\n",
       "   [533868.7136, 4941430.3248],\n",
       "   [533899.1433, 4941440.615],\n",
       "   [533960.1759, 4941423.1099],\n",
       "   [533990.6668, 4941420.7151],\n",
       "   [534031.2848, 4941428.5267],\n",
       "   [534084.7801, 4941393.2172],\n",
       "   [534153.6977, 4941319.8659],\n",
       "   [534222.3717, 4941299.8635],\n",
       "   [534280.8031, 4941297.5883],\n",
       "   [534306.1908, 4941300.2407],\n",
       "   [534346.6797, 4941333.4472],\n",
       "   [534381.9584, 4941394.5748],\n",
       "   [534409.7133, 4941435.3344],\n",
       "   [534406.8443, 4941506.4346],\n",
       "   [534378.7511, 4941539.3436],\n",
       "   [534388.6255, 4941602.8839],\n",
       "   [534337.6175, 4941645.8317],\n",
       "   [534345.0868, 4941676.3452],\n",
       "   [534367.7991, 4941709.465],\n",
       "   [534517.2007, 4941811.746],\n",
       "   [534583.2916, 4941799.3614],\n",
       "   [534616.2946, 4941804.5885],\n",
       "   [534646.6827, 4941825.0498],\n",
       "   [534677.1971, 4941815.0381],\n",
       "   [534707.648, 4941822.7847],\n",
       "   [534722.8225, 4941838.0993],\n",
       "   [534743.145, 4941838.1936],\n",
       "   [534781.3594, 4941810.443],\n",
       "   [534814.6941, 4941747.09],\n",
       "   [534881.0705, 4941671.1926],\n",
       "   [534931.8479, 4941676.5097],\n",
       "   [535063.3598, 4941801.5679],\n",
       "   [535134.4224, 4941814.6021],\n",
       "   [535149.5993, 4941827.3703],\n",
       "   [535164.6591, 4941865.5463],\n",
       "   [535164.5507, 4941888.4067],\n",
       "   [535141.4873, 4941931.4706],\n",
       "   [535077.5819, 4942022.6195],\n",
       "   [535069.8401, 4942047.986],\n",
       "   [535100.1175, 4942091.3024],\n",
       "   [535107.434, 4942159.9177],\n",
       "   [535122.6239, 4942170.1531],\n",
       "   [535142.9899, 4942160.0885],\n",
       "   [535196.31, 4942162.8667]],\n",
       "  [[535438.4006, 4937586.8754],\n",
       "   [535461.2605, 4937586.9783],\n",
       "   [535473.9188, 4937594.6531],\n",
       "   [535476.2401, 4937640.38],\n",
       "   [535506.5984, 4937668.4578],\n",
       "   [535513.7598, 4937767.5606],\n",
       "   [535467.8365, 4937810.535],\n",
       "   [535452.4706, 4937838.3993],\n",
       "   [535396.3663, 4937886.3987],\n",
       "   [535355.3363, 4937972.5747],\n",
       "   [535322.1562, 4938007.9846],\n",
       "   [535258.5329, 4938033.0907],\n",
       "   [535207.7621, 4938025.2387],\n",
       "   [535177.3788, 4938004.7751],\n",
       "   [535139.6333, 4937930.9446],\n",
       "   [535129.6796, 4937885.1689],\n",
       "   [535127.5287, 4937798.8016],\n",
       "   [535158.2908, 4937737.9841],\n",
       "   [535201.6725, 4937695.0011],\n",
       "   [535270.2511, 4937695.3149],\n",
       "   [535397.501, 4937640.0234],\n",
       "   [535407.77, 4937617.2113],\n",
       "   [535438.4006, 4937586.8754]],\n",
       "  [[535834.4605, 4937626.7854],\n",
       "   [535864.8717, 4937642.172],\n",
       "   [535867.2095, 4937685.374],\n",
       "   [535856.9672, 4937703.1053],\n",
       "   [535854.134, 4937766.592],\n",
       "   [535833.6497, 4937802.0473],\n",
       "   [535800.48, 4937834.9222],\n",
       "   [535675.6864, 4937905.4599],\n",
       "   [535647.7898, 4937897.7083],\n",
       "   [535612.5538, 4937826.4363],\n",
       "   [535617.9612, 4937755.336],\n",
       "   [535641.0017, 4937714.8065],\n",
       "   [535694.5433, 4937674.4154],\n",
       "   [535725.0683, 4937664.3936],\n",
       "   [535786.0642, 4937657.0582],\n",
       "   [535834.4605, 4937626.7854]],\n",
       "  [[532281.3759, 4939736.442],\n",
       "   [532309.2684, 4939744.194],\n",
       "   [532324.2812, 4939795.0633],\n",
       "   [532367.3985, 4939807.9644],\n",
       "   [532367.1911, 4939853.6849],\n",
       "   [532356.8824, 4939884.1144],\n",
       "   [532339.0052, 4939906.8859],\n",
       "   [532298.2628, 4939927.0254],\n",
       "   [532232.322, 4939906.3982],\n",
       "   [532196.8696, 4939880.8431],\n",
       "   [532189.3535, 4939860.4777],\n",
       "   [532197.2833, 4939794.4748],\n",
       "   [532217.73, 4939766.6282],\n",
       "   [532281.3759, 4939736.442]],\n",
       "  [[533300.1157, 4940797.7775],\n",
       "   [533297.4099, 4940833.3323],\n",
       "   [533210.8042, 4940886.2737],\n",
       "   [533190.471, 4940888.7243],\n",
       "   [533185.469, 4940870.918],\n",
       "   [533205.9297, 4940840.527],\n",
       "   [533224.0238, 4940774.57],\n",
       "   [533234.2072, 4940767.002],\n",
       "   [533269.7785, 4940764.6224],\n",
       "   [533300.1157, 4940797.7775]],\n",
       "  [[533317.9391, 4940787.694],\n",
       "   [533320.8279, 4940711.5061],\n",
       "   [533348.872, 4940688.7823],\n",
       "   [533379.34, 4940691.4572],\n",
       "   [533389.406, 4940711.8299],\n",
       "   [533386.6709, 4940755.0048],\n",
       "   [533368.7479, 4940785.3935],\n",
       "   [533348.3726, 4940798.0038],\n",
       "   [533317.9391, 4940787.694]]],\n",
       " 'spatialReference': {'wkid': 26919, 'latestWkid': 26919}}"
      ]
     },
     "execution_count": 25,
     "metadata": {},
     "output_type": "execute_result"
    }
   ],
   "source": [
    "result.features[2].geometry"
   ]
  },
  {
   "cell_type": "code",
   "execution_count": 26,
   "metadata": {},
   "outputs": [],
   "source": [
    "test=result.features[2]"
   ]
  },
  {
   "cell_type": "code",
   "execution_count": 27,
   "metadata": {},
   "outputs": [],
   "source": [
    "LL2L=result.features[2]"
   ]
  },
  {
   "cell_type": "code",
   "execution_count": 28,
   "metadata": {},
   "outputs": [
    {
     "data": {
      "text/plain": [
       "arcgis.features.feature.Feature"
      ]
     },
     "execution_count": 28,
     "metadata": {},
     "output_type": "execute_result"
    }
   ],
   "source": [
    "type(LL2L)"
   ]
  },
  {
   "cell_type": "code",
   "execution_count": 29,
   "metadata": {},
   "outputs": [],
   "source": [
    "GrahamLake = LL2.query(where=\"GNIS_Name='Graham Lake'\")"
   ]
  },
  {
   "cell_type": "code",
   "execution_count": 30,
   "metadata": {},
   "outputs": [
    {
     "data": {
      "text/plain": [
       "arcgis.features.feature.FeatureSet"
      ]
     },
     "execution_count": 30,
     "metadata": {},
     "output_type": "execute_result"
    }
   ],
   "source": [
    "type(GrahamLake)"
   ]
  },
  {
   "cell_type": "code",
   "execution_count": 31,
   "metadata": {},
   "outputs": [],
   "source": [
    "GrahamLakeO = gis.content.import_data(GrahamLake, title='GrahamLake')"
   ]
  },
  {
   "cell_type": "code",
   "execution_count": 32,
   "metadata": {},
   "outputs": [],
   "source": [
    "GreenLake = LL2.query(where=\"GNIS_Name='Green Lake'\")"
   ]
  },
  {
   "cell_type": "code",
   "execution_count": 33,
   "metadata": {},
   "outputs": [],
   "source": [
    "GreenLakeO = gis.content.import_data(GreenLake, title='GrahamLake')"
   ]
  },
  {
   "cell_type": "code",
   "execution_count": 34,
   "metadata": {},
   "outputs": [],
   "source": [
    "BranchLake = LL2.query(where=\"GNIS_Name='Branch Lake'\")"
   ]
  },
  {
   "cell_type": "code",
   "execution_count": 35,
   "metadata": {},
   "outputs": [],
   "source": [
    "BranchLakeO = gis.content.import_data(BranchLake, title='BranchLake')"
   ]
  },
  {
   "cell_type": "code",
   "execution_count": null,
   "metadata": {},
   "outputs": [],
   "source": [
    "Data=r'C:\\Users\\MBPWin\\Documents\\Education - UMaine\\SIE\\510 - GIS Applications with Python\\Lab 7\\MyProject7\\MyProject7.gdb\\LakeSet'"
   ]
  },
  {
   "cell_type": "code",
   "execution_count": null,
   "metadata": {},
   "outputs": [],
   "source": [
    "out=arcpy.SelectLayerByAttribute_management(\"Data\", \"NEW_SELECTION\", \"GNIS_Name='Branch Lake'\")"
   ]
  },
  {
   "cell_type": "code",
   "execution_count": 36,
   "metadata": {},
   "outputs": [],
   "source": [
    "pts=gis.content.get('e1323412e48a48e2a533b41d631f8255')"
   ]
  },
  {
   "cell_type": "code",
   "execution_count": 37,
   "metadata": {},
   "outputs": [
    {
     "data": {
      "text/html": [
       "<div class=\"item_container\" style=\"height: auto; overflow: hidden; border: 1px solid #cfcfcf; border-radius: 2px; background: #f6fafa; line-height: 1.21429em; padding: 10px;\">\n",
       "                    <div class=\"item_left\" style=\"width: 210px; float: left;\">\n",
       "                       <a href='http://UMaineGIS.maps.arcgis.com/home/item.html?id=e1323412e48a48e2a533b41d631f8255' target='_blank'>\n",
       "                        <img src='data:image/png;base64,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' width='200' height='133' class=\"itemThumbnail\">\n",
       "                       </a>\n",
       "                    </div>\n",
       "\n",
       "                    <div class=\"item_right\"     style=\"float: none; width: auto; overflow: hidden;\">\n",
       "                        <a href='http://UMaineGIS.maps.arcgis.com/home/item.html?id=e1323412e48a48e2a533b41d631f8255' target='_blank'><b>HancockAddPts_shp</b>\n",
       "                        </a>\n",
       "                        <br/>This dataset was created for the Emergency Services Communication Bureau as a digital location and database of addressable structures and locations for mapping, emergency call routing, analysis and other related 9-1-1 applications. This dataset is updated on a daily basis and complies with NENA i3 Standards.<img src='http://UMaineGIS.maps.arcgis.com/home/js/jsapi/esri/css/images/item_type_icons/featureshosted16.png' style=\"vertical-align:middle;\">Feature Layer Collection by KateBeard\n",
       "                        <br/>Last Modified: April 08, 2021\n",
       "                        <br/>0 comments, 52 views\n",
       "                    </div>\n",
       "                </div>\n",
       "                "
      ],
      "text/plain": [
       "<Item title:\"HancockAddPts_shp\" type:Feature Layer Collection owner:KateBeard>"
      ]
     },
     "execution_count": 37,
     "metadata": {},
     "output_type": "execute_result"
    }
   ],
   "source": [
    "pts"
   ]
  },
  {
   "cell_type": "code",
   "execution_count": 38,
   "metadata": {},
   "outputs": [
    {
     "data": {
      "text/plain": [
       "arcgis.gis.Item"
      ]
     },
     "execution_count": 38,
     "metadata": {},
     "output_type": "execute_result"
    }
   ],
   "source": [
    "type(pts)"
   ]
  },
  {
   "cell_type": "code",
   "execution_count": 39,
   "metadata": {},
   "outputs": [],
   "source": [
    "ppts=pts.layers"
   ]
  },
  {
   "cell_type": "code",
   "execution_count": 40,
   "metadata": {},
   "outputs": [
    {
     "data": {
      "text/plain": [
       "list"
      ]
     },
     "execution_count": 40,
     "metadata": {},
     "output_type": "execute_result"
    }
   ],
   "source": [
    "type(ppts)"
   ]
  },
  {
   "cell_type": "code",
   "execution_count": 41,
   "metadata": {},
   "outputs": [
    {
     "ename": "NameError",
     "evalue": "name 'ppts1' is not defined",
     "output_type": "error",
     "traceback": [
      "\u001b[1;31m---------------------------------------------------------------------------\u001b[0m",
      "\u001b[1;31mNameError\u001b[0m                                 Traceback (most recent call last)",
      "\u001b[1;32m<ipython-input-41-99dd85194e1e>\u001b[0m in \u001b[0;36m<module>\u001b[1;34m\u001b[0m\n\u001b[1;32m----> 1\u001b[1;33m \u001b[0mPoints\u001b[0m \u001b[1;33m=\u001b[0m \u001b[0mgis\u001b[0m\u001b[1;33m.\u001b[0m\u001b[0mcontent\u001b[0m\u001b[1;33m.\u001b[0m\u001b[0mimport_data\u001b[0m\u001b[1;33m(\u001b[0m\u001b[0mppts1\u001b[0m\u001b[1;33m,\u001b[0m \u001b[0mtitle\u001b[0m\u001b[1;33m=\u001b[0m\u001b[1;34m'Points'\u001b[0m\u001b[1;33m)\u001b[0m\u001b[1;33m\u001b[0m\u001b[1;33m\u001b[0m\u001b[0m\n\u001b[0m",
      "\u001b[1;31mNameError\u001b[0m: name 'ppts1' is not defined"
     ]
    }
   ],
   "source": [
    "Points = gis.content.import_data(ppts1, title='Points')"
   ]
  },
  {
   "cell_type": "code",
   "execution_count": 43,
   "metadata": {},
   "outputs": [],
   "source": [
    "GrahamLakeI=gis.content.get('22d75561b2654726a0775033f192523a')"
   ]
  },
  {
   "cell_type": "code",
   "execution_count": 44,
   "metadata": {},
   "outputs": [],
   "source": [
    "GreenLakeI=gis.content.get('5d0b8ac90a114695891b61553fd8e3d6')"
   ]
  },
  {
   "cell_type": "code",
   "execution_count": 45,
   "metadata": {},
   "outputs": [],
   "source": [
    "BranchLakeI=gis.content.get('e15d28c8e77243cbb68b52208ff4d90f')"
   ]
  },
  {
   "cell_type": "code",
   "execution_count": 46,
   "metadata": {},
   "outputs": [
    {
     "data": {
      "text/html": [
       "<div class=\"item_container\" style=\"height: auto; overflow: hidden; border: 1px solid #cfcfcf; border-radius: 2px; background: #f6fafa; line-height: 1.21429em; padding: 10px;\">\n",
       "                    <div class=\"item_left\" style=\"width: 210px; float: left;\">\n",
       "                       <a href='http://UMaineGIS.maps.arcgis.com/home/item.html?id=22d75561b2654726a0775033f192523a' target='_blank'>\n",
       "                        <img src='data:image/png;base64,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' width='200' height='133' class=\"itemThumbnail\">\n",
       "                       </a>\n",
       "                    </div>\n",
       "\n",
       "                    <div class=\"item_right\"     style=\"float: none; width: auto; overflow: hidden;\">\n",
       "                        <a href='http://UMaineGIS.maps.arcgis.com/home/item.html?id=22d75561b2654726a0775033f192523a' target='_blank'><b>GrahamLake</b>\n",
       "                        </a>\n",
       "                        <br/><img src='http://UMaineGIS.maps.arcgis.com/home/js/jsapi/esri/css/images/item_type_icons/featureshosted16.png' style=\"vertical-align:middle;\">Feature Layer Collection by brendan.hall_UMaineGIS\n",
       "                        <br/>Last Modified: April 17, 2021\n",
       "                        <br/>0 comments, 2 views\n",
       "                    </div>\n",
       "                </div>\n",
       "                "
      ],
      "text/plain": [
       "<Item title:\"GrahamLake\" type:Feature Layer Collection owner:brendan.hall_UMaineGIS>"
      ]
     },
     "execution_count": 46,
     "metadata": {},
     "output_type": "execute_result"
    }
   ],
   "source": [
    "GrahamLakeI"
   ]
  },
  {
   "cell_type": "code",
   "execution_count": 47,
   "metadata": {},
   "outputs": [
    {
     "data": {
      "text/html": [
       "<div class=\"item_container\" style=\"height: auto; overflow: hidden; border: 1px solid #cfcfcf; border-radius: 2px; background: #f6fafa; line-height: 1.21429em; padding: 10px;\">\n",
       "                    <div class=\"item_left\" style=\"width: 210px; float: left;\">\n",
       "                       <a href='http://UMaineGIS.maps.arcgis.com/home/item.html?id=5d0b8ac90a114695891b61553fd8e3d6' target='_blank'>\n",
       "                        <img src='data:image/png;base64,iVBORw0KGgoAAAANSUhEUgAAAMgAAACFCAYAAAAenrcsAAAKM0lEQVR4Xu3d91sT2R4G8P0/7z7Xe71e110B6aCIBcESIh1CCU2RXkMgtAACoagUsReKqOCygHLX3t6bMywQZsjJgLCQ5P08z/fRJ5nM5IfzMnNmzjn5CUTk1k/qF4hoHQNCJMGAEEkwIEQSDAiRBANCJMGAEEkwIEQSDAiRBANCJMGAEEkwIEQSDAiRBANCJMGAEEkwIEQSDAiRBANCJMGAEEkwIEQSDAiRBANCJMGAEEkwIEQSDAiRBANCJMGAEEkwIEQSDAiRBANCJMGAEEkwIEQSDAiRBANCJMGAEEkwIEQSDAiRBANCJMGAEEn4bEC+ffuG6Wcz+PTpE75+/Yp3796pNyHyyGcDMjc3h4NxFhw5b8GJ7B4EJdsRn92EBFMDenr7lNAQeeKzAamzNCO66CGOFz/WVFD6IAw5tfj+/bv6Y4rJySlMTc8oZyERpj//fKvehPyEzwZkZOwuwnNva8KxWhHmO7hadx3DY/dQ32xXwrAamIpqC8JNQzid14uo3BFkFDfxEs1P+WxARGM/ntasCYZrhWYNITSjD6HZI85tWxCT0Yr8qm6MjI5uCFeoaRgHTlejsLINnz9/Vh+KfJjPBkQos3RrQuGpwnLHEGSwaF4XFZ53Gxez69SHIR/m0wFZXFxEqLFe09B/pJIKW9jB9yM+HRBhdu4VogzXEGm+q2ns26kQ5+XWzZs31YchH+XzARFEv8FgqtA0dr0VXfRI+fd8XitaOgfx/v179SHIR/lFQISenh5E5t/TNH49FRJfhMLqLryaX1Dvlnyc3wTE3u1AZMH2ApJ2tUO9O/ITfhOQKtuQpuHrrV/OXHX7UFH44uy0f/rE27++yG8C8nRiEkcMbZrGr6fEk/fRsdvqXSqu1vfg9IU0BBsbMXz7gfpt8nJ+ExAhq9Suafx6K/x8IZaX/6fs58uXL5h39kc6rg8iIr0LUQX3lW1qW2+ojkjezq8CUllr1TR8vSXGdQUntSLy0jWEGOoQnN6HiPyNt45DU+24bG7AwCCD4iv8KiCzs7M4cqlV0/h3ukIzB5CQbcHCwqL6K5CX8auACJ3XHci6YoXRbEWgsQWR5nFNA9+pCktuxtCNjQ8VRWdfXKKRd/C7gLj68OED7M7AhKeunFXCUjsQmWxxngEG1/oV7irKeXkVm1yJ7HI7MkvaEZLYgLAs7Z2yoMRGTExOrR1zeHgY4ZdKsbj0eu012r/8OiCrZl7M4pzJiuzSVmUG4tTUFPqGxpBZbEFIfCEOna1yNvZHCM8ZQXBKJ44nlqJ7YGzDmCxxVnjw6AmCL65s6xqSrLLutW0uZ13BkbB4hBpqdvyJ/OvXrzlObIcxIC7EnJDN9A6No9zqwJOJabx9K588NT8/j6D4kg0h+fepCiwvLyuXV7FpdYhMa0WAsRUxicVYWNyZM4kInxhpfNrUgv4bY+q3aZsYkF2wsLCEyFTbWkDEWK5f48pg6+xXAhSbuj7C+FRSCV68fKXexZaJM9/Rs1eUfYo7bIO3xtWb0DYwILvkfH7nhsssUeLu1p27D5QRxqv9nmPp/QjJ6EdKXgU+fvyo3s2WmK+tzGP5Z3Q+fkloQM/AqHoT2iIGZJcEndeOHg7LGUVVXRPG7zk7+eltG95TBlKmNOD1m2X1rnQzFK48CK1utCPKWKUEMtlcy7tmP4AB2SXmUivCs4c1IQnPG5fOlTcWtLjtC3lywbwSOkNODSxNbQjJuqXMg0kvtqo3JZ0YkF3U7biFwOQuTQhkJUYci7tnTydntjz/vaDmurKP6MKHzku3wbV9Ho6r4FlkmxiQXdbSNYT/xOQjOGMAUYUPNIHYrMQzmBDTLcRnVusOydLSEo4aOzT7EmXI3/5Zyd8xIH8D8dd7+tlz1FvbcC7HpoRF3Yg3q2hnoLKuNOhq3AsLC/jVqL0xICoy/y5yiqvUHyEdGJC/mWjswyNjCEju0TTkzSo484byfMPTulxiv5fyrG7PUvEm9kO2gwHZI6cy9I8sFn2KqJQmtHUPSSduiaEzCXltms+Lik2pwe+cMrxlDMgemZh6hoi0zfsM7kqsqGIuqVeWM1IbGX+I8sYeRKW3az63WoW1feqPkQcMyB7q6hlEUFq/piHLSvQnjhqaMTS88Um5sdjz3bK8ypUxYaQfA7LH4nPWh6RspQIut6O8oUu5ASAGKK4MktRu51onM2zKkBTSjwHZY5nFjW5XofdU4mwSndoIi60TjsFh5flJWPZNzXarJTrwB2OK0HeD47T0YkD2mHh+cSG7zuP8E1lFFTxAeI4ISCN6BsdwPM2mLMztbh0wMd+loaVX/VVoEwzIPiAuey5kVmoa8lYrMLUPjx4/VS65Hj+ZgCm/FMGZ2klcosSI34Gbm6/UQusYkH1iZuY5DsfXaRryVismpRYnEq8q04nFzzao33etY0abEiRyjwHZR2z2fulAxp2qCJeFvCOTrfiDi0u4xYDsI+JpeEDcFRz/a7Hs3aq4pEIEZ6135qOdfZZnz1+qvw6BAdl3FhZFp11MfNqdkAQYbMqsxjOmlg2vB1+2obS2XTk+rWNA9qE3b5ZRVNmKOFPzhsuhnShxt0xcVh2ILde8J243H4qrxuidx+qv5LcYkH1M3I1Kyq1CUPrmo38DjG04fM7zA8KtVmKRXf1V/BYDss+tjv41l9mcgdh4WSQWgwhMdWga+Op76tf0VmBKL6anp9VfxS8xIF5i/o8lxJv1Lb4dfbEIRRVWt2ceWYlgXTTVckjKXxgQL5Fc3IYDJ0txVMc8ksBLFkxOzyA2Q/4z2JvVsYwhZeE8WsGAeIn79x/i56CLiDGKRem0DVtdvyW242BkuuZ1T3UijROrXDEgXuSaxYG03BIEG/VNthITrdSveaoy64D6sH6NAfEiNQ02lNc0wtE/gP+erXA7vfZH6mx6tbKAnWzmoj9hQLzI3NwcbDab8v/FxSUk5Og7k+gpsYqK+Km5I4Z2/COqAP8KTURKVhGamlv8ekFsBsTLuP5lb+/ocDukXW+dyulCUmaRMgp4du53TT1/8YIBIe907949nMl3IDa3d9PfJtFTJfXX1bslFwyIlxMPEsVf+D5HP6Iz9D0nca3AhHL1LskFA+JDnj6dwK8JtZoQyOpEqkW9G3LBgPiYhma7MlddHYTNSqzcWGNzqHdBLhgQHyMutw6dLNSEQV0R5js4m1rOISUeMCA+qKy+Q7oIREi6A4XlTXzWoQMD4oNEw08takbQJj+9IH4zpLGNKyzqxYD4MMfQqLLSiVj1/eeYUkRl2HGtqkm9GUkwID6urrkLL1/OKreDeUm1dQwIkQQDQiTBgBBJMCBEEgwIkQQDQiTBgBBJMCBEEgwIkQQDQiTBgBBJMCBEEgwIkQQDQiTBgBBJMCBEEgwIkQQDQiTBgBBJMCBEEgwIkQQDQiTBgBBJMCBEEgwIkQQDQiTBgBBJMCBEEgwIkQQDQiTBgBBJMCBEEgwIkQQDQiTBgBBJ/B8zpA9lw76MBAAAAABJRU5ErkJggg==' width='200' height='133' class=\"itemThumbnail\">\n",
       "                       </a>\n",
       "                    </div>\n",
       "\n",
       "                    <div class=\"item_right\"     style=\"float: none; width: auto; overflow: hidden;\">\n",
       "                        <a href='http://UMaineGIS.maps.arcgis.com/home/item.html?id=5d0b8ac90a114695891b61553fd8e3d6' target='_blank'><b>Green_Lake</b>\n",
       "                        </a>\n",
       "                        <br/><img src='http://UMaineGIS.maps.arcgis.com/home/js/jsapi/esri/css/images/item_type_icons/featureshosted16.png' style=\"vertical-align:middle;\">Feature Layer Collection by brendan.hall_UMaineGIS\n",
       "                        <br/>Last Modified: April 17, 2021\n",
       "                        <br/>0 comments, 3 views\n",
       "                    </div>\n",
       "                </div>\n",
       "                "
      ],
      "text/plain": [
       "<Item title:\"Green_Lake\" type:Feature Layer Collection owner:brendan.hall_UMaineGIS>"
      ]
     },
     "execution_count": 47,
     "metadata": {},
     "output_type": "execute_result"
    }
   ],
   "source": [
    "GreenLakeI"
   ]
  },
  {
   "cell_type": "code",
   "execution_count": 48,
   "metadata": {},
   "outputs": [
    {
     "data": {
      "text/html": [
       "<div class=\"item_container\" style=\"height: auto; overflow: hidden; border: 1px solid #cfcfcf; border-radius: 2px; background: #f6fafa; line-height: 1.21429em; padding: 10px;\">\n",
       "                    <div class=\"item_left\" style=\"width: 210px; float: left;\">\n",
       "                       <a href='http://UMaineGIS.maps.arcgis.com/home/item.html?id=e15d28c8e77243cbb68b52208ff4d90f' target='_blank'>\n",
       "                        <img src='data:image/png;base64,iVBORw0KGgoAAAANSUhEUgAAAMgAAACFCAYAAAAenrcsAAAKHElEQVR4Xu3d+VsTSR4G8Pkzd599dp7R1RkVRJBLZbh8VkEJhwl3OAcE5JZA5EYuue9LUJ9RZ1wFBbxvfTfVKCQVqSQGSEfez/N8HzWB6l/qtbu6qqt/AhFt6yf5AyLawoAQKTAgRAoMCJECA0KkwIAQKTAgRAoMCJECA0KkwIAQKTAgRAoMCJECA0KkwIAQKTAgRAoMCJECA0KkwIAQKTAgRAoMCJECA0KkwIAQKTAgRAoMCJECA0KkwIAQKTAgRAoMCJECA0KkwIAQKTAgRAoMCJECA6IzAwMDiIuLw/r6uvwV+QADojOZV/pwungJKZnF8lfkAwyIzphL6xFZMI/w7CGcze/F0Pi8/CO0hxgQH/n48SOeP3+Bufl5LC4ubX5+c3ERxy/1a2cRUcGJVXj//r3db9JeYkB8YHV1FWezrDh83oqQzFEEXmjAnTt3cLmmBaEZW+EQJc4mVY09chO0RxgQH6huaNU6vkMQMnoQnDmy+e9TRYuIMjXhcl0nB+w+xID4wP379xGQ2uMQkK1aRGjiZXT2T+DVq1fyr9IeY0B2wadPnzbrpa2Tp+bVI7OiG6NjY9r3y8vLOJbctXkJddp2tvgakPjsFrx+/VpqkXyFAdkhXwfStc03EJ3bgxhzn+3PXoQau3CqcEHr/FGZHUjJKkVkSu1mIGKNNbhotiAsZ8L2eQ3u/fU/qWXyJQZkB3T3DSIw8SrCbJdGYaaNM4O7FZoziTOJZkxNTWl3tkhfGJDv8GR1DU+fPdv8998PHiLcdN2p87tT4XmzOBpbiFu3btkdgfSCAfHQysoKAg2tCEzpRHJRO4bGpvH582dEZ1xz6vzu1OGEa1hbW5MPQzrBgHhI/E8fYnc7NjJ3DLEZjfjPuSb8Gp0PcRdKDoGqfrvYztu4OsaAeEjcmTp2rtqpo4tg/PP4RYTE537ju+3ryLk6vHv3Tj4M6QQD4qHBsTmcMG4sKPxWBZtuOH2mqrM5rfIhSEcYEA+FJm3dot2JErPlpF8MiAtiAP74yar297dv3+Ln6CqnTu5NHYwqdDwg6QoD4oIxvwYH42swOjmPx48f44htUC13cm/q18QW3sXSMQbEhaIKi7Zw8HR6GyKizyOiYM6pk3tTYqlJc3OLfFjSCQZEQcxsRxjs71h5dgvX3Sqt4UBdrxgQhRcvXuDfZ0o3OrLdgsKdrqwyBkSvGBAXrO03EJTcisqGTo/XWblbFU1D8mFJJxgQF2ZmZvFLTCVqGzsQfGm7Zzi8KwZEvxgQF2LTLVonlp8A3Mmqax2RD0s6wYC4cOmPNq0TB5v68eu5eqfOvRNV18aA6BUD4sLw6AQM+U2YW1jCtO1yKyRrzKmDe1tlDb3yYUknGBAPiFn1RHMTTpp6EJ41iJ267ZuQ36a1TfrDgHhIPC8ulqfPzs467F/lTYWbp1F1lbd69YgB+U7if/xaazcOn2tw6vDfU7Hpjdq8C+kLA+Kl3IpOp87+PXWq8CbOmqrk5snHGBAvVTVvPV3obYlLtvYezonoCQPiJXOl4+x6ZOGCthGDtsDxGyFwVceS2vDo0SP5MOQjDIiXjGW9m507NGtU2193bGoB19p7kZRTu7knlrsVkT8HazMH7HrBgHjJVL5xJyssd8o2Hml3+O7Dhw+4mGf1eBY+6EIt1tafOrRFvsGAeCnGWIeQ9BsorrRqGzrIxIYMqflXbWeGWacgbFfi8uxCXgvnRnSAAfGSeBrw4fJj+WMH4kySVtTs0bgkMK0XMzMzclO0xxiQPSKeZz9jKHd4ruSkqRth2aMOwTh03or4tDKcSB/UJiPJtxiQPSTONsXVbUi0XT5FGS24d/9vHIktcgiIuAuWUtAIc0mtduYh32JAfECMLUTnj0o0IyrHcbnKqaKbOGFoQkJaHkYnZmDMKcHo5BzD4iMMiA+1dY8gxCRtQme0aktOrtQ1I8i4sQldQHIHogwleP78udwE7TIGxMda27tw/EsQRKWVbryPUGwYkVpo1V6P0N3TB0N2BZKyq7XvxILJN2/e2DdDu4QB0YG03PLNuZIggxWTs0t4+PChtmr4l7g6FFc04OXLlwg4naxtYpdTUo+qpj65GdoFDIgOiPGFsciC4IxhLSTheTM4nmK7rLpYpAUnwjyFk8mNOGMbr5TWX4flWjuKazrlZmgXMCA6ISYZre19CE1pdByTSHUwrgr9A0P4R0gmegYmeKm1yxgQnbl37z4CklqcgmFfEaZ2BKT2ameWQ7FlGBqfk5uhHcKA6FBlfQtCcyedgrFdibddDY9zUnE3MCA6JC634oxiy1P3l6aEpVr5Ip5dwIDo1OraGoINVqcgbFdiMeTw8LDcDHmJAdExU2mHUxC2K3EH7Pbt23IT5CUGRMeaOoa0B6jkMHyrjhq68OTJE7kJ8hIDomNiLJKYK7Y+dT0WEQFZXl6WmyAvMSA6t77+FOEprrcWEktSOAbZeQyIH+jvv4GT6a7fnhtrrMHyCi+zdhID4icKqrvceiIxJPEKZ9d3EAPiJ8QS+Mg09TIUUSJEaQUWDI4v4OGjFbkZ8hAD4kcGBgYRlOrGW65sIRE7NZ5MqsXM3E1tKcrq6sarrMkzDIifqbH2ILLA/b22wvOmtRXBRy40Y/7mktwcucCA+BmxnOR4Qo1TENypr696Ew9jkXsYED9kaelBSKbjbiju1JmMDoyMTeJARDpMJc04GvI7nj17JjdPdhgQP5VdYnF7lt2+QnMmICYeT2aPY3hkXG6WJAyInxI7oyTkqZ8bcVUZRXVysyRhQPxY38CYR8+NyCU2p+sfnpKbJTsMiB8Tu5sciPfuzbvBCeV48OCB3DR9wYD4MbHZw4HoMq2jR+QMIzSlSdt4Tg6BqwqMzZGbpi8YED9XUH0dEXmzKL96XVtiEmMoRsAFy5fBuHMYvlU/R1fi7r2/5KYJDMgPwZhfg5WVrWUlYgBfdKUJAYY2h82yVRVubMXirT+3GiUNA/IDExvP/Z5UjDDztFMg7OtY8nVklndieuGO3IRmfPqmy1c8/KgYkH0gq6gGwfIewHb1W+wf8q9s6h+ZRZChGTnljm/P2i8YkH1CPEyVVtrtEJSI7EGczbyKozH5Dj87PrMES/sQzNW9iMraWBz539wWh5/ZLxiQfaa3txdpJV0IT7+Owtp+7Rbvv86UIeNyG8xVPejon0JsjuO730+kdmB4Yl5ual9gQPYp8cYrUbllVoSktmpLT8Rju/aDerFTyqH4KjS0Dcq/vm8wIKQFRbwPUbzy7WiMGWFZw8gobdFm6vc7BoQ2idvDp9MsyCzvkr/atxgQcmBpG8Ddu3flj/ctBoRIgQEhUmBAiBQYECIFBoRIgQEhUmBAiBQYECIFBoRIgQEhUmBAiBQYECIFBoRIgQEhUmBAiBQYECIFBoRIgQEhUmBAiBQYECIFBoRIgQEhUmBAiBQYECIFBoRIgQEhUvg/XjheKJewKkcAAAAASUVORK5CYII=' width='200' height='133' class=\"itemThumbnail\">\n",
       "                       </a>\n",
       "                    </div>\n",
       "\n",
       "                    <div class=\"item_right\"     style=\"float: none; width: auto; overflow: hidden;\">\n",
       "                        <a href='http://UMaineGIS.maps.arcgis.com/home/item.html?id=e15d28c8e77243cbb68b52208ff4d90f' target='_blank'><b>BranchLake</b>\n",
       "                        </a>\n",
       "                        <br/><img src='http://UMaineGIS.maps.arcgis.com/home/js/jsapi/esri/css/images/item_type_icons/featureshosted16.png' style=\"vertical-align:middle;\">Feature Layer Collection by brendan.hall_UMaineGIS\n",
       "                        <br/>Last Modified: April 17, 2021\n",
       "                        <br/>0 comments, 2 views\n",
       "                    </div>\n",
       "                </div>\n",
       "                "
      ],
      "text/plain": [
       "<Item title:\"BranchLake\" type:Feature Layer Collection owner:brendan.hall_UMaineGIS>"
      ]
     },
     "execution_count": 48,
     "metadata": {},
     "output_type": "execute_result"
    }
   ],
   "source": [
    "BranchLakeI"
   ]
  },
  {
   "cell_type": "code",
   "execution_count": 49,
   "metadata": {},
   "outputs": [],
   "source": [
    "from arcgis.features import use_proximity"
   ]
  },
  {
   "cell_type": "code",
   "execution_count": 50,
   "metadata": {},
   "outputs": [],
   "source": [
    "GrahamLakeIL=GrahamLakeI.layers"
   ]
  },
  {
   "cell_type": "code",
   "execution_count": 51,
   "metadata": {},
   "outputs": [],
   "source": [
    "GreenLakeIL=GreenLakeI.layers"
   ]
  },
  {
   "cell_type": "code",
   "execution_count": 52,
   "metadata": {},
   "outputs": [],
   "source": [
    "BranchLakeIL=BranchLakeI.layers"
   ]
  },
  {
   "cell_type": "code",
   "execution_count": null,
   "metadata": {},
   "outputs": [],
   "source": [
    "Grahamlake250 = use_proximity.create_buffers(GrahamLakeIL[0], distances=[250], units = 'Meters')"
   ]
  },
  {
   "cell_type": "code",
   "execution_count": null,
   "metadata": {},
   "outputs": [],
   "source": [
    "Grahamlake250L=Grahamlake250.layer"
   ]
  },
  {
   "cell_type": "code",
   "execution_count": null,
   "metadata": {},
   "outputs": [],
   "source": [
    "Greenlake250 = use_proximity.create_buffers(GreenLakeIL[0], distances=[250], units = 'Meters')"
   ]
  },
  {
   "cell_type": "code",
   "execution_count": null,
   "metadata": {},
   "outputs": [],
   "source": [
    "Branchlake250 = use_proximity.create_buffers(BranchLakeIL[0], distances=[250], units = 'Meters')"
   ]
  },
  {
   "cell_type": "code",
   "execution_count": null,
   "metadata": {},
   "outputs": [],
   "source": [
    "map1 = gis.map('Maine')\n",
    "map1"
   ]
  },
  {
   "cell_type": "code",
   "execution_count": null,
   "metadata": {},
   "outputs": [],
   "source": [
    "map1.add_layer(GrahamLakeI)"
   ]
  },
  {
   "cell_type": "code",
   "execution_count": null,
   "metadata": {},
   "outputs": [],
   "source": [
    "map1.add_layer(GreenLakeI)"
   ]
  },
  {
   "cell_type": "code",
   "execution_count": null,
   "metadata": {},
   "outputs": [],
   "source": [
    "map1.add_layer(BranchLakeI)"
   ]
  },
  {
   "cell_type": "code",
   "execution_count": null,
   "metadata": {},
   "outputs": [],
   "source": [
    "map1.add_layer(Grahamlake250)"
   ]
  },
  {
   "cell_type": "code",
   "execution_count": null,
   "metadata": {},
   "outputs": [],
   "source": [
    "map1.add_layer(Greenlake250)"
   ]
  },
  {
   "cell_type": "code",
   "execution_count": null,
   "metadata": {},
   "outputs": [],
   "source": [
    "map1.add_layer(Branchlake250)"
   ]
  },
  {
   "cell_type": "code",
   "execution_count": null,
   "metadata": {},
   "outputs": [],
   "source": [
    "map1.add_layer(pts)"
   ]
  },
  {
   "cell_type": "code",
   "execution_count": null,
   "metadata": {},
   "outputs": [],
   "source": [
    "arcpy.env.workspace=r'C:\\Users\\MBPWin\\Documents\\Education - UMaine\\SIE\\510 - GIS Applications with Python\\Lab 7\\MyProject7\\MyProject7.gdb'\n",
    "featureclasses = arcpy.ListFeatureClasses()    \n",
    "for fc in featureclasses:\n",
    "        print(fc)"
   ]
  },
  {
   "cell_type": "code",
   "execution_count": null,
   "metadata": {},
   "outputs": [],
   "source": [
    "LakeBuff = r'C:\\Users\\MBPWin\\Documents\\Education - UMaine\\SIE\\510 - GIS Applications with Python\\Lab 7\\MyProject7\\MyProject7.gdb\\LakeBuff'"
   ]
  },
  {
   "cell_type": "code",
   "execution_count": null,
   "metadata": {},
   "outputs": [],
   "source": [
    "LakeBuff1 = r'C:\\Users\\MBPWin\\Documents\\Education - UMaine\\SIE\\510 - GIS Applications with Python\\Lab 7\\MyProject7\\MyProject7.gdb\\LakeBuff1'"
   ]
  },
  {
   "cell_type": "code",
   "execution_count": null,
   "metadata": {},
   "outputs": [],
   "source": [
    "arcpy.Intersect_analysis([\"Branchlake250\" , \"pts\"], \"LakeBuff\")"
   ]
  },
  {
   "cell_type": "code",
   "execution_count": null,
   "metadata": {},
   "outputs": [],
   "source": [
    "arcpy.analysis.SummarizeWithin(\"Branchlake250\", \"pts\", \"LakeBuff1\")"
   ]
  }
 ],
 "metadata": {
  "kernelspec": {
   "display_name": "Python 3",
   "language": "python",
   "name": "python3"
  },
  "language_info": {
   "codemirror_mode": {
    "name": "ipython",
    "version": 3
   },
   "file_extension": ".py",
   "mimetype": "text/x-python",
   "name": "python",
   "nbconvert_exporter": "python",
   "pygments_lexer": "ipython3",
   "version": "3.7.9"
  }
 },
 "nbformat": 4,
 "nbformat_minor": 4
}
